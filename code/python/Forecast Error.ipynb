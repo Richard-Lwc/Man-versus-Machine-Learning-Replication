{
 "cells": [
  {
   "cell_type": "code",
   "execution_count": 1,
   "outputs": [],
   "source": [
    "import pandas as pd\n",
    "import os"
   ],
   "metadata": {
    "collapsed": false
   }
  },
  {
   "cell_type": "code",
   "execution_count": 2,
   "outputs": [],
   "source": [
    "cd = \"C:\\\\Users\\\\ASUS\\\\Desktop\\\\data\""
   ],
   "metadata": {
    "collapsed": false
   }
  },
  {
   "cell_type": "code",
   "execution_count": 3,
   "outputs": [
    {
     "data": {
      "text/plain": "['.Rhistory',\n 'A1_.csv',\n 'A1_FE.xlsx',\n 'A1_imp.csv',\n 'A1_RF.csv',\n 'A2_.csv',\n 'A2_FE.xlsx',\n 'A2_imp.csv',\n 'A2_RF.csv',\n 'correlation.csv',\n 'CVndepthA1.png',\n 'CVndepthA2.png',\n 'CVndepthQ1.png',\n 'CVndepthQ2.png',\n 'CVndepthQ3.png',\n 'CVnpercA1.png',\n 'CVnpercA2.png',\n 'CVnpercQ1.png',\n 'CVnpercQ2.png',\n 'CVnpercQ3.png',\n 'CVnpredA1.png',\n 'CVnpredA2.png',\n 'CVnpredQ1.png',\n 'CVnpredQ2.png',\n 'CVnpredQ3.png',\n 'CVNTreesA1.png',\n 'CVNTreesA2.png',\n 'CVNTreesQ1.png',\n 'CVNTreesQ2.png',\n 'CVNTreesQ3.png',\n 'FeatureImportanceA1.png',\n 'FeatureImportanceA2.png',\n 'FeatureImportanceQ1.png',\n 'FeatureImportanceQ2.png',\n 'FeatureImportanceQ3.png',\n 'FF.csv',\n 'Figure_4_6_Table1.R',\n 'FMret_avg1.xlsx',\n 'FMret_score1.xlsx',\n 'forecast.R',\n 'ipi.csv',\n 'PDP_Linear_Error_MEANEST.png',\n 'PDP_Linear_Error_past_eps.png',\n 'Q1_.csv',\n 'Q1_FE.xlsx',\n 'Q1_imp.csv',\n 'Q1_RF.csv',\n 'Q2_.csv',\n 'Q2_FE.xlsx',\n 'Q2_imp.csv',\n 'Q2_RF.csv',\n 'Q3_.csv',\n 'Q3_FE.xlsx',\n 'Q3_imp.csv',\n 'Q3_RF.csv',\n 'ret_avg_bias.xlsx',\n 'ret_port_score.xlsx',\n 'rgdp.csv',\n 'rpc.csv',\n 'Table2.doc',\n 'Table3.doc',\n 'Table5.doc',\n 'Table6A.doc',\n 'Table6B.doc',\n 'unemp.csv',\n '~$FMret_avg1.xlsx']"
     },
     "execution_count": 3,
     "metadata": {},
     "output_type": "execute_result"
    }
   ],
   "source": [
    "os.listdir(cd)"
   ],
   "metadata": {
    "collapsed": false
   }
  },
  {
   "cell_type": "code",
   "execution_count": 4,
   "outputs": [],
   "source": [
    "os.chdir(cd)"
   ],
   "metadata": {
    "collapsed": false
   }
  },
  {
   "cell_type": "code",
   "execution_count": 5,
   "outputs": [],
   "source": [
    "CRSP = pd.read_csv(\"C:\\\\Users\\\\ASUS\\\\Desktop\\\\bias\\\\all_datasets\\\\crsp_msf.csv\",usecols=['PERMNO', 'date', 'SHRCD', 'EXCHCD'], low_memory=False)"
   ],
   "metadata": {
    "collapsed": false
   }
  },
  {
   "cell_type": "code",
   "execution_count": 6,
   "outputs": [],
   "source": [
    "CRSP = CRSP[(CRSP.SHRCD.apply(lambda x: x in [10.0, 11.0])) & (CRSP.EXCHCD.apply(lambda x: x in [1, 2, 3]))].reset_index(drop=True)"
   ],
   "metadata": {
    "collapsed": false
   }
  },
  {
   "cell_type": "code",
   "execution_count": 7,
   "outputs": [],
   "source": [
    "CRSP['rankdate'] = pd.to_datetime(CRSP.date,format='%Y%m%d')\n",
    "CRSP['rankdate'] = CRSP['rankdate'].dt.to_period('M')"
   ],
   "metadata": {
    "collapsed": false
   }
  },
  {
   "cell_type": "code",
   "execution_count": 8,
   "outputs": [],
   "source": [
    "CRSP.drop(['date', 'SHRCD', 'EXCHCD'], axis=1, inplace=True)"
   ],
   "metadata": {
    "collapsed": false
   }
  },
  {
   "cell_type": "code",
   "execution_count": 9,
   "outputs": [],
   "source": [
    "#####import data of RF forecast######\n",
    "A1_RF_forecast= pd.read_csv('A1_RF.csv', low_memory=False)\n",
    "A2_RF_forecast= pd.read_csv('A2_RF.csv', low_memory=False)\n",
    "Q1_RF_forecast= pd.read_csv('Q1_RF.csv', low_memory=False)\n",
    "Q2_RF_forecast= pd.read_csv('Q2_RF.csv', low_memory=False)\n",
    "Q3_RF_forecast= pd.read_csv('Q3_RF.csv', low_memory=False)"
   ],
   "metadata": {
    "collapsed": false
   }
  },
  {
   "cell_type": "code",
   "execution_count": 10,
   "outputs": [],
   "source": [
    "start_date='1986-01'\n",
    "end_date='2021-12'\n",
    "feature_names=['predict_rf_mean','analyst_forecast','adj_actual','RF_dif','af_dif','sqr_RF_dif','sqr_af_dif','bias']\n",
    "#####meger forecast bias with CRSP######\n",
    "for horizon in ('Q1_','Q2_','Q3_','A1_','A2_'):\n",
    "    Forecast_Output = eval(horizon + 'RF_forecast').reset_index(drop=True)\n",
    "    Forecast_Output.rename(columns={'MEANEST': 'analyst_forecast'}, inplace=True)\n",
    "    output = horizon + 'FE.xlsx'\n",
    "    Forecast_Output = Forecast_Output[(Forecast_Output['rankdate'] >= start_date) & (Forecast_Output['rankdate'] <= end_date)]\n",
    "    Forecast_Output['rankdate'] = pd.to_datetime(Forecast_Output.rankdate).dt.to_period('M')\n",
    "    Forecast_Output['RF_dif'] = Forecast_Output['predict_rf_mean'] - Forecast_Output['adj_actual']\n",
    "    Forecast_Output['af_dif'] = Forecast_Output['analyst_forecast'] - Forecast_Output['adj_actual']\n",
    "    Forecast_Output['sqr_af_dif'] = Forecast_Output['af_dif'] ** 2\n",
    "    Forecast_Output['sqr_RF_dif'] = Forecast_Output['RF_dif'] ** 2\n",
    "    Forecast_Output[horizon+'dif'] = Forecast_Output['analyst_forecast'] - Forecast_Output['predict_rf_mean']\n",
    "    Forecast_Output = pd.merge(left=CRSP, right=Forecast_Output[['PERMNO','rankdate','PRC', 'predict_rf_mean','analyst_forecast','adj_actual',\n",
    "                                                                 'RF_dif','af_dif','sqr_af_dif','sqr_RF_dif',horizon+'dif']], how='inner', on=['PERMNO','rankdate'])\n",
    "    Forecast_Output['bias']= Forecast_Output[horizon + 'dif'] / Forecast_Output['PRC']\n",
    "    FE = Forecast_Output.groupby(['rankdate'])[feature_names].mean()\n",
    "    FE['count'] = Forecast_Output['predict_rf_mean'].count()\n",
    "    FE.to_excel(output)  ### Output monthly aggregate forecast errors"
   ],
   "metadata": {
    "collapsed": false
   }
  }
 ],
 "metadata": {
  "kernelspec": {
   "display_name": "Python 3",
   "language": "python",
   "name": "python3"
  },
  "language_info": {
   "codemirror_mode": {
    "name": "ipython",
    "version": 2
   },
   "file_extension": ".py",
   "mimetype": "text/x-python",
   "name": "python",
   "nbconvert_exporter": "python",
   "pygments_lexer": "ipython2",
   "version": "2.7.6"
  }
 },
 "nbformat": 4,
 "nbformat_minor": 0
}

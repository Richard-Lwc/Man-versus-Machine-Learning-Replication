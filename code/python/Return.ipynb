{
 "cells": [
  {
   "cell_type": "code",
   "execution_count": 1,
   "metadata": {
    "collapsed": true
   },
   "outputs": [],
   "source": [
    "import pandas as pd\n",
    "import numpy as np\n",
    "import seaborn as sns\n",
    "from sklearn.linear_model import LinearRegression\n",
    "import os"
   ]
  },
  {
   "cell_type": "code",
   "execution_count": 2,
   "outputs": [],
   "source": [
    "cd = \"C:\\\\Users\\\\ASUS\\\\Desktop\\\\data\""
   ],
   "metadata": {
    "collapsed": false
   }
  },
  {
   "cell_type": "code",
   "execution_count": 3,
   "outputs": [
    {
     "data": {
      "text/plain": "['.Rhistory',\n 'A1_.csv',\n 'A1_FE.xlsx',\n 'A1_imp.csv',\n 'A1_RF.csv',\n 'A2_.csv',\n 'A2_FE.xlsx',\n 'A2_imp.csv',\n 'A2_RF.csv',\n 'AverageBE.csv',\n 'AverageBE_real.csv',\n 'BE_PERMNO_DATE.csv',\n 'BE_PERMNO_DATE_real.csv',\n 'BiasAEREAL.png',\n 'BiasAFML.png',\n 'correlation.csv',\n 'CVndepthA1.png',\n 'CVndepthA2.png',\n 'CVndepthQ1.png',\n 'CVndepthQ2.png',\n 'CVndepthQ3.png',\n 'CVnpercA1.png',\n 'CVnpercA2.png',\n 'CVnpercQ1.png',\n 'CVnpercQ2.png',\n 'CVnpercQ3.png',\n 'CVnpredA1.png',\n 'CVnpredA2.png',\n 'CVnpredQ1.png',\n 'CVnpredQ2.png',\n 'CVnpredQ3.png',\n 'CVNTreesA1.png',\n 'CVNTreesA2.png',\n 'CVNTreesQ1.png',\n 'CVNTreesQ2.png',\n 'CVNTreesQ3.png',\n 'Decay_BE.png',\n 'EPS_Decision_Tree.jpg',\n 'FeatureImportanceA1.png',\n 'FeatureImportanceA2.png',\n 'FeatureImportanceQ1.png',\n 'FeatureImportanceQ2.png',\n 'FeatureImportanceQ3.png',\n 'FF.csv',\n 'Figure 5.png',\n 'Figure 9.png',\n 'Figure5.html',\n 'Figure_1_2_3_5.R',\n 'Figure_4_6_Table1.R',\n 'Figure_7.R',\n 'Figure_8.R',\n 'Figure_9.R',\n 'FMret_avg1.xlsx',\n 'FMret_score1.xlsx',\n 'forecast.R',\n 'Functions.R',\n 'ipi.csv',\n 'PDP_Linear_Error_MEANESTLinear Forecast Error.png',\n 'PDP_Linear_Error_MEANESTRealized EPS.png',\n 'PDP_Linear_Error_past_epsLinear Forecast Error.png',\n 'PDP_Linear_Error_past_epsRealized EPS.png',\n 'Q1_.csv',\n 'Q1_FE.xlsx',\n 'Q1_imp.csv',\n 'Q1_RF.csv',\n 'Q2_.csv',\n 'Q2_FE.xlsx',\n 'Q2_imp.csv',\n 'Q2_RF.csv',\n 'Q3_.csv',\n 'Q3_FE.xlsx',\n 'Q3_imp.csv',\n 'Q3_RF.csv',\n 'RandomForestRegionNoPoints.png',\n 'RandomForestRegionPoints.png',\n 'ret_avg_bias.csv',\n 'ret_avg_bias.xlsx',\n 'ret_avg_bias_equal.csv',\n 'ret_avg_bias_equal.xlsx',\n 'ret_port_score.csv',\n 'ret_port_score.xlsx',\n 'rgdp.csv',\n 'rpc.csv',\n 'Table 3.do',\n 'Table 5 and 6.do',\n 'Table2.do',\n 'Table2.doc',\n 'Table3.doc',\n 'Table5.doc',\n 'Table5_equal.doc',\n 'Table6A.doc',\n 'Table6A_equal.doc',\n 'Table6B.doc',\n 'unemp.csv',\n '~$ble5_equal.doc',\n '~$ble6A_equal.doc']"
     },
     "execution_count": 3,
     "metadata": {},
     "output_type": "execute_result"
    }
   ],
   "source": [
    "os.listdir(cd)"
   ],
   "metadata": {
    "collapsed": false
   }
  },
  {
   "cell_type": "code",
   "execution_count": 4,
   "outputs": [],
   "source": [
    "os.chdir(cd)"
   ],
   "metadata": {
    "collapsed": false
   }
  },
  {
   "cell_type": "code",
   "execution_count": 5,
   "outputs": [],
   "source": [
    "def wavg(group):\n",
    "    d = group[sort_var]\n",
    "    w = group['Mkt_value']\n",
    "    return (d * w).sum() / w.sum()"
   ],
   "metadata": {
    "collapsed": false
   }
  },
  {
   "cell_type": "code",
   "execution_count": 6,
   "outputs": [],
   "source": [
    "def avg(group):\n",
    "    d = group[sort_var]\n",
    "    return d.mean()"
   ],
   "metadata": {
    "collapsed": false
   }
  },
  {
   "cell_type": "markdown",
   "source": [
    "# Return Predictability"
   ],
   "metadata": {
    "collapsed": false
   }
  },
  {
   "cell_type": "code",
   "execution_count": 7,
   "outputs": [],
   "source": [
    "CRSP = pd.read_csv(\"C:\\\\Users\\\\ASUS\\\\Desktop\\\\bias\\\\all_datasets\\\\crsp_msf.csv\",usecols=['PERMNO', 'date', 'SHRCD', 'EXCHCD', 'RET', 'DLRET', 'SHROUT', 'PRC'], low_memory=False)"
   ],
   "metadata": {
    "collapsed": false
   }
  },
  {
   "cell_type": "code",
   "execution_count": 9,
   "outputs": [
    {
     "data": {
      "text/plain": "         PERMNO        PRC       RET     Mkt_value rankdate\n0         10000    4.37500       NaN  1.610000e+04  1986-01\n1         10000    3.25000 -0.257143  1.196000e+04  1986-02\n2         10000    4.43750  0.365385  1.633000e+04  1986-03\n3         10000    4.00000 -0.098592  1.517200e+04  1986-04\n4         10000    3.10938 -0.222656  1.179388e+04  1986-05\n...         ...        ...       ...           ...      ...\n3763449   93436  275.60999 -0.072489  8.636156e+08  2022-08\n3763450   93436  265.25000 -0.037589  8.376595e+08  2022-09\n3763451   93436  227.53999 -0.142168  7.185149e+08  2022-10\n3763452   93436  194.70000 -0.144326  6.148143e+08  2022-11\n3763453   93436  123.18000       NaN  3.889719e+08  2022-12\n\n[3763454 rows x 5 columns]",
      "text/html": "<div>\n<style scoped>\n    .dataframe tbody tr th:only-of-type {\n        vertical-align: middle;\n    }\n\n    .dataframe tbody tr th {\n        vertical-align: top;\n    }\n\n    .dataframe thead th {\n        text-align: right;\n    }\n</style>\n<table border=\"1\" class=\"dataframe\">\n  <thead>\n    <tr style=\"text-align: right;\">\n      <th></th>\n      <th>PERMNO</th>\n      <th>PRC</th>\n      <th>RET</th>\n      <th>Mkt_value</th>\n      <th>rankdate</th>\n    </tr>\n  </thead>\n  <tbody>\n    <tr>\n      <th>0</th>\n      <td>10000</td>\n      <td>4.37500</td>\n      <td>NaN</td>\n      <td>1.610000e+04</td>\n      <td>1986-01</td>\n    </tr>\n    <tr>\n      <th>1</th>\n      <td>10000</td>\n      <td>3.25000</td>\n      <td>-0.257143</td>\n      <td>1.196000e+04</td>\n      <td>1986-02</td>\n    </tr>\n    <tr>\n      <th>2</th>\n      <td>10000</td>\n      <td>4.43750</td>\n      <td>0.365385</td>\n      <td>1.633000e+04</td>\n      <td>1986-03</td>\n    </tr>\n    <tr>\n      <th>3</th>\n      <td>10000</td>\n      <td>4.00000</td>\n      <td>-0.098592</td>\n      <td>1.517200e+04</td>\n      <td>1986-04</td>\n    </tr>\n    <tr>\n      <th>4</th>\n      <td>10000</td>\n      <td>3.10938</td>\n      <td>-0.222656</td>\n      <td>1.179388e+04</td>\n      <td>1986-05</td>\n    </tr>\n    <tr>\n      <th>...</th>\n      <td>...</td>\n      <td>...</td>\n      <td>...</td>\n      <td>...</td>\n      <td>...</td>\n    </tr>\n    <tr>\n      <th>3763449</th>\n      <td>93436</td>\n      <td>275.60999</td>\n      <td>-0.072489</td>\n      <td>8.636156e+08</td>\n      <td>2022-08</td>\n    </tr>\n    <tr>\n      <th>3763450</th>\n      <td>93436</td>\n      <td>265.25000</td>\n      <td>-0.037589</td>\n      <td>8.376595e+08</td>\n      <td>2022-09</td>\n    </tr>\n    <tr>\n      <th>3763451</th>\n      <td>93436</td>\n      <td>227.53999</td>\n      <td>-0.142168</td>\n      <td>7.185149e+08</td>\n      <td>2022-10</td>\n    </tr>\n    <tr>\n      <th>3763452</th>\n      <td>93436</td>\n      <td>194.70000</td>\n      <td>-0.144326</td>\n      <td>6.148143e+08</td>\n      <td>2022-11</td>\n    </tr>\n    <tr>\n      <th>3763453</th>\n      <td>93436</td>\n      <td>123.18000</td>\n      <td>NaN</td>\n      <td>3.889719e+08</td>\n      <td>2022-12</td>\n    </tr>\n  </tbody>\n</table>\n<p>3763454 rows × 5 columns</p>\n</div>"
     },
     "execution_count": 9,
     "metadata": {},
     "output_type": "execute_result"
    }
   ],
   "source": [
    "CRSP"
   ],
   "metadata": {
    "collapsed": false
   }
  },
  {
   "cell_type": "code",
   "execution_count": 8,
   "outputs": [],
   "source": [
    "CRSP = CRSP[(CRSP.SHRCD.apply(lambda x: x in [10.0, 11.0])) & (CRSP.EXCHCD.apply(lambda x: x in [1, 2, 3]))].reset_index(drop=True)"
   ],
   "metadata": {
    "collapsed": false
   }
  },
  {
   "cell_type": "code",
   "execution_count": 9,
   "outputs": [],
   "source": [
    "CRSP.loc[CRSP.DLRET.notnull(), 'RET'] = CRSP.DLRET\n",
    "CRSP['PRC'] = abs(CRSP['PRC'])\n",
    "CRSP['Mkt_value'] = CRSP['SHROUT'] * CRSP['PRC']"
   ],
   "metadata": {
    "collapsed": false
   }
  },
  {
   "cell_type": "code",
   "execution_count": 10,
   "outputs": [],
   "source": [
    "CRSP['rankdate']=pd.to_datetime(CRSP.date,format='%Y%m%d')\n",
    "CRSP['rankdate'] = CRSP['rankdate'].dt.to_period('M')\n",
    "CRSP['RET'] = pd.to_numeric(CRSP['RET'], errors='coerce')"
   ],
   "metadata": {
    "collapsed": false
   }
  },
  {
   "cell_type": "code",
   "execution_count": 11,
   "outputs": [],
   "source": [
    "CRSP.drop(['date', 'SHRCD', 'EXCHCD', 'DLRET', 'SHROUT'], axis=1, inplace=True)"
   ],
   "metadata": {
    "collapsed": false
   }
  },
  {
   "cell_type": "code",
   "execution_count": 12,
   "outputs": [],
   "source": [
    "#####import data of RF forecast######\n",
    "A1_RF_forecast= pd.read_csv('A1_RF.csv', low_memory=False)\n",
    "A2_RF_forecast= pd.read_csv('A2_RF.csv', low_memory=False)\n",
    "Q1_RF_forecast= pd.read_csv('Q1_RF.csv', low_memory=False)\n",
    "Q2_RF_forecast= pd.read_csv('Q2_RF.csv', low_memory=False)\n",
    "Q3_RF_forecast= pd.read_csv('Q3_RF.csv', low_memory=False)"
   ],
   "metadata": {
    "collapsed": false
   }
  },
  {
   "cell_type": "code",
   "execution_count": 13,
   "outputs": [],
   "source": [
    "#####import data of Fama-French Factors######\n",
    "ff = pd.read_csv('FF.csv')\n",
    "ff['rankdate'] = pd.to_datetime(ff['Date'], format='%Y%m', errors='coerce')\n",
    "ff['rankdate'] = ff['rankdate'].dt.to_period('M')"
   ],
   "metadata": {
    "collapsed": false
   }
  },
  {
   "cell_type": "code",
   "execution_count": 16,
   "outputs": [
    {
     "data": {
      "text/plain": "        rankdate  PERMNO       PRC       RET     CFACPR  CFACSHR TICKER  \\\n0        1976-03   12490  262.0000  0.024939  16.698519     16.0    IBM   \n1        1976-04   12490  253.3750 -0.032920  16.698519     16.0    IBM   \n2        1976-05   12490  256.6250  0.019734  16.698519     16.0    IBM   \n3        1976-06   12490  276.7500  0.078422  16.698519     16.0    IBM   \n4        1976-07   12490  272.1250 -0.016712  16.698519     16.0    IBM   \n...          ...     ...       ...       ...        ...      ...    ...   \n1421071  2022-12   77699    2.7800       NaN   1.000000      1.0   ERC1   \n1421072  2022-12   84607    0.9625       NaN   1.000000      1.0   EMKR   \n1421073  2022-12   89447   29.4000       NaN   1.000000      1.0   CVGW   \n1421074  2022-12   92091    1.0500       NaN   1.000000      1.0   BLSI   \n1421075  2022-12   93397   12.2100       NaN   1.000000      1.0   LMNR   \n\n              PENDS  VALUE  past_eps  ... accrual    ptb  PEG_trailing  \\\n0        1976-12-31  15.92       NaN  ...  -0.118  3.394       1.30800   \n1        1976-12-31  15.92       NaN  ...  -0.118  3.282       1.26500   \n2        1976-12-31  15.92       NaN  ...  -0.019  3.268       1.14400   \n3        1976-12-31  15.92       NaN  ...  -0.019  3.524       1.23400   \n4        1976-12-31  15.92       NaN  ...  -0.019  3.465       1.21300   \n...             ...    ...       ...  ...     ...    ...           ...   \n1421071  2022-10-31  -0.38   -0.3000  ...  -0.034  1.656       1.45400   \n1421072  2022-09-30  -0.34    0.6700  ...  -0.148  0.304       1.45400   \n1421073  2022-10-31   0.50    0.3500  ...  -0.136  2.345       1.45400   \n1421074  2022-09-30   0.20   -1.3998  ...   0.073  0.537       1.45400   \n1421075  2022-10-31  -0.04   -0.2200  ...  -0.040  1.119      -0.92893   \n\n         divyield  PEG_1yrforward  PEG_ltgforward  adj_actual  \\\n0          2.6700             NaN             NaN       15.92   \n1          2.7600             NaN             NaN       15.92   \n2          2.7300             NaN             NaN       15.92   \n3          2.5300             NaN             NaN       15.92   \n4          2.5700             NaN             NaN       15.92   \n...           ...             ...             ...         ...   \n1421071    1.8300             NaN             NaN       -0.38   \n1421072    1.8300             NaN             NaN       -0.34   \n1421073    3.7215             NaN             NaN        0.50   \n1421074    1.8300             NaN             NaN        0.20   \n1421075    2.4600             NaN             NaN       -0.04   \n\n         Linear_Forecast  realized_linear_bias  predict_rf_mean  \n0                    NaN                   NaN              NaN  \n1                    NaN                   NaN              NaN  \n2                    NaN                   NaN              NaN  \n3                    NaN                   NaN              NaN  \n4                    NaN                   NaN              NaN  \n...                  ...                   ...              ...  \n1421071              NaN                   NaN              NaN  \n1421072              NaN                   NaN              NaN  \n1421073              NaN                   NaN              NaN  \n1421074              NaN                   NaN              NaN  \n1421075              NaN                   NaN              NaN  \n\n[1421076 rows x 89 columns]",
      "text/html": "<div>\n<style scoped>\n    .dataframe tbody tr th:only-of-type {\n        vertical-align: middle;\n    }\n\n    .dataframe tbody tr th {\n        vertical-align: top;\n    }\n\n    .dataframe thead th {\n        text-align: right;\n    }\n</style>\n<table border=\"1\" class=\"dataframe\">\n  <thead>\n    <tr style=\"text-align: right;\">\n      <th></th>\n      <th>rankdate</th>\n      <th>PERMNO</th>\n      <th>PRC</th>\n      <th>RET</th>\n      <th>CFACPR</th>\n      <th>CFACSHR</th>\n      <th>TICKER</th>\n      <th>PENDS</th>\n      <th>VALUE</th>\n      <th>past_eps</th>\n      <th>...</th>\n      <th>accrual</th>\n      <th>ptb</th>\n      <th>PEG_trailing</th>\n      <th>divyield</th>\n      <th>PEG_1yrforward</th>\n      <th>PEG_ltgforward</th>\n      <th>adj_actual</th>\n      <th>Linear_Forecast</th>\n      <th>realized_linear_bias</th>\n      <th>predict_rf_mean</th>\n    </tr>\n  </thead>\n  <tbody>\n    <tr>\n      <th>0</th>\n      <td>1976-03</td>\n      <td>12490</td>\n      <td>262.0000</td>\n      <td>0.024939</td>\n      <td>16.698519</td>\n      <td>16.0</td>\n      <td>IBM</td>\n      <td>1976-12-31</td>\n      <td>15.92</td>\n      <td>NaN</td>\n      <td>...</td>\n      <td>-0.118</td>\n      <td>3.394</td>\n      <td>1.30800</td>\n      <td>2.6700</td>\n      <td>NaN</td>\n      <td>NaN</td>\n      <td>15.92</td>\n      <td>NaN</td>\n      <td>NaN</td>\n      <td>NaN</td>\n    </tr>\n    <tr>\n      <th>1</th>\n      <td>1976-04</td>\n      <td>12490</td>\n      <td>253.3750</td>\n      <td>-0.032920</td>\n      <td>16.698519</td>\n      <td>16.0</td>\n      <td>IBM</td>\n      <td>1976-12-31</td>\n      <td>15.92</td>\n      <td>NaN</td>\n      <td>...</td>\n      <td>-0.118</td>\n      <td>3.282</td>\n      <td>1.26500</td>\n      <td>2.7600</td>\n      <td>NaN</td>\n      <td>NaN</td>\n      <td>15.92</td>\n      <td>NaN</td>\n      <td>NaN</td>\n      <td>NaN</td>\n    </tr>\n    <tr>\n      <th>2</th>\n      <td>1976-05</td>\n      <td>12490</td>\n      <td>256.6250</td>\n      <td>0.019734</td>\n      <td>16.698519</td>\n      <td>16.0</td>\n      <td>IBM</td>\n      <td>1976-12-31</td>\n      <td>15.92</td>\n      <td>NaN</td>\n      <td>...</td>\n      <td>-0.019</td>\n      <td>3.268</td>\n      <td>1.14400</td>\n      <td>2.7300</td>\n      <td>NaN</td>\n      <td>NaN</td>\n      <td>15.92</td>\n      <td>NaN</td>\n      <td>NaN</td>\n      <td>NaN</td>\n    </tr>\n    <tr>\n      <th>3</th>\n      <td>1976-06</td>\n      <td>12490</td>\n      <td>276.7500</td>\n      <td>0.078422</td>\n      <td>16.698519</td>\n      <td>16.0</td>\n      <td>IBM</td>\n      <td>1976-12-31</td>\n      <td>15.92</td>\n      <td>NaN</td>\n      <td>...</td>\n      <td>-0.019</td>\n      <td>3.524</td>\n      <td>1.23400</td>\n      <td>2.5300</td>\n      <td>NaN</td>\n      <td>NaN</td>\n      <td>15.92</td>\n      <td>NaN</td>\n      <td>NaN</td>\n      <td>NaN</td>\n    </tr>\n    <tr>\n      <th>4</th>\n      <td>1976-07</td>\n      <td>12490</td>\n      <td>272.1250</td>\n      <td>-0.016712</td>\n      <td>16.698519</td>\n      <td>16.0</td>\n      <td>IBM</td>\n      <td>1976-12-31</td>\n      <td>15.92</td>\n      <td>NaN</td>\n      <td>...</td>\n      <td>-0.019</td>\n      <td>3.465</td>\n      <td>1.21300</td>\n      <td>2.5700</td>\n      <td>NaN</td>\n      <td>NaN</td>\n      <td>15.92</td>\n      <td>NaN</td>\n      <td>NaN</td>\n      <td>NaN</td>\n    </tr>\n    <tr>\n      <th>...</th>\n      <td>...</td>\n      <td>...</td>\n      <td>...</td>\n      <td>...</td>\n      <td>...</td>\n      <td>...</td>\n      <td>...</td>\n      <td>...</td>\n      <td>...</td>\n      <td>...</td>\n      <td>...</td>\n      <td>...</td>\n      <td>...</td>\n      <td>...</td>\n      <td>...</td>\n      <td>...</td>\n      <td>...</td>\n      <td>...</td>\n      <td>...</td>\n      <td>...</td>\n      <td>...</td>\n    </tr>\n    <tr>\n      <th>1421071</th>\n      <td>2022-12</td>\n      <td>77699</td>\n      <td>2.7800</td>\n      <td>NaN</td>\n      <td>1.000000</td>\n      <td>1.0</td>\n      <td>ERC1</td>\n      <td>2022-10-31</td>\n      <td>-0.38</td>\n      <td>-0.3000</td>\n      <td>...</td>\n      <td>-0.034</td>\n      <td>1.656</td>\n      <td>1.45400</td>\n      <td>1.8300</td>\n      <td>NaN</td>\n      <td>NaN</td>\n      <td>-0.38</td>\n      <td>NaN</td>\n      <td>NaN</td>\n      <td>NaN</td>\n    </tr>\n    <tr>\n      <th>1421072</th>\n      <td>2022-12</td>\n      <td>84607</td>\n      <td>0.9625</td>\n      <td>NaN</td>\n      <td>1.000000</td>\n      <td>1.0</td>\n      <td>EMKR</td>\n      <td>2022-09-30</td>\n      <td>-0.34</td>\n      <td>0.6700</td>\n      <td>...</td>\n      <td>-0.148</td>\n      <td>0.304</td>\n      <td>1.45400</td>\n      <td>1.8300</td>\n      <td>NaN</td>\n      <td>NaN</td>\n      <td>-0.34</td>\n      <td>NaN</td>\n      <td>NaN</td>\n      <td>NaN</td>\n    </tr>\n    <tr>\n      <th>1421073</th>\n      <td>2022-12</td>\n      <td>89447</td>\n      <td>29.4000</td>\n      <td>NaN</td>\n      <td>1.000000</td>\n      <td>1.0</td>\n      <td>CVGW</td>\n      <td>2022-10-31</td>\n      <td>0.50</td>\n      <td>0.3500</td>\n      <td>...</td>\n      <td>-0.136</td>\n      <td>2.345</td>\n      <td>1.45400</td>\n      <td>3.7215</td>\n      <td>NaN</td>\n      <td>NaN</td>\n      <td>0.50</td>\n      <td>NaN</td>\n      <td>NaN</td>\n      <td>NaN</td>\n    </tr>\n    <tr>\n      <th>1421074</th>\n      <td>2022-12</td>\n      <td>92091</td>\n      <td>1.0500</td>\n      <td>NaN</td>\n      <td>1.000000</td>\n      <td>1.0</td>\n      <td>BLSI</td>\n      <td>2022-09-30</td>\n      <td>0.20</td>\n      <td>-1.3998</td>\n      <td>...</td>\n      <td>0.073</td>\n      <td>0.537</td>\n      <td>1.45400</td>\n      <td>1.8300</td>\n      <td>NaN</td>\n      <td>NaN</td>\n      <td>0.20</td>\n      <td>NaN</td>\n      <td>NaN</td>\n      <td>NaN</td>\n    </tr>\n    <tr>\n      <th>1421075</th>\n      <td>2022-12</td>\n      <td>93397</td>\n      <td>12.2100</td>\n      <td>NaN</td>\n      <td>1.000000</td>\n      <td>1.0</td>\n      <td>LMNR</td>\n      <td>2022-10-31</td>\n      <td>-0.04</td>\n      <td>-0.2200</td>\n      <td>...</td>\n      <td>-0.040</td>\n      <td>1.119</td>\n      <td>-0.92893</td>\n      <td>2.4600</td>\n      <td>NaN</td>\n      <td>NaN</td>\n      <td>-0.04</td>\n      <td>NaN</td>\n      <td>NaN</td>\n      <td>NaN</td>\n    </tr>\n  </tbody>\n</table>\n<p>1421076 rows × 89 columns</p>\n</div>"
     },
     "execution_count": 16,
     "metadata": {},
     "output_type": "execute_result"
    }
   ],
   "source": [
    "A1_RF_forecast"
   ],
   "metadata": {
    "collapsed": false
   }
  },
  {
   "cell_type": "code",
   "execution_count": 14,
   "outputs": [],
   "source": [
    "#####meger forecast bias with CRSP######\n",
    "start_date='1986-01'\n",
    "end_date='2021-12'\n",
    "for horizon in ('A1_','A2_','Q1_','Q2_','Q3_'):\n",
    "    Forecast_Output = eval(horizon + 'RF_forecast').reset_index(drop=True)\n",
    "    Forecast_Output.rename(columns={'MEANEST': 'analyst_forecast'}, inplace=True)\n",
    "    Forecast_Output = Forecast_Output[(Forecast_Output['rankdate'] >= start_date) & (Forecast_Output['rankdate'] <= end_date)]\n",
    "    Forecast_Output['rankdate'] = pd.to_datetime(Forecast_Output.rankdate).dt.to_period('M')\n",
    "    Forecast_Output[horizon + 'dif'] = Forecast_Output['analyst_forecast'] - Forecast_Output['predict_rf_mean']\n",
    "    Forecast_Output[horizon + 'real_dif'] = Forecast_Output['analyst_forecast'] - Forecast_Output['adj_actual']\n",
    "    CRSP = pd.merge(left=CRSP, right=Forecast_Output[['PERMNO','rankdate', horizon + 'dif', horizon + 'real_dif']], how='left', on=['PERMNO','rankdate'])\n",
    "    CRSP[horizon + 'bias'] = CRSP[horizon + 'dif'] / CRSP['PRC']\n",
    "    CRSP[horizon + 'real_bias'] = CRSP[horizon + 'real_dif'] / CRSP['PRC']\n",
    "    CRSP.sort_values(by=['PERMNO','rankdate'], ascending=True, inplace=True)\n",
    "    CRSP[horizon + 'lag_bias'] = CRSP.groupby('PERMNO', group_keys=True)[horizon + 'bias'].shift(1).values\n"
   ],
   "metadata": {
    "collapsed": false
   }
  },
  {
   "cell_type": "code",
   "execution_count": 111,
   "outputs": [
    {
     "data": {
      "text/plain": "         PERMNO        PRC       RET     Mkt_value rankdate  A1_dif  \\\n0         10000    4.37500       NaN  1.610000e+04  1986-01     NaN   \n1         10000    3.25000 -0.257143  1.196000e+04  1986-02     NaN   \n2         10000    4.43750  0.365385  1.633000e+04  1986-03     NaN   \n3         10000    4.00000 -0.098592  1.517200e+04  1986-04     NaN   \n4         10000    3.10938 -0.222656  1.179388e+04  1986-05     NaN   \n...         ...        ...       ...           ...      ...     ...   \n3826455   93436  275.60999 -0.072489  8.636156e+08  2022-08     NaN   \n3826456   93436  265.25000 -0.037589  8.376595e+08  2022-09     NaN   \n3826457   93436  227.53999 -0.142168  7.185149e+08  2022-10     NaN   \n3826458   93436  194.70000 -0.144326  6.148143e+08  2022-11     NaN   \n3826459   93436  123.18000       NaN  3.889719e+08  2022-12     NaN   \n\n         A1_real_dif  A1_bias  A1_real_bias  A1_lag_bias  ...  Q2_dif  \\\n0                NaN      NaN           NaN          NaN  ...     NaN   \n1                NaN      NaN           NaN          NaN  ...     NaN   \n2                NaN      NaN           NaN          NaN  ...     NaN   \n3                NaN      NaN           NaN          NaN  ...     NaN   \n4                NaN      NaN           NaN          NaN  ...     NaN   \n...              ...      ...           ...          ...  ...     ...   \n3826455          NaN      NaN           NaN          NaN  ...     NaN   \n3826456          NaN      NaN           NaN          NaN  ...     NaN   \n3826457          NaN      NaN           NaN          NaN  ...     NaN   \n3826458          NaN      NaN           NaN          NaN  ...     NaN   \n3826459          NaN      NaN           NaN          NaN  ...     NaN   \n\n         Q2_real_dif  Q2_bias  Q2_real_bias  Q2_lag_bias  Q3_dif  Q3_real_dif  \\\n0                NaN      NaN           NaN          NaN     NaN          NaN   \n1                NaN      NaN           NaN          NaN     NaN          NaN   \n2                NaN      NaN           NaN          NaN     NaN          NaN   \n3                NaN      NaN           NaN          NaN     NaN          NaN   \n4                NaN      NaN           NaN          NaN     NaN          NaN   \n...              ...      ...           ...          ...     ...          ...   \n3826455          NaN      NaN           NaN          NaN     NaN          NaN   \n3826456          NaN      NaN           NaN          NaN     NaN          NaN   \n3826457          NaN      NaN           NaN          NaN     NaN          NaN   \n3826458          NaN      NaN           NaN          NaN     NaN          NaN   \n3826459          NaN      NaN           NaN          NaN     NaN          NaN   \n\n         Q3_bias  Q3_real_bias  Q3_lag_bias  \n0            NaN           NaN          NaN  \n1            NaN           NaN          NaN  \n2            NaN           NaN          NaN  \n3            NaN           NaN          NaN  \n4            NaN           NaN          NaN  \n...          ...           ...          ...  \n3826455      NaN           NaN          NaN  \n3826456      NaN           NaN          NaN  \n3826457      NaN           NaN          NaN  \n3826458      NaN           NaN          NaN  \n3826459      NaN           NaN          NaN  \n\n[3826460 rows x 30 columns]",
      "text/html": "<div>\n<style scoped>\n    .dataframe tbody tr th:only-of-type {\n        vertical-align: middle;\n    }\n\n    .dataframe tbody tr th {\n        vertical-align: top;\n    }\n\n    .dataframe thead th {\n        text-align: right;\n    }\n</style>\n<table border=\"1\" class=\"dataframe\">\n  <thead>\n    <tr style=\"text-align: right;\">\n      <th></th>\n      <th>PERMNO</th>\n      <th>PRC</th>\n      <th>RET</th>\n      <th>Mkt_value</th>\n      <th>rankdate</th>\n      <th>A1_dif</th>\n      <th>A1_real_dif</th>\n      <th>A1_bias</th>\n      <th>A1_real_bias</th>\n      <th>A1_lag_bias</th>\n      <th>...</th>\n      <th>Q2_dif</th>\n      <th>Q2_real_dif</th>\n      <th>Q2_bias</th>\n      <th>Q2_real_bias</th>\n      <th>Q2_lag_bias</th>\n      <th>Q3_dif</th>\n      <th>Q3_real_dif</th>\n      <th>Q3_bias</th>\n      <th>Q3_real_bias</th>\n      <th>Q3_lag_bias</th>\n    </tr>\n  </thead>\n  <tbody>\n    <tr>\n      <th>0</th>\n      <td>10000</td>\n      <td>4.37500</td>\n      <td>NaN</td>\n      <td>1.610000e+04</td>\n      <td>1986-01</td>\n      <td>NaN</td>\n      <td>NaN</td>\n      <td>NaN</td>\n      <td>NaN</td>\n      <td>NaN</td>\n      <td>...</td>\n      <td>NaN</td>\n      <td>NaN</td>\n      <td>NaN</td>\n      <td>NaN</td>\n      <td>NaN</td>\n      <td>NaN</td>\n      <td>NaN</td>\n      <td>NaN</td>\n      <td>NaN</td>\n      <td>NaN</td>\n    </tr>\n    <tr>\n      <th>1</th>\n      <td>10000</td>\n      <td>3.25000</td>\n      <td>-0.257143</td>\n      <td>1.196000e+04</td>\n      <td>1986-02</td>\n      <td>NaN</td>\n      <td>NaN</td>\n      <td>NaN</td>\n      <td>NaN</td>\n      <td>NaN</td>\n      <td>...</td>\n      <td>NaN</td>\n      <td>NaN</td>\n      <td>NaN</td>\n      <td>NaN</td>\n      <td>NaN</td>\n      <td>NaN</td>\n      <td>NaN</td>\n      <td>NaN</td>\n      <td>NaN</td>\n      <td>NaN</td>\n    </tr>\n    <tr>\n      <th>2</th>\n      <td>10000</td>\n      <td>4.43750</td>\n      <td>0.365385</td>\n      <td>1.633000e+04</td>\n      <td>1986-03</td>\n      <td>NaN</td>\n      <td>NaN</td>\n      <td>NaN</td>\n      <td>NaN</td>\n      <td>NaN</td>\n      <td>...</td>\n      <td>NaN</td>\n      <td>NaN</td>\n      <td>NaN</td>\n      <td>NaN</td>\n      <td>NaN</td>\n      <td>NaN</td>\n      <td>NaN</td>\n      <td>NaN</td>\n      <td>NaN</td>\n      <td>NaN</td>\n    </tr>\n    <tr>\n      <th>3</th>\n      <td>10000</td>\n      <td>4.00000</td>\n      <td>-0.098592</td>\n      <td>1.517200e+04</td>\n      <td>1986-04</td>\n      <td>NaN</td>\n      <td>NaN</td>\n      <td>NaN</td>\n      <td>NaN</td>\n      <td>NaN</td>\n      <td>...</td>\n      <td>NaN</td>\n      <td>NaN</td>\n      <td>NaN</td>\n      <td>NaN</td>\n      <td>NaN</td>\n      <td>NaN</td>\n      <td>NaN</td>\n      <td>NaN</td>\n      <td>NaN</td>\n      <td>NaN</td>\n    </tr>\n    <tr>\n      <th>4</th>\n      <td>10000</td>\n      <td>3.10938</td>\n      <td>-0.222656</td>\n      <td>1.179388e+04</td>\n      <td>1986-05</td>\n      <td>NaN</td>\n      <td>NaN</td>\n      <td>NaN</td>\n      <td>NaN</td>\n      <td>NaN</td>\n      <td>...</td>\n      <td>NaN</td>\n      <td>NaN</td>\n      <td>NaN</td>\n      <td>NaN</td>\n      <td>NaN</td>\n      <td>NaN</td>\n      <td>NaN</td>\n      <td>NaN</td>\n      <td>NaN</td>\n      <td>NaN</td>\n    </tr>\n    <tr>\n      <th>...</th>\n      <td>...</td>\n      <td>...</td>\n      <td>...</td>\n      <td>...</td>\n      <td>...</td>\n      <td>...</td>\n      <td>...</td>\n      <td>...</td>\n      <td>...</td>\n      <td>...</td>\n      <td>...</td>\n      <td>...</td>\n      <td>...</td>\n      <td>...</td>\n      <td>...</td>\n      <td>...</td>\n      <td>...</td>\n      <td>...</td>\n      <td>...</td>\n      <td>...</td>\n      <td>...</td>\n    </tr>\n    <tr>\n      <th>3826455</th>\n      <td>93436</td>\n      <td>275.60999</td>\n      <td>-0.072489</td>\n      <td>8.636156e+08</td>\n      <td>2022-08</td>\n      <td>NaN</td>\n      <td>NaN</td>\n      <td>NaN</td>\n      <td>NaN</td>\n      <td>NaN</td>\n      <td>...</td>\n      <td>NaN</td>\n      <td>NaN</td>\n      <td>NaN</td>\n      <td>NaN</td>\n      <td>NaN</td>\n      <td>NaN</td>\n      <td>NaN</td>\n      <td>NaN</td>\n      <td>NaN</td>\n      <td>NaN</td>\n    </tr>\n    <tr>\n      <th>3826456</th>\n      <td>93436</td>\n      <td>265.25000</td>\n      <td>-0.037589</td>\n      <td>8.376595e+08</td>\n      <td>2022-09</td>\n      <td>NaN</td>\n      <td>NaN</td>\n      <td>NaN</td>\n      <td>NaN</td>\n      <td>NaN</td>\n      <td>...</td>\n      <td>NaN</td>\n      <td>NaN</td>\n      <td>NaN</td>\n      <td>NaN</td>\n      <td>NaN</td>\n      <td>NaN</td>\n      <td>NaN</td>\n      <td>NaN</td>\n      <td>NaN</td>\n      <td>NaN</td>\n    </tr>\n    <tr>\n      <th>3826457</th>\n      <td>93436</td>\n      <td>227.53999</td>\n      <td>-0.142168</td>\n      <td>7.185149e+08</td>\n      <td>2022-10</td>\n      <td>NaN</td>\n      <td>NaN</td>\n      <td>NaN</td>\n      <td>NaN</td>\n      <td>NaN</td>\n      <td>...</td>\n      <td>NaN</td>\n      <td>NaN</td>\n      <td>NaN</td>\n      <td>NaN</td>\n      <td>NaN</td>\n      <td>NaN</td>\n      <td>NaN</td>\n      <td>NaN</td>\n      <td>NaN</td>\n      <td>NaN</td>\n    </tr>\n    <tr>\n      <th>3826458</th>\n      <td>93436</td>\n      <td>194.70000</td>\n      <td>-0.144326</td>\n      <td>6.148143e+08</td>\n      <td>2022-11</td>\n      <td>NaN</td>\n      <td>NaN</td>\n      <td>NaN</td>\n      <td>NaN</td>\n      <td>NaN</td>\n      <td>...</td>\n      <td>NaN</td>\n      <td>NaN</td>\n      <td>NaN</td>\n      <td>NaN</td>\n      <td>NaN</td>\n      <td>NaN</td>\n      <td>NaN</td>\n      <td>NaN</td>\n      <td>NaN</td>\n      <td>NaN</td>\n    </tr>\n    <tr>\n      <th>3826459</th>\n      <td>93436</td>\n      <td>123.18000</td>\n      <td>NaN</td>\n      <td>3.889719e+08</td>\n      <td>2022-12</td>\n      <td>NaN</td>\n      <td>NaN</td>\n      <td>NaN</td>\n      <td>NaN</td>\n      <td>NaN</td>\n      <td>...</td>\n      <td>NaN</td>\n      <td>NaN</td>\n      <td>NaN</td>\n      <td>NaN</td>\n      <td>NaN</td>\n      <td>NaN</td>\n      <td>NaN</td>\n      <td>NaN</td>\n      <td>NaN</td>\n      <td>NaN</td>\n    </tr>\n  </tbody>\n</table>\n<p>3826460 rows × 30 columns</p>\n</div>"
     },
     "execution_count": 111,
     "metadata": {},
     "output_type": "execute_result"
    }
   ],
   "source": [
    "CRSP"
   ],
   "metadata": {
    "collapsed": false
   }
  },
  {
   "cell_type": "code",
   "execution_count": 15,
   "outputs": [],
   "source": [
    "merged = CRSP.sort_values(by=['PERMNO', 'rankdate'], ascending=True).drop_duplicates(subset=['PERMNO','rankdate'])"
   ],
   "metadata": {
    "collapsed": false
   }
  },
  {
   "cell_type": "code",
   "execution_count": 113,
   "outputs": [],
   "source": [
    "BE_PERMNO_DATE = merged[['PERMNO', 'rankdate', 'Q1_bias', 'Q2_bias', 'Q3_bias', 'A1_bias', 'A2_bias']].rename(columns={'Q1_bias': \"BEQ1\", 'Q2_bias': 'BEQ2', 'Q3_bias': 'BEQ3', 'A1_bias': 'BEA1s', 'A2_bias': 'BEA2s'})\n",
    "BE_PERMNO_DATE_real = merged[['PERMNO', 'rankdate', 'Q1_real_bias', 'Q2_real_bias', 'Q3_real_bias', 'A1_real_bias', 'A2_real_bias']].rename(columns={'Q1_real_bias': \"BEQ1\", 'Q2_real_bias': 'BEQ2', 'Q3_real_bias': 'BEQ3', 'A1_real_bias': 'BEA1s', 'A2_real_bias': 'BEA2s'})"
   ],
   "metadata": {
    "collapsed": false
   }
  },
  {
   "cell_type": "code",
   "execution_count": 114,
   "outputs": [],
   "source": [
    "BE_PERMNO_DATE = BE_PERMNO_DATE[(BE_PERMNO_DATE['rankdate'] >= '1986-01') & (BE_PERMNO_DATE['rankdate'] <= '2021-12')].reset_index(drop=True)\n",
    "BE_PERMNO_DATE_real = BE_PERMNO_DATE_real[(BE_PERMNO_DATE_real['rankdate'] >= '1986-01') & (BE_PERMNO_DATE_real['rankdate'] <= '2021-12')].reset_index(drop=True)"
   ],
   "metadata": {
    "collapsed": false
   }
  },
  {
   "cell_type": "code",
   "execution_count": 115,
   "outputs": [],
   "source": [
    "BE_PERMNO_DATE.to_csv('BE_PERMNO_DATE.csv')\n",
    "BE_PERMNO_DATE_real.to_csv('BE_PERMNO_DATE_real.csv')"
   ],
   "metadata": {
    "collapsed": false
   }
  },
  {
   "cell_type": "code",
   "execution_count": 16,
   "outputs": [],
   "source": [
    "merged['count'] = merged[['A1_lag_bias','A2_lag_bias','Q1_lag_bias','Q2_lag_bias','Q3_lag_bias']].apply(lambda x: x.count(), axis=1)\n",
    "# axis=1， 对每一行计算非NA值的个数"
   ],
   "metadata": {
    "collapsed": false
   }
  },
  {
   "cell_type": "code",
   "execution_count": 17,
   "outputs": [],
   "source": [
    "merged = merged.loc[(merged['count'] >= 2) & (merged['rankdate'] >= '1986-01') & (merged['rankdate'] <= '2021-12')].reset_index(drop=True)"
   ],
   "metadata": {
    "collapsed": false
   }
  },
  {
   "cell_type": "code",
   "execution_count": 18,
   "outputs": [],
   "source": [
    "######caculate BE score and average BE#########\n",
    "merged['avg_bias'] = (merged['A1_lag_bias'].fillna(0) + merged['A2_lag_bias'].fillna(0) + merged['Q1_lag_bias'].fillna(0) + merged['Q2_lag_bias'].fillna(0) + merged['Q3_lag_bias'].fillna(0)) / merged['count']"
   ],
   "metadata": {
    "collapsed": false
   }
  },
  {
   "cell_type": "code",
   "execution_count": 19,
   "outputs": [],
   "source": [
    "merged.sort_values(by=['rankdate'], inplace=True)\n",
    "for horizon in ('A1_','A2_','Q1_','Q2_','Q3_'):\n",
    "    merged[horizon + 'rank'] = 1 + merged.groupby('rankdate', group_keys=True)[horizon + 'lag_bias'].apply(lambda x: pd.qcut(x, 100, labels=False)).values\n",
    "    # 100分位"
   ],
   "metadata": {
    "collapsed": false
   }
  },
  {
   "cell_type": "code",
   "execution_count": 20,
   "outputs": [],
   "source": [
    "merged['bias_score'] = (merged['A1_rank'].fillna(0) + merged['A2_rank'].fillna(0) + merged['Q1_rank'].fillna(0) + merged['Q2_rank'].fillna(0) + merged['Q3_rank'].fillna(0)) / merged['count']"
   ],
   "metadata": {
    "collapsed": false
   }
  },
  {
   "cell_type": "markdown",
   "source": [
    "## FM regression"
   ],
   "metadata": {
    "collapsed": false
   }
  },
  {
   "cell_type": "code",
   "execution_count": 29,
   "outputs": [],
   "source": [
    "var='bias_score'    ###using either avg_bias or bias_score, changing the output excel name accordingly;\n",
    "###Output excel files, 1 without control and 2 with control variables.\n",
    "FM='FMret_score1.xlsx'   ### FMret_avg.xlsx or FMret_score.xlsx"
   ],
   "metadata": {
    "collapsed": false
   }
  },
  {
   "cell_type": "code",
   "execution_count": 30,
   "outputs": [],
   "source": [
    "predictor=[var]####add control predictor,'lnsize', 'lnbeme', 'ret1','ret12_7','turnover','retvol','ivol','IA'\n",
    "# 暂时还没有控制变量的数据\n",
    "FM_return = merged.dropna(subset=['RET'])\n",
    "Intercept = pd.DataFrame(columns=['intercept'])\n",
    "date = pd.DataFrame(columns=['date'])\n",
    "Coefficients = pd.DataFrame(columns = predictor)\n",
    "rankdate = FM_return.sort_values(by='rankdate')['rankdate'].unique()\n",
    "r_sqr = pd.DataFrame(columns=['r_sqr'])\n",
    "# OLS.score(data[predictor], data['RET']: Return the coefficient of determination of the prediction\n",
    "for i in rankdate:\n",
    "    data = FM_return[FM_return['rankdate'] == i]\n",
    "    OLS = LinearRegression().fit(data[predictor],data['RET'])\n",
    "    Intercept.loc[len(Intercept)] = OLS.intercept_\n",
    "    Coefficients.loc[len(Coefficients)] = OLS.coef_.flatten()\n",
    "    date.loc[len(date)] = i\n",
    "    r_sqr.loc[len(r_sqr)] = 1 - (1 - OLS.score(data[predictor], data['RET'])) * (len(data['RET']) - 1) / (len(data['RET']) - data[predictor].shape[1] - 1)\n",
    "    result = pd.concat([date, Intercept, Coefficients, r_sqr],axis=1)"
   ],
   "metadata": {
    "collapsed": false
   }
  },
  {
   "cell_type": "code",
   "execution_count": 31,
   "outputs": [],
   "source": [
    "result.to_excel(FM)"
   ],
   "metadata": {
    "collapsed": false
   }
  },
  {
   "cell_type": "markdown",
   "source": [
    "# Portfolio Sorts"
   ],
   "metadata": {
    "collapsed": false
   }
  },
  {
   "cell_type": "code",
   "execution_count": 21,
   "outputs": [],
   "source": [
    "merged['rank_avg_bias'] = 1 + merged.groupby('rankdate', group_keys=True)['avg_bias'].apply(lambda x: pd.qcut(x, 5, labels=False)).values\n",
    "merged['rank_bias_score'] = 1 + merged.groupby('rankdate', group_keys=True)['bias_score'].apply(lambda x: pd.qcut(x, 5, labels=False)).values"
   ],
   "metadata": {
    "collapsed": false
   }
  },
  {
   "cell_type": "code",
   "execution_count": 23,
   "outputs": [
    {
     "data": {
      "text/plain": "         PERMNO         PRC       RET     Mkt_value rankdate    A1_dif  \\\n484491    60011    29.25000  0.231579  9.041175e+04  1986-02       NaN   \n436028    52821    52.25000  0.215116  5.374958e+05  1986-02  0.702380   \n50473     11260    56.75000  0.230352  6.370812e+06  1986-02  1.171731   \n252634    23499    26.75000  0.041363  1.400470e+06  1986-02  0.672402   \n199007    17830    53.25000  0.143467  6.544159e+06  1986-02  0.770198   \n...         ...         ...       ...           ...      ...       ...   \n590159    75342   122.06000  0.081517  4.554181e+06  2021-12 -1.649368   \n102788    12781    65.22000  0.101170  3.374613e+06  2021-12 -0.264420   \n207832    18413     2.36000 -0.250794  8.686924e+04  2021-12  0.139076   \n102453    12758    31.94000 -0.062518  1.000936e+06  2021-12  0.013746   \n1254452   93436  1056.78003 -0.076855  1.092191e+09  2021-12 -2.711472   \n\n         A1_real_dif   A1_bias  A1_real_bias  A1_lag_bias  ...  count  \\\n484491           NaN       NaN           NaN     0.010882  ...      2   \n436028        2.2200  0.013443      0.042488     0.011399  ...      3   \n50473         2.0835  0.020647      0.036714     0.027533  ...      3   \n252634        0.1300  0.025137      0.004860     0.008907  ...      3   \n199007        2.1700  0.014464      0.040751     0.007040  ...      3   \n...              ...       ...           ...          ...  ...    ...   \n590159       -0.0600 -0.013513     -0.000492    -0.016888  ...      2   \n102788        0.0700 -0.004054      0.001073    -0.009335  ...      3   \n207832       -0.1000  0.058931     -0.042373     0.034535  ...      2   \n102453        0.1500  0.000430      0.004696     0.001300  ...      2   \n1254452      -0.7200 -0.002566     -0.000681    -0.002780  ...      2   \n\n         avg_bias  A1_rank  A2_rank  Q1_rank  Q2_rank  Q3_rank  bias_score  \\\n484491  -0.029367     44.0      NaN     25.0      NaN      NaN   34.500000   \n436028  -0.011315     47.0     58.0     11.0      NaN      NaN   38.666667   \n50473   -0.013623     75.0     72.0      1.0      NaN      NaN   49.333333   \n252634  -0.009681     31.0     61.0     14.0      NaN      NaN   35.333333   \n199007  -0.013548     18.0     27.0     27.0      NaN      NaN   24.000000   \n...           ...      ...      ...      ...      ...      ...         ...   \n590159  -0.054706      9.0      NaN      6.0      NaN      NaN    7.500000   \n102788  -0.011624     22.0      9.0     60.0      NaN      NaN   30.333333   \n207832   0.131283     92.0      NaN     88.0      NaN      NaN   90.000000   \n102453  -0.000608     72.0      NaN     62.0      NaN      NaN   67.000000   \n1254452 -0.003013     53.0      NaN     62.0      NaN      NaN   57.500000   \n\n         rank_avg_bias  rank_bias_score  \n484491               1                2  \n436028               1                2  \n50473                1                3  \n252634               2                2  \n199007               1                1  \n...                ...              ...  \n590159               1                1  \n102788               3                2  \n207832               5                5  \n102453               4                4  \n1254452              4                3  \n\n[1254453 rows x 40 columns]",
      "text/html": "<div>\n<style scoped>\n    .dataframe tbody tr th:only-of-type {\n        vertical-align: middle;\n    }\n\n    .dataframe tbody tr th {\n        vertical-align: top;\n    }\n\n    .dataframe thead th {\n        text-align: right;\n    }\n</style>\n<table border=\"1\" class=\"dataframe\">\n  <thead>\n    <tr style=\"text-align: right;\">\n      <th></th>\n      <th>PERMNO</th>\n      <th>PRC</th>\n      <th>RET</th>\n      <th>Mkt_value</th>\n      <th>rankdate</th>\n      <th>A1_dif</th>\n      <th>A1_real_dif</th>\n      <th>A1_bias</th>\n      <th>A1_real_bias</th>\n      <th>A1_lag_bias</th>\n      <th>...</th>\n      <th>count</th>\n      <th>avg_bias</th>\n      <th>A1_rank</th>\n      <th>A2_rank</th>\n      <th>Q1_rank</th>\n      <th>Q2_rank</th>\n      <th>Q3_rank</th>\n      <th>bias_score</th>\n      <th>rank_avg_bias</th>\n      <th>rank_bias_score</th>\n    </tr>\n  </thead>\n  <tbody>\n    <tr>\n      <th>484491</th>\n      <td>60011</td>\n      <td>29.25000</td>\n      <td>0.231579</td>\n      <td>9.041175e+04</td>\n      <td>1986-02</td>\n      <td>NaN</td>\n      <td>NaN</td>\n      <td>NaN</td>\n      <td>NaN</td>\n      <td>0.010882</td>\n      <td>...</td>\n      <td>2</td>\n      <td>-0.029367</td>\n      <td>44.0</td>\n      <td>NaN</td>\n      <td>25.0</td>\n      <td>NaN</td>\n      <td>NaN</td>\n      <td>34.500000</td>\n      <td>1</td>\n      <td>2</td>\n    </tr>\n    <tr>\n      <th>436028</th>\n      <td>52821</td>\n      <td>52.25000</td>\n      <td>0.215116</td>\n      <td>5.374958e+05</td>\n      <td>1986-02</td>\n      <td>0.702380</td>\n      <td>2.2200</td>\n      <td>0.013443</td>\n      <td>0.042488</td>\n      <td>0.011399</td>\n      <td>...</td>\n      <td>3</td>\n      <td>-0.011315</td>\n      <td>47.0</td>\n      <td>58.0</td>\n      <td>11.0</td>\n      <td>NaN</td>\n      <td>NaN</td>\n      <td>38.666667</td>\n      <td>1</td>\n      <td>2</td>\n    </tr>\n    <tr>\n      <th>50473</th>\n      <td>11260</td>\n      <td>56.75000</td>\n      <td>0.230352</td>\n      <td>6.370812e+06</td>\n      <td>1986-02</td>\n      <td>1.171731</td>\n      <td>2.0835</td>\n      <td>0.020647</td>\n      <td>0.036714</td>\n      <td>0.027533</td>\n      <td>...</td>\n      <td>3</td>\n      <td>-0.013623</td>\n      <td>75.0</td>\n      <td>72.0</td>\n      <td>1.0</td>\n      <td>NaN</td>\n      <td>NaN</td>\n      <td>49.333333</td>\n      <td>1</td>\n      <td>3</td>\n    </tr>\n    <tr>\n      <th>252634</th>\n      <td>23499</td>\n      <td>26.75000</td>\n      <td>0.041363</td>\n      <td>1.400470e+06</td>\n      <td>1986-02</td>\n      <td>0.672402</td>\n      <td>0.1300</td>\n      <td>0.025137</td>\n      <td>0.004860</td>\n      <td>0.008907</td>\n      <td>...</td>\n      <td>3</td>\n      <td>-0.009681</td>\n      <td>31.0</td>\n      <td>61.0</td>\n      <td>14.0</td>\n      <td>NaN</td>\n      <td>NaN</td>\n      <td>35.333333</td>\n      <td>2</td>\n      <td>2</td>\n    </tr>\n    <tr>\n      <th>199007</th>\n      <td>17830</td>\n      <td>53.25000</td>\n      <td>0.143467</td>\n      <td>6.544159e+06</td>\n      <td>1986-02</td>\n      <td>0.770198</td>\n      <td>2.1700</td>\n      <td>0.014464</td>\n      <td>0.040751</td>\n      <td>0.007040</td>\n      <td>...</td>\n      <td>3</td>\n      <td>-0.013548</td>\n      <td>18.0</td>\n      <td>27.0</td>\n      <td>27.0</td>\n      <td>NaN</td>\n      <td>NaN</td>\n      <td>24.000000</td>\n      <td>1</td>\n      <td>1</td>\n    </tr>\n    <tr>\n      <th>...</th>\n      <td>...</td>\n      <td>...</td>\n      <td>...</td>\n      <td>...</td>\n      <td>...</td>\n      <td>...</td>\n      <td>...</td>\n      <td>...</td>\n      <td>...</td>\n      <td>...</td>\n      <td>...</td>\n      <td>...</td>\n      <td>...</td>\n      <td>...</td>\n      <td>...</td>\n      <td>...</td>\n      <td>...</td>\n      <td>...</td>\n      <td>...</td>\n      <td>...</td>\n      <td>...</td>\n    </tr>\n    <tr>\n      <th>590159</th>\n      <td>75342</td>\n      <td>122.06000</td>\n      <td>0.081517</td>\n      <td>4.554181e+06</td>\n      <td>2021-12</td>\n      <td>-1.649368</td>\n      <td>-0.0600</td>\n      <td>-0.013513</td>\n      <td>-0.000492</td>\n      <td>-0.016888</td>\n      <td>...</td>\n      <td>2</td>\n      <td>-0.054706</td>\n      <td>9.0</td>\n      <td>NaN</td>\n      <td>6.0</td>\n      <td>NaN</td>\n      <td>NaN</td>\n      <td>7.500000</td>\n      <td>1</td>\n      <td>1</td>\n    </tr>\n    <tr>\n      <th>102788</th>\n      <td>12781</td>\n      <td>65.22000</td>\n      <td>0.101170</td>\n      <td>3.374613e+06</td>\n      <td>2021-12</td>\n      <td>-0.264420</td>\n      <td>0.0700</td>\n      <td>-0.004054</td>\n      <td>0.001073</td>\n      <td>-0.009335</td>\n      <td>...</td>\n      <td>3</td>\n      <td>-0.011624</td>\n      <td>22.0</td>\n      <td>9.0</td>\n      <td>60.0</td>\n      <td>NaN</td>\n      <td>NaN</td>\n      <td>30.333333</td>\n      <td>3</td>\n      <td>2</td>\n    </tr>\n    <tr>\n      <th>207832</th>\n      <td>18413</td>\n      <td>2.36000</td>\n      <td>-0.250794</td>\n      <td>8.686924e+04</td>\n      <td>2021-12</td>\n      <td>0.139076</td>\n      <td>-0.1000</td>\n      <td>0.058931</td>\n      <td>-0.042373</td>\n      <td>0.034535</td>\n      <td>...</td>\n      <td>2</td>\n      <td>0.131283</td>\n      <td>92.0</td>\n      <td>NaN</td>\n      <td>88.0</td>\n      <td>NaN</td>\n      <td>NaN</td>\n      <td>90.000000</td>\n      <td>5</td>\n      <td>5</td>\n    </tr>\n    <tr>\n      <th>102453</th>\n      <td>12758</td>\n      <td>31.94000</td>\n      <td>-0.062518</td>\n      <td>1.000936e+06</td>\n      <td>2021-12</td>\n      <td>0.013746</td>\n      <td>0.1500</td>\n      <td>0.000430</td>\n      <td>0.004696</td>\n      <td>0.001300</td>\n      <td>...</td>\n      <td>2</td>\n      <td>-0.000608</td>\n      <td>72.0</td>\n      <td>NaN</td>\n      <td>62.0</td>\n      <td>NaN</td>\n      <td>NaN</td>\n      <td>67.000000</td>\n      <td>4</td>\n      <td>4</td>\n    </tr>\n    <tr>\n      <th>1254452</th>\n      <td>93436</td>\n      <td>1056.78003</td>\n      <td>-0.076855</td>\n      <td>1.092191e+09</td>\n      <td>2021-12</td>\n      <td>-2.711472</td>\n      <td>-0.7200</td>\n      <td>-0.002566</td>\n      <td>-0.000681</td>\n      <td>-0.002780</td>\n      <td>...</td>\n      <td>2</td>\n      <td>-0.003013</td>\n      <td>53.0</td>\n      <td>NaN</td>\n      <td>62.0</td>\n      <td>NaN</td>\n      <td>NaN</td>\n      <td>57.500000</td>\n      <td>4</td>\n      <td>3</td>\n    </tr>\n  </tbody>\n</table>\n<p>1254453 rows × 40 columns</p>\n</div>"
     },
     "execution_count": 23,
     "metadata": {},
     "output_type": "execute_result"
    }
   ],
   "source": [
    "merged"
   ],
   "metadata": {
    "collapsed": false
   }
  },
  {
   "cell_type": "code",
   "execution_count": 22,
   "outputs": [],
   "source": [
    "var = 'rank_bias_score'  ###using either rank_avg_bias or rank_bias_score, changing the output excel name accordingly;\n",
    "sort_var = 'RET'\n",
    "# quint_return = merged.groupby(['rankdate', var]).apply(wavg)  ## Value-weighted Portfolio Returns\n",
    "quint_return = merged.groupby(['rankdate', var]).apply(avg)  ## Equal-weighted Portfolio Returns\n",
    "quint_return = quint_return.to_frame().reset_index()\n",
    "quint_return = quint_return.rename(columns={0:'ret'})\n",
    "quint_return[var] = quint_return[var].astype(int)\n"
   ],
   "metadata": {
    "collapsed": false
   }
  },
  {
   "cell_type": "code",
   "execution_count": 48,
   "outputs": [
    {
     "data": {
      "text/plain": "     rankdate  rank_bias_score       ret\n0     1986-02                1  0.081716\n1     1986-02                2  0.089769\n2     1986-02                3  0.074402\n3     1986-02                4  0.062838\n4     1986-02                5  0.052674\n...       ...              ...       ...\n2150  2021-12                1  0.045770\n2151  2021-12                2  0.061360\n2152  2021-12                3  0.025245\n2153  2021-12                4 -0.023471\n2154  2021-12                5 -0.082866\n\n[2155 rows x 3 columns]",
      "text/html": "<div>\n<style scoped>\n    .dataframe tbody tr th:only-of-type {\n        vertical-align: middle;\n    }\n\n    .dataframe tbody tr th {\n        vertical-align: top;\n    }\n\n    .dataframe thead th {\n        text-align: right;\n    }\n</style>\n<table border=\"1\" class=\"dataframe\">\n  <thead>\n    <tr style=\"text-align: right;\">\n      <th></th>\n      <th>rankdate</th>\n      <th>rank_bias_score</th>\n      <th>ret</th>\n    </tr>\n  </thead>\n  <tbody>\n    <tr>\n      <th>0</th>\n      <td>1986-02</td>\n      <td>1</td>\n      <td>0.081716</td>\n    </tr>\n    <tr>\n      <th>1</th>\n      <td>1986-02</td>\n      <td>2</td>\n      <td>0.089769</td>\n    </tr>\n    <tr>\n      <th>2</th>\n      <td>1986-02</td>\n      <td>3</td>\n      <td>0.074402</td>\n    </tr>\n    <tr>\n      <th>3</th>\n      <td>1986-02</td>\n      <td>4</td>\n      <td>0.062838</td>\n    </tr>\n    <tr>\n      <th>4</th>\n      <td>1986-02</td>\n      <td>5</td>\n      <td>0.052674</td>\n    </tr>\n    <tr>\n      <th>...</th>\n      <td>...</td>\n      <td>...</td>\n      <td>...</td>\n    </tr>\n    <tr>\n      <th>2150</th>\n      <td>2021-12</td>\n      <td>1</td>\n      <td>0.045770</td>\n    </tr>\n    <tr>\n      <th>2151</th>\n      <td>2021-12</td>\n      <td>2</td>\n      <td>0.061360</td>\n    </tr>\n    <tr>\n      <th>2152</th>\n      <td>2021-12</td>\n      <td>3</td>\n      <td>0.025245</td>\n    </tr>\n    <tr>\n      <th>2153</th>\n      <td>2021-12</td>\n      <td>4</td>\n      <td>-0.023471</td>\n    </tr>\n    <tr>\n      <th>2154</th>\n      <td>2021-12</td>\n      <td>5</td>\n      <td>-0.082866</td>\n    </tr>\n  </tbody>\n</table>\n<p>2155 rows × 3 columns</p>\n</div>"
     },
     "execution_count": 48,
     "metadata": {},
     "output_type": "execute_result"
    }
   ],
   "source": [
    "quint_return"
   ],
   "metadata": {
    "collapsed": false
   }
  },
  {
   "cell_type": "code",
   "execution_count": 23,
   "outputs": [
    {
     "data": {
      "text/plain": "Ttest_indResult(statistic=-3.5095923277384893, pvalue=0.0004961592972009166)"
     },
     "execution_count": 23,
     "metadata": {},
     "output_type": "execute_result"
    }
   ],
   "source": [
    "quint_return = quint_return.pivot(index='rankdate', columns=var, values='ret')\n",
    "quint_return['LS'] = quint_return[5] - quint_return[1]\n",
    "quint_return['cons'] = 0\n",
    "from scipy.stats import ttest_ind\n",
    "# t-test\n",
    "ttest_ind(quint_return['LS'], quint_return['cons'], equal_var=False)"
   ],
   "metadata": {
    "collapsed": false
   }
  },
  {
   "cell_type": "code",
   "execution_count": 25,
   "outputs": [
    {
     "ename": "AttributeError",
     "evalue": "'DataFrame' object has no attribute 'to_xlsx'",
     "output_type": "error",
     "traceback": [
      "\u001B[1;31m---------------------------------------------------------------------------\u001B[0m",
      "\u001B[1;31mAttributeError\u001B[0m                            Traceback (most recent call last)",
      "Cell \u001B[1;32mIn[25], line 2\u001B[0m\n\u001B[0;32m      1\u001B[0m FF \u001B[38;5;241m=\u001B[39m pd\u001B[38;5;241m.\u001B[39mmerge(left\u001B[38;5;241m=\u001B[39mquint_return, right\u001B[38;5;241m=\u001B[39mff,  how\u001B[38;5;241m=\u001B[39m\u001B[38;5;124m'\u001B[39m\u001B[38;5;124mleft\u001B[39m\u001B[38;5;124m'\u001B[39m,  on\u001B[38;5;241m=\u001B[39m[\u001B[38;5;124m'\u001B[39m\u001B[38;5;124mrankdate\u001B[39m\u001B[38;5;124m'\u001B[39m]) \u001B[38;5;66;03m##Merge with FF factors\u001B[39;00m\n\u001B[1;32m----> 2\u001B[0m \u001B[43mFF\u001B[49m\u001B[38;5;241;43m.\u001B[39;49m\u001B[43mto_xlsx\u001B[49m(\u001B[38;5;124m'\u001B[39m\u001B[38;5;124mret_port_score_equal.xlsx\u001B[39m\u001B[38;5;124m'\u001B[39m, index\u001B[38;5;241m=\u001B[39m\u001B[38;5;28;01mFalse\u001B[39;00m)   \u001B[38;5;66;03m###using either ret_port_score.csv or ret_avg_bias.csv\u001B[39;00m\n",
      "File \u001B[1;32m~\\Desktop\\LEARN\\python\\Anomaly\\venv\\Lib\\site-packages\\pandas\\core\\generic.py:5902\u001B[0m, in \u001B[0;36mNDFrame.__getattr__\u001B[1;34m(self, name)\u001B[0m\n\u001B[0;32m   5895\u001B[0m \u001B[38;5;28;01mif\u001B[39;00m (\n\u001B[0;32m   5896\u001B[0m     name \u001B[38;5;129;01mnot\u001B[39;00m \u001B[38;5;129;01min\u001B[39;00m \u001B[38;5;28mself\u001B[39m\u001B[38;5;241m.\u001B[39m_internal_names_set\n\u001B[0;32m   5897\u001B[0m     \u001B[38;5;129;01mand\u001B[39;00m name \u001B[38;5;129;01mnot\u001B[39;00m \u001B[38;5;129;01min\u001B[39;00m \u001B[38;5;28mself\u001B[39m\u001B[38;5;241m.\u001B[39m_metadata\n\u001B[0;32m   5898\u001B[0m     \u001B[38;5;129;01mand\u001B[39;00m name \u001B[38;5;129;01mnot\u001B[39;00m \u001B[38;5;129;01min\u001B[39;00m \u001B[38;5;28mself\u001B[39m\u001B[38;5;241m.\u001B[39m_accessors\n\u001B[0;32m   5899\u001B[0m     \u001B[38;5;129;01mand\u001B[39;00m \u001B[38;5;28mself\u001B[39m\u001B[38;5;241m.\u001B[39m_info_axis\u001B[38;5;241m.\u001B[39m_can_hold_identifiers_and_holds_name(name)\n\u001B[0;32m   5900\u001B[0m ):\n\u001B[0;32m   5901\u001B[0m     \u001B[38;5;28;01mreturn\u001B[39;00m \u001B[38;5;28mself\u001B[39m[name]\n\u001B[1;32m-> 5902\u001B[0m \u001B[38;5;28;01mreturn\u001B[39;00m \u001B[38;5;28;43mobject\u001B[39;49m\u001B[38;5;241;43m.\u001B[39;49m\u001B[38;5;21;43m__getattribute__\u001B[39;49m\u001B[43m(\u001B[49m\u001B[38;5;28;43mself\u001B[39;49m\u001B[43m,\u001B[49m\u001B[43m \u001B[49m\u001B[43mname\u001B[49m\u001B[43m)\u001B[49m\n",
      "\u001B[1;31mAttributeError\u001B[0m: 'DataFrame' object has no attribute 'to_xlsx'"
     ]
    }
   ],
   "source": [
    "FF = pd.merge(left=quint_return, right=ff,  how='left',  on=['rankdate']) ##Merge with FF factors\n",
    "FF.to_csv('ret_port_score_equal.csv', index=False)   ###using either ret_port_score.csv or ret_avg_bias.csv"
   ],
   "metadata": {
    "collapsed": false
   }
  },
  {
   "cell_type": "markdown",
   "source": [
    "# Correlation"
   ],
   "metadata": {
    "collapsed": false
   }
  },
  {
   "cell_type": "code",
   "execution_count": 40,
   "outputs": [],
   "source": [
    "# Feature_names=['avg_bias','bias_score','Q1_lag_bias','Q2_lag_bias','Q3_lag_bias',\n",
    "#                'A1_lag_bias','A2_lag_bias','lnsize','lnbeme','ret12_7','ret1','IA','ivol', 'retvol','turnover']\n",
    "Feature_names=['avg_bias','bias_score','Q1_lag_bias','Q2_lag_bias','Q3_lag_bias', 'A1_lag_bias','A2_lag_bias']"
   ],
   "metadata": {
    "collapsed": false
   }
  },
  {
   "cell_type": "code",
   "execution_count": 41,
   "outputs": [
    {
     "data": {
      "text/plain": "         PERMNO         PRC       RET     Mkt_value rankdate    A1_dif  \\\n484491    60011    29.25000  0.231579  9.041175e+04  1986-02       NaN   \n436028    52821    52.25000  0.215116  5.374958e+05  1986-02  0.702380   \n50473     11260    56.75000  0.230352  6.370812e+06  1986-02  1.171731   \n252634    23499    26.75000  0.041363  1.400470e+06  1986-02  0.672402   \n199007    17830    53.25000  0.143467  6.544159e+06  1986-02  0.770198   \n...         ...         ...       ...           ...      ...       ...   \n590159    75342   122.06000  0.081517  4.554181e+06  2021-12 -1.649368   \n102788    12781    65.22000  0.101170  3.374613e+06  2021-12 -0.264420   \n207832    18413     2.36000 -0.250794  8.686924e+04  2021-12  0.139076   \n102453    12758    31.94000 -0.062518  1.000936e+06  2021-12  0.013746   \n1254452   93436  1056.78003 -0.076855  1.092191e+09  2021-12 -2.711472   \n\n          A1_bias  A1_lag_bias    A2_dif   A2_bias  ...  count  avg_bias  \\\n484491        NaN     0.010882       NaN       NaN  ...      2 -0.029367   \n436028   0.013443     0.011399       NaN       NaN  ...      3 -0.011315   \n50473    0.020647     0.027533  4.104611  0.072328  ...      3 -0.013623   \n252634   0.025137     0.008907  3.431599  0.128284  ...      3 -0.009681   \n199007   0.014464     0.007040  2.982579  0.056011  ...      3 -0.013548   \n...           ...          ...       ...       ...  ...    ...       ...   \n590159  -0.013513    -0.016888       NaN       NaN  ...      2 -0.054706   \n102788  -0.004054    -0.009335       NaN       NaN  ...      3 -0.011624   \n207832   0.058931     0.034535       NaN       NaN  ...      2  0.131283   \n102453   0.000430     0.001300       NaN       NaN  ...      2 -0.000608   \n1254452 -0.002566    -0.002780       NaN       NaN  ...      2 -0.003013   \n\n         A1_rank  A2_rank  Q1_rank  Q2_rank  Q3_rank  bias_score  \\\n484491      44.0      NaN     25.0      NaN      NaN   34.500000   \n436028      47.0     58.0     11.0      NaN      NaN   38.666667   \n50473       75.0     72.0      1.0      NaN      NaN   49.333333   \n252634      31.0     61.0     14.0      NaN      NaN   35.333333   \n199007      18.0     27.0     27.0      NaN      NaN   24.000000   \n...          ...      ...      ...      ...      ...         ...   \n590159       9.0      NaN      6.0      NaN      NaN    7.500000   \n102788      22.0      9.0     60.0      NaN      NaN   30.333333   \n207832      92.0      NaN     88.0      NaN      NaN   90.000000   \n102453      72.0      NaN     62.0      NaN      NaN   67.000000   \n1254452     53.0      NaN     62.0      NaN      NaN   57.500000   \n\n         rank_avg_bias  rank_bias_score  \n484491               1                2  \n436028               1                2  \n50473                1                3  \n252634               2                2  \n199007               1                1  \n...                ...              ...  \n590159               1                1  \n102788               3                2  \n207832               5                5  \n102453               4                4  \n1254452              4                3  \n\n[1254453 rows x 30 columns]",
      "text/html": "<div>\n<style scoped>\n    .dataframe tbody tr th:only-of-type {\n        vertical-align: middle;\n    }\n\n    .dataframe tbody tr th {\n        vertical-align: top;\n    }\n\n    .dataframe thead th {\n        text-align: right;\n    }\n</style>\n<table border=\"1\" class=\"dataframe\">\n  <thead>\n    <tr style=\"text-align: right;\">\n      <th></th>\n      <th>PERMNO</th>\n      <th>PRC</th>\n      <th>RET</th>\n      <th>Mkt_value</th>\n      <th>rankdate</th>\n      <th>A1_dif</th>\n      <th>A1_bias</th>\n      <th>A1_lag_bias</th>\n      <th>A2_dif</th>\n      <th>A2_bias</th>\n      <th>...</th>\n      <th>count</th>\n      <th>avg_bias</th>\n      <th>A1_rank</th>\n      <th>A2_rank</th>\n      <th>Q1_rank</th>\n      <th>Q2_rank</th>\n      <th>Q3_rank</th>\n      <th>bias_score</th>\n      <th>rank_avg_bias</th>\n      <th>rank_bias_score</th>\n    </tr>\n  </thead>\n  <tbody>\n    <tr>\n      <th>484491</th>\n      <td>60011</td>\n      <td>29.25000</td>\n      <td>0.231579</td>\n      <td>9.041175e+04</td>\n      <td>1986-02</td>\n      <td>NaN</td>\n      <td>NaN</td>\n      <td>0.010882</td>\n      <td>NaN</td>\n      <td>NaN</td>\n      <td>...</td>\n      <td>2</td>\n      <td>-0.029367</td>\n      <td>44.0</td>\n      <td>NaN</td>\n      <td>25.0</td>\n      <td>NaN</td>\n      <td>NaN</td>\n      <td>34.500000</td>\n      <td>1</td>\n      <td>2</td>\n    </tr>\n    <tr>\n      <th>436028</th>\n      <td>52821</td>\n      <td>52.25000</td>\n      <td>0.215116</td>\n      <td>5.374958e+05</td>\n      <td>1986-02</td>\n      <td>0.702380</td>\n      <td>0.013443</td>\n      <td>0.011399</td>\n      <td>NaN</td>\n      <td>NaN</td>\n      <td>...</td>\n      <td>3</td>\n      <td>-0.011315</td>\n      <td>47.0</td>\n      <td>58.0</td>\n      <td>11.0</td>\n      <td>NaN</td>\n      <td>NaN</td>\n      <td>38.666667</td>\n      <td>1</td>\n      <td>2</td>\n    </tr>\n    <tr>\n      <th>50473</th>\n      <td>11260</td>\n      <td>56.75000</td>\n      <td>0.230352</td>\n      <td>6.370812e+06</td>\n      <td>1986-02</td>\n      <td>1.171731</td>\n      <td>0.020647</td>\n      <td>0.027533</td>\n      <td>4.104611</td>\n      <td>0.072328</td>\n      <td>...</td>\n      <td>3</td>\n      <td>-0.013623</td>\n      <td>75.0</td>\n      <td>72.0</td>\n      <td>1.0</td>\n      <td>NaN</td>\n      <td>NaN</td>\n      <td>49.333333</td>\n      <td>1</td>\n      <td>3</td>\n    </tr>\n    <tr>\n      <th>252634</th>\n      <td>23499</td>\n      <td>26.75000</td>\n      <td>0.041363</td>\n      <td>1.400470e+06</td>\n      <td>1986-02</td>\n      <td>0.672402</td>\n      <td>0.025137</td>\n      <td>0.008907</td>\n      <td>3.431599</td>\n      <td>0.128284</td>\n      <td>...</td>\n      <td>3</td>\n      <td>-0.009681</td>\n      <td>31.0</td>\n      <td>61.0</td>\n      <td>14.0</td>\n      <td>NaN</td>\n      <td>NaN</td>\n      <td>35.333333</td>\n      <td>2</td>\n      <td>2</td>\n    </tr>\n    <tr>\n      <th>199007</th>\n      <td>17830</td>\n      <td>53.25000</td>\n      <td>0.143467</td>\n      <td>6.544159e+06</td>\n      <td>1986-02</td>\n      <td>0.770198</td>\n      <td>0.014464</td>\n      <td>0.007040</td>\n      <td>2.982579</td>\n      <td>0.056011</td>\n      <td>...</td>\n      <td>3</td>\n      <td>-0.013548</td>\n      <td>18.0</td>\n      <td>27.0</td>\n      <td>27.0</td>\n      <td>NaN</td>\n      <td>NaN</td>\n      <td>24.000000</td>\n      <td>1</td>\n      <td>1</td>\n    </tr>\n    <tr>\n      <th>...</th>\n      <td>...</td>\n      <td>...</td>\n      <td>...</td>\n      <td>...</td>\n      <td>...</td>\n      <td>...</td>\n      <td>...</td>\n      <td>...</td>\n      <td>...</td>\n      <td>...</td>\n      <td>...</td>\n      <td>...</td>\n      <td>...</td>\n      <td>...</td>\n      <td>...</td>\n      <td>...</td>\n      <td>...</td>\n      <td>...</td>\n      <td>...</td>\n      <td>...</td>\n      <td>...</td>\n    </tr>\n    <tr>\n      <th>590159</th>\n      <td>75342</td>\n      <td>122.06000</td>\n      <td>0.081517</td>\n      <td>4.554181e+06</td>\n      <td>2021-12</td>\n      <td>-1.649368</td>\n      <td>-0.013513</td>\n      <td>-0.016888</td>\n      <td>NaN</td>\n      <td>NaN</td>\n      <td>...</td>\n      <td>2</td>\n      <td>-0.054706</td>\n      <td>9.0</td>\n      <td>NaN</td>\n      <td>6.0</td>\n      <td>NaN</td>\n      <td>NaN</td>\n      <td>7.500000</td>\n      <td>1</td>\n      <td>1</td>\n    </tr>\n    <tr>\n      <th>102788</th>\n      <td>12781</td>\n      <td>65.22000</td>\n      <td>0.101170</td>\n      <td>3.374613e+06</td>\n      <td>2021-12</td>\n      <td>-0.264420</td>\n      <td>-0.004054</td>\n      <td>-0.009335</td>\n      <td>NaN</td>\n      <td>NaN</td>\n      <td>...</td>\n      <td>3</td>\n      <td>-0.011624</td>\n      <td>22.0</td>\n      <td>9.0</td>\n      <td>60.0</td>\n      <td>NaN</td>\n      <td>NaN</td>\n      <td>30.333333</td>\n      <td>3</td>\n      <td>2</td>\n    </tr>\n    <tr>\n      <th>207832</th>\n      <td>18413</td>\n      <td>2.36000</td>\n      <td>-0.250794</td>\n      <td>8.686924e+04</td>\n      <td>2021-12</td>\n      <td>0.139076</td>\n      <td>0.058931</td>\n      <td>0.034535</td>\n      <td>NaN</td>\n      <td>NaN</td>\n      <td>...</td>\n      <td>2</td>\n      <td>0.131283</td>\n      <td>92.0</td>\n      <td>NaN</td>\n      <td>88.0</td>\n      <td>NaN</td>\n      <td>NaN</td>\n      <td>90.000000</td>\n      <td>5</td>\n      <td>5</td>\n    </tr>\n    <tr>\n      <th>102453</th>\n      <td>12758</td>\n      <td>31.94000</td>\n      <td>-0.062518</td>\n      <td>1.000936e+06</td>\n      <td>2021-12</td>\n      <td>0.013746</td>\n      <td>0.000430</td>\n      <td>0.001300</td>\n      <td>NaN</td>\n      <td>NaN</td>\n      <td>...</td>\n      <td>2</td>\n      <td>-0.000608</td>\n      <td>72.0</td>\n      <td>NaN</td>\n      <td>62.0</td>\n      <td>NaN</td>\n      <td>NaN</td>\n      <td>67.000000</td>\n      <td>4</td>\n      <td>4</td>\n    </tr>\n    <tr>\n      <th>1254452</th>\n      <td>93436</td>\n      <td>1056.78003</td>\n      <td>-0.076855</td>\n      <td>1.092191e+09</td>\n      <td>2021-12</td>\n      <td>-2.711472</td>\n      <td>-0.002566</td>\n      <td>-0.002780</td>\n      <td>NaN</td>\n      <td>NaN</td>\n      <td>...</td>\n      <td>2</td>\n      <td>-0.003013</td>\n      <td>53.0</td>\n      <td>NaN</td>\n      <td>62.0</td>\n      <td>NaN</td>\n      <td>NaN</td>\n      <td>57.500000</td>\n      <td>4</td>\n      <td>3</td>\n    </tr>\n  </tbody>\n</table>\n<p>1254453 rows × 30 columns</p>\n</div>"
     },
     "execution_count": 41,
     "metadata": {},
     "output_type": "execute_result"
    }
   ],
   "source": [
    "merged"
   ],
   "metadata": {
    "collapsed": false
   }
  },
  {
   "cell_type": "code",
   "execution_count": 42,
   "outputs": [],
   "source": [
    "correlation = merged.groupby(['rankdate'])[Feature_names].corr(method='pearson')"
   ],
   "metadata": {
    "collapsed": false
   }
  },
  {
   "cell_type": "code",
   "execution_count": 43,
   "outputs": [
    {
     "data": {
      "text/plain": "                      avg_bias  bias_score  Q1_lag_bias  Q2_lag_bias  \\\nrankdate                                                               \n1986-02  avg_bias     1.000000    0.258025     0.996786     0.998908   \n         bias_score   0.258025    1.000000     0.252206     0.317796   \n         Q1_lag_bias  0.996786    0.252206     1.000000    -1.000000   \n         Q2_lag_bias  0.998908    0.317796    -1.000000     1.000000   \n         Q3_lag_bias  0.971582    0.689512     0.921879          NaN   \n...                        ...         ...          ...          ...   \n2021-12  Q1_lag_bias  0.944912    0.586138     1.000000          NaN   \n         Q2_lag_bias  0.990019    0.458440          NaN     1.000000   \n         Q3_lag_bias  0.986807    0.557640          NaN          NaN   \n         A1_lag_bias  0.873316    0.334995     0.651904     0.922401   \n         A2_lag_bias  0.983038    0.491272     0.928683          NaN   \n\n                      Q3_lag_bias  A1_lag_bias  A2_lag_bias  \nrankdate                                                     \n1986-02  avg_bias        0.971582     0.995043     0.960720  \n         bias_score      0.689512     0.238353     0.484845  \n         Q1_lag_bias     0.921879     0.993486     0.917559  \n         Q2_lag_bias          NaN     0.996768     0.866641  \n         Q3_lag_bias     1.000000     0.941722     0.846741  \n...                           ...          ...          ...  \n2021-12  Q1_lag_bias          NaN     0.651904     0.928683  \n         Q2_lag_bias          NaN     0.922401          NaN  \n         Q3_lag_bias     1.000000     0.853233          NaN  \n         A1_lag_bias     0.853233     1.000000     0.836184  \n         A2_lag_bias          NaN     0.836184     1.000000  \n\n[3017 rows x 7 columns]",
      "text/html": "<div>\n<style scoped>\n    .dataframe tbody tr th:only-of-type {\n        vertical-align: middle;\n    }\n\n    .dataframe tbody tr th {\n        vertical-align: top;\n    }\n\n    .dataframe thead th {\n        text-align: right;\n    }\n</style>\n<table border=\"1\" class=\"dataframe\">\n  <thead>\n    <tr style=\"text-align: right;\">\n      <th></th>\n      <th></th>\n      <th>avg_bias</th>\n      <th>bias_score</th>\n      <th>Q1_lag_bias</th>\n      <th>Q2_lag_bias</th>\n      <th>Q3_lag_bias</th>\n      <th>A1_lag_bias</th>\n      <th>A2_lag_bias</th>\n    </tr>\n    <tr>\n      <th>rankdate</th>\n      <th></th>\n      <th></th>\n      <th></th>\n      <th></th>\n      <th></th>\n      <th></th>\n      <th></th>\n      <th></th>\n    </tr>\n  </thead>\n  <tbody>\n    <tr>\n      <th rowspan=\"5\" valign=\"top\">1986-02</th>\n      <th>avg_bias</th>\n      <td>1.000000</td>\n      <td>0.258025</td>\n      <td>0.996786</td>\n      <td>0.998908</td>\n      <td>0.971582</td>\n      <td>0.995043</td>\n      <td>0.960720</td>\n    </tr>\n    <tr>\n      <th>bias_score</th>\n      <td>0.258025</td>\n      <td>1.000000</td>\n      <td>0.252206</td>\n      <td>0.317796</td>\n      <td>0.689512</td>\n      <td>0.238353</td>\n      <td>0.484845</td>\n    </tr>\n    <tr>\n      <th>Q1_lag_bias</th>\n      <td>0.996786</td>\n      <td>0.252206</td>\n      <td>1.000000</td>\n      <td>-1.000000</td>\n      <td>0.921879</td>\n      <td>0.993486</td>\n      <td>0.917559</td>\n    </tr>\n    <tr>\n      <th>Q2_lag_bias</th>\n      <td>0.998908</td>\n      <td>0.317796</td>\n      <td>-1.000000</td>\n      <td>1.000000</td>\n      <td>NaN</td>\n      <td>0.996768</td>\n      <td>0.866641</td>\n    </tr>\n    <tr>\n      <th>Q3_lag_bias</th>\n      <td>0.971582</td>\n      <td>0.689512</td>\n      <td>0.921879</td>\n      <td>NaN</td>\n      <td>1.000000</td>\n      <td>0.941722</td>\n      <td>0.846741</td>\n    </tr>\n    <tr>\n      <th>...</th>\n      <th>...</th>\n      <td>...</td>\n      <td>...</td>\n      <td>...</td>\n      <td>...</td>\n      <td>...</td>\n      <td>...</td>\n      <td>...</td>\n    </tr>\n    <tr>\n      <th rowspan=\"5\" valign=\"top\">2021-12</th>\n      <th>Q1_lag_bias</th>\n      <td>0.944912</td>\n      <td>0.586138</td>\n      <td>1.000000</td>\n      <td>NaN</td>\n      <td>NaN</td>\n      <td>0.651904</td>\n      <td>0.928683</td>\n    </tr>\n    <tr>\n      <th>Q2_lag_bias</th>\n      <td>0.990019</td>\n      <td>0.458440</td>\n      <td>NaN</td>\n      <td>1.000000</td>\n      <td>NaN</td>\n      <td>0.922401</td>\n      <td>NaN</td>\n    </tr>\n    <tr>\n      <th>Q3_lag_bias</th>\n      <td>0.986807</td>\n      <td>0.557640</td>\n      <td>NaN</td>\n      <td>NaN</td>\n      <td>1.000000</td>\n      <td>0.853233</td>\n      <td>NaN</td>\n    </tr>\n    <tr>\n      <th>A1_lag_bias</th>\n      <td>0.873316</td>\n      <td>0.334995</td>\n      <td>0.651904</td>\n      <td>0.922401</td>\n      <td>0.853233</td>\n      <td>1.000000</td>\n      <td>0.836184</td>\n    </tr>\n    <tr>\n      <th>A2_lag_bias</th>\n      <td>0.983038</td>\n      <td>0.491272</td>\n      <td>0.928683</td>\n      <td>NaN</td>\n      <td>NaN</td>\n      <td>0.836184</td>\n      <td>1.000000</td>\n    </tr>\n  </tbody>\n</table>\n<p>3017 rows × 7 columns</p>\n</div>"
     },
     "execution_count": 43,
     "metadata": {},
     "output_type": "execute_result"
    }
   ],
   "source": [
    "correlation"
   ],
   "metadata": {
    "collapsed": false
   }
  },
  {
   "cell_type": "code",
   "execution_count": 44,
   "outputs": [],
   "source": [
    "corr=correlation.reset_index().groupby(['level_1'])[Feature_names].mean()"
   ],
   "metadata": {
    "collapsed": false
   }
  },
  {
   "cell_type": "code",
   "execution_count": 45,
   "outputs": [],
   "source": [
    "se = correlation.reset_index().groupby(['level_1'])[Feature_names].sem()"
   ],
   "metadata": {
    "collapsed": false
   }
  },
  {
   "cell_type": "code",
   "execution_count": 26,
   "outputs": [
    {
     "data": {
      "text/plain": "             avg_bias  bias_score  Q1_lag_bias  Q2_lag_bias  Q3_lag_bias  \\\nlevel_1                                                                    \nA1_lag_bias  0.004482    0.004776     0.010211     0.008903     0.006918   \nA2_lag_bias  0.007175    0.005628     0.009820     0.010522     0.012136   \nQ1_lag_bias  0.005012    0.005047     0.000000     0.067508     0.069149   \nQ2_lag_bias  0.002364    0.005726     0.067508     0.000000     0.051225   \nQ3_lag_bias  0.003456    0.005764     0.069149     0.051225     0.000000   \navg_bias     0.000000    0.005607     0.005012     0.002364     0.003456   \nbias_score   0.005607    0.000000     0.005047     0.005726     0.005764   \n\n             A1_lag_bias  A2_lag_bias  \nlevel_1                                \nA1_lag_bias     0.000000     0.009562  \nA2_lag_bias     0.009562     0.000000  \nQ1_lag_bias     0.010211     0.009820  \nQ2_lag_bias     0.008903     0.010522  \nQ3_lag_bias     0.006918     0.012136  \navg_bias        0.004482     0.007175  \nbias_score      0.004776     0.005628  ",
      "text/html": "<div>\n<style scoped>\n    .dataframe tbody tr th:only-of-type {\n        vertical-align: middle;\n    }\n\n    .dataframe tbody tr th {\n        vertical-align: top;\n    }\n\n    .dataframe thead th {\n        text-align: right;\n    }\n</style>\n<table border=\"1\" class=\"dataframe\">\n  <thead>\n    <tr style=\"text-align: right;\">\n      <th></th>\n      <th>avg_bias</th>\n      <th>bias_score</th>\n      <th>Q1_lag_bias</th>\n      <th>Q2_lag_bias</th>\n      <th>Q3_lag_bias</th>\n      <th>A1_lag_bias</th>\n      <th>A2_lag_bias</th>\n    </tr>\n    <tr>\n      <th>level_1</th>\n      <th></th>\n      <th></th>\n      <th></th>\n      <th></th>\n      <th></th>\n      <th></th>\n      <th></th>\n    </tr>\n  </thead>\n  <tbody>\n    <tr>\n      <th>A1_lag_bias</th>\n      <td>0.004482</td>\n      <td>0.004776</td>\n      <td>0.010211</td>\n      <td>0.008903</td>\n      <td>0.006918</td>\n      <td>0.000000</td>\n      <td>0.009562</td>\n    </tr>\n    <tr>\n      <th>A2_lag_bias</th>\n      <td>0.007175</td>\n      <td>0.005628</td>\n      <td>0.009820</td>\n      <td>0.010522</td>\n      <td>0.012136</td>\n      <td>0.009562</td>\n      <td>0.000000</td>\n    </tr>\n    <tr>\n      <th>Q1_lag_bias</th>\n      <td>0.005012</td>\n      <td>0.005047</td>\n      <td>0.000000</td>\n      <td>0.067508</td>\n      <td>0.069149</td>\n      <td>0.010211</td>\n      <td>0.009820</td>\n    </tr>\n    <tr>\n      <th>Q2_lag_bias</th>\n      <td>0.002364</td>\n      <td>0.005726</td>\n      <td>0.067508</td>\n      <td>0.000000</td>\n      <td>0.051225</td>\n      <td>0.008903</td>\n      <td>0.010522</td>\n    </tr>\n    <tr>\n      <th>Q3_lag_bias</th>\n      <td>0.003456</td>\n      <td>0.005764</td>\n      <td>0.069149</td>\n      <td>0.051225</td>\n      <td>0.000000</td>\n      <td>0.006918</td>\n      <td>0.012136</td>\n    </tr>\n    <tr>\n      <th>avg_bias</th>\n      <td>0.000000</td>\n      <td>0.005607</td>\n      <td>0.005012</td>\n      <td>0.002364</td>\n      <td>0.003456</td>\n      <td>0.004482</td>\n      <td>0.007175</td>\n    </tr>\n    <tr>\n      <th>bias_score</th>\n      <td>0.005607</td>\n      <td>0.000000</td>\n      <td>0.005047</td>\n      <td>0.005726</td>\n      <td>0.005764</td>\n      <td>0.004776</td>\n      <td>0.005628</td>\n    </tr>\n  </tbody>\n</table>\n</div>"
     },
     "execution_count": 26,
     "metadata": {},
     "output_type": "execute_result"
    }
   ],
   "source": [
    "se"
   ],
   "metadata": {
    "collapsed": false
   }
  },
  {
   "cell_type": "code",
   "execution_count": 31,
   "outputs": [
    {
     "data": {
      "text/plain": "             avg_bias  bias_score  Q1_lag_bias  Q2_lag_bias  Q3_lag_bias  \\\nlevel_1                                                                    \nA1_lag_bias  0.893562    0.347543     0.745967     0.775544     0.812914   \nA2_lag_bias  0.866315    0.448658     0.636172     0.614677     0.599218   \nQ1_lag_bias  0.932375    0.484072     1.000000     0.760131     0.704425   \nQ2_lag_bias  0.936747    0.528530     0.760131     1.000000     0.872303   \nQ3_lag_bias  0.935474    0.538003     0.704425     0.872303     1.000000   \navg_bias     1.000000    0.430877     0.932375     0.936747     0.935474   \nbias_score   0.430877    1.000000     0.484072     0.528530     0.538003   \n\n             A1_lag_bias  A2_lag_bias  \nlevel_1                                \nA1_lag_bias     1.000000     0.724002  \nA2_lag_bias     0.724002     1.000000  \nQ1_lag_bias     0.745967     0.636172  \nQ2_lag_bias     0.775544     0.614677  \nQ3_lag_bias     0.812914     0.599218  \navg_bias        0.893562     0.866315  \nbias_score      0.347543     0.448658  ",
      "text/html": "<div>\n<style scoped>\n    .dataframe tbody tr th:only-of-type {\n        vertical-align: middle;\n    }\n\n    .dataframe tbody tr th {\n        vertical-align: top;\n    }\n\n    .dataframe thead th {\n        text-align: right;\n    }\n</style>\n<table border=\"1\" class=\"dataframe\">\n  <thead>\n    <tr style=\"text-align: right;\">\n      <th></th>\n      <th>avg_bias</th>\n      <th>bias_score</th>\n      <th>Q1_lag_bias</th>\n      <th>Q2_lag_bias</th>\n      <th>Q3_lag_bias</th>\n      <th>A1_lag_bias</th>\n      <th>A2_lag_bias</th>\n    </tr>\n    <tr>\n      <th>level_1</th>\n      <th></th>\n      <th></th>\n      <th></th>\n      <th></th>\n      <th></th>\n      <th></th>\n      <th></th>\n    </tr>\n  </thead>\n  <tbody>\n    <tr>\n      <th>A1_lag_bias</th>\n      <td>0.893562</td>\n      <td>0.347543</td>\n      <td>0.745967</td>\n      <td>0.775544</td>\n      <td>0.812914</td>\n      <td>1.000000</td>\n      <td>0.724002</td>\n    </tr>\n    <tr>\n      <th>A2_lag_bias</th>\n      <td>0.866315</td>\n      <td>0.448658</td>\n      <td>0.636172</td>\n      <td>0.614677</td>\n      <td>0.599218</td>\n      <td>0.724002</td>\n      <td>1.000000</td>\n    </tr>\n    <tr>\n      <th>Q1_lag_bias</th>\n      <td>0.932375</td>\n      <td>0.484072</td>\n      <td>1.000000</td>\n      <td>0.760131</td>\n      <td>0.704425</td>\n      <td>0.745967</td>\n      <td>0.636172</td>\n    </tr>\n    <tr>\n      <th>Q2_lag_bias</th>\n      <td>0.936747</td>\n      <td>0.528530</td>\n      <td>0.760131</td>\n      <td>1.000000</td>\n      <td>0.872303</td>\n      <td>0.775544</td>\n      <td>0.614677</td>\n    </tr>\n    <tr>\n      <th>Q3_lag_bias</th>\n      <td>0.935474</td>\n      <td>0.538003</td>\n      <td>0.704425</td>\n      <td>0.872303</td>\n      <td>1.000000</td>\n      <td>0.812914</td>\n      <td>0.599218</td>\n    </tr>\n    <tr>\n      <th>avg_bias</th>\n      <td>1.000000</td>\n      <td>0.430877</td>\n      <td>0.932375</td>\n      <td>0.936747</td>\n      <td>0.935474</td>\n      <td>0.893562</td>\n      <td>0.866315</td>\n    </tr>\n    <tr>\n      <th>bias_score</th>\n      <td>0.430877</td>\n      <td>1.000000</td>\n      <td>0.484072</td>\n      <td>0.528530</td>\n      <td>0.538003</td>\n      <td>0.347543</td>\n      <td>0.448658</td>\n    </tr>\n  </tbody>\n</table>\n</div>"
     },
     "execution_count": 31,
     "metadata": {},
     "output_type": "execute_result"
    }
   ],
   "source": [
    "corr"
   ],
   "metadata": {
    "collapsed": false
   }
  },
  {
   "cell_type": "code",
   "execution_count": 46,
   "outputs": [],
   "source": [
    "df=corr.reindex(['avg_bias','bias_score','Q1_lag_bias','Q2_lag_bias','Q3_lag_bias', 'A1_lag_bias','A2_lag_bias'])"
   ],
   "metadata": {
    "collapsed": false
   }
  },
  {
   "cell_type": "code",
   "execution_count": 47,
   "outputs": [],
   "source": [
    "df.index.name = 'Variable'"
   ],
   "metadata": {
    "collapsed": false
   }
  },
  {
   "cell_type": "code",
   "execution_count": 48,
   "outputs": [],
   "source": [
    "ut=np.triu(np.ones(df.shape), 0).astype(bool)\n",
    "# lt=np.tril(np.ones(df.shape),0).astype(bool)\n",
    "df1=df.mask(ut)\n",
    "# df1.set_index(['level_1'], drop=True, inplace=True)"
   ],
   "metadata": {
    "collapsed": false
   }
  },
  {
   "cell_type": "code",
   "execution_count": 49,
   "outputs": [
    {
     "data": {
      "text/plain": "             avg_bias  bias_score  Q1_lag_bias  Q2_lag_bias  Q3_lag_bias  \\\nVariable                                                                   \navg_bias     1.000000    0.432195     0.934054     0.938582     0.936996   \nbias_score   0.432195    1.000000     0.484072     0.529237     0.541850   \nQ1_lag_bias  0.934054    0.484072     1.000000     0.784875     0.722304   \nQ2_lag_bias  0.938582    0.529237     0.784875     1.000000     0.800605   \nQ3_lag_bias  0.936996    0.541850     0.722304     0.800605     1.000000   \nA1_lag_bias  0.894541    0.348114     0.749856     0.782240     0.817277   \nA2_lag_bias  0.866375    0.451957     0.638234     0.620798     0.607224   \n\n             A1_lag_bias  A2_lag_bias  \nVariable                               \navg_bias        0.894541     0.866375  \nbias_score      0.348114     0.451957  \nQ1_lag_bias     0.749856     0.638234  \nQ2_lag_bias     0.782240     0.620798  \nQ3_lag_bias     0.817277     0.607224  \nA1_lag_bias     1.000000     0.724655  \nA2_lag_bias     0.724655     1.000000  ",
      "text/html": "<div>\n<style scoped>\n    .dataframe tbody tr th:only-of-type {\n        vertical-align: middle;\n    }\n\n    .dataframe tbody tr th {\n        vertical-align: top;\n    }\n\n    .dataframe thead th {\n        text-align: right;\n    }\n</style>\n<table border=\"1\" class=\"dataframe\">\n  <thead>\n    <tr style=\"text-align: right;\">\n      <th></th>\n      <th>avg_bias</th>\n      <th>bias_score</th>\n      <th>Q1_lag_bias</th>\n      <th>Q2_lag_bias</th>\n      <th>Q3_lag_bias</th>\n      <th>A1_lag_bias</th>\n      <th>A2_lag_bias</th>\n    </tr>\n    <tr>\n      <th>Variable</th>\n      <th></th>\n      <th></th>\n      <th></th>\n      <th></th>\n      <th></th>\n      <th></th>\n      <th></th>\n    </tr>\n  </thead>\n  <tbody>\n    <tr>\n      <th>avg_bias</th>\n      <td>1.000000</td>\n      <td>0.432195</td>\n      <td>0.934054</td>\n      <td>0.938582</td>\n      <td>0.936996</td>\n      <td>0.894541</td>\n      <td>0.866375</td>\n    </tr>\n    <tr>\n      <th>bias_score</th>\n      <td>0.432195</td>\n      <td>1.000000</td>\n      <td>0.484072</td>\n      <td>0.529237</td>\n      <td>0.541850</td>\n      <td>0.348114</td>\n      <td>0.451957</td>\n    </tr>\n    <tr>\n      <th>Q1_lag_bias</th>\n      <td>0.934054</td>\n      <td>0.484072</td>\n      <td>1.000000</td>\n      <td>0.784875</td>\n      <td>0.722304</td>\n      <td>0.749856</td>\n      <td>0.638234</td>\n    </tr>\n    <tr>\n      <th>Q2_lag_bias</th>\n      <td>0.938582</td>\n      <td>0.529237</td>\n      <td>0.784875</td>\n      <td>1.000000</td>\n      <td>0.800605</td>\n      <td>0.782240</td>\n      <td>0.620798</td>\n    </tr>\n    <tr>\n      <th>Q3_lag_bias</th>\n      <td>0.936996</td>\n      <td>0.541850</td>\n      <td>0.722304</td>\n      <td>0.800605</td>\n      <td>1.000000</td>\n      <td>0.817277</td>\n      <td>0.607224</td>\n    </tr>\n    <tr>\n      <th>A1_lag_bias</th>\n      <td>0.894541</td>\n      <td>0.348114</td>\n      <td>0.749856</td>\n      <td>0.782240</td>\n      <td>0.817277</td>\n      <td>1.000000</td>\n      <td>0.724655</td>\n    </tr>\n    <tr>\n      <th>A2_lag_bias</th>\n      <td>0.866375</td>\n      <td>0.451957</td>\n      <td>0.638234</td>\n      <td>0.620798</td>\n      <td>0.607224</td>\n      <td>0.724655</td>\n      <td>1.000000</td>\n    </tr>\n  </tbody>\n</table>\n</div>"
     },
     "execution_count": 49,
     "metadata": {},
     "output_type": "execute_result"
    }
   ],
   "source": [
    "df"
   ],
   "metadata": {
    "collapsed": false
   }
  },
  {
   "cell_type": "code",
   "execution_count": 50,
   "outputs": [],
   "source": [
    "def pd_fill_diagonal(df_matrix, value = 0):\n",
    "    mat = df_matrix.values\n",
    "    n = mat.shape[0]\n",
    "    mat[range(n), range(n)] = value\n",
    "    return pd.DataFrame(mat)"
   ],
   "metadata": {
    "collapsed": false
   }
  },
  {
   "cell_type": "code",
   "execution_count": 51,
   "outputs": [],
   "source": [
    "df2 = pd_fill_diagonal(df1, value = 1)\n",
    "df2 = df2.round(3)"
   ],
   "metadata": {
    "collapsed": false
   }
  },
  {
   "cell_type": "code",
   "execution_count": 52,
   "outputs": [
    {
     "data": {
      "text/plain": "       0      1      2      3      4      5    6\n0  1.000    NaN    NaN    NaN    NaN    NaN  NaN\n1  0.432  1.000    NaN    NaN    NaN    NaN  NaN\n2  0.934  0.484  1.000    NaN    NaN    NaN  NaN\n3  0.939  0.529  0.785  1.000    NaN    NaN  NaN\n4  0.937  0.542  0.722  0.801  1.000    NaN  NaN\n5  0.895  0.348  0.750  0.782  0.817  1.000  NaN\n6  0.866  0.452  0.638  0.621  0.607  0.725  1.0",
      "text/html": "<div>\n<style scoped>\n    .dataframe tbody tr th:only-of-type {\n        vertical-align: middle;\n    }\n\n    .dataframe tbody tr th {\n        vertical-align: top;\n    }\n\n    .dataframe thead th {\n        text-align: right;\n    }\n</style>\n<table border=\"1\" class=\"dataframe\">\n  <thead>\n    <tr style=\"text-align: right;\">\n      <th></th>\n      <th>0</th>\n      <th>1</th>\n      <th>2</th>\n      <th>3</th>\n      <th>4</th>\n      <th>5</th>\n      <th>6</th>\n    </tr>\n  </thead>\n  <tbody>\n    <tr>\n      <th>0</th>\n      <td>1.000</td>\n      <td>NaN</td>\n      <td>NaN</td>\n      <td>NaN</td>\n      <td>NaN</td>\n      <td>NaN</td>\n      <td>NaN</td>\n    </tr>\n    <tr>\n      <th>1</th>\n      <td>0.432</td>\n      <td>1.000</td>\n      <td>NaN</td>\n      <td>NaN</td>\n      <td>NaN</td>\n      <td>NaN</td>\n      <td>NaN</td>\n    </tr>\n    <tr>\n      <th>2</th>\n      <td>0.934</td>\n      <td>0.484</td>\n      <td>1.000</td>\n      <td>NaN</td>\n      <td>NaN</td>\n      <td>NaN</td>\n      <td>NaN</td>\n    </tr>\n    <tr>\n      <th>3</th>\n      <td>0.939</td>\n      <td>0.529</td>\n      <td>0.785</td>\n      <td>1.000</td>\n      <td>NaN</td>\n      <td>NaN</td>\n      <td>NaN</td>\n    </tr>\n    <tr>\n      <th>4</th>\n      <td>0.937</td>\n      <td>0.542</td>\n      <td>0.722</td>\n      <td>0.801</td>\n      <td>1.000</td>\n      <td>NaN</td>\n      <td>NaN</td>\n    </tr>\n    <tr>\n      <th>5</th>\n      <td>0.895</td>\n      <td>0.348</td>\n      <td>0.750</td>\n      <td>0.782</td>\n      <td>0.817</td>\n      <td>1.000</td>\n      <td>NaN</td>\n    </tr>\n    <tr>\n      <th>6</th>\n      <td>0.866</td>\n      <td>0.452</td>\n      <td>0.638</td>\n      <td>0.621</td>\n      <td>0.607</td>\n      <td>0.725</td>\n      <td>1.0</td>\n    </tr>\n  </tbody>\n</table>\n</div>"
     },
     "execution_count": 52,
     "metadata": {},
     "output_type": "execute_result"
    }
   ],
   "source": [
    "df2"
   ],
   "metadata": {
    "collapsed": false
   }
  },
  {
   "cell_type": "code",
   "execution_count": 53,
   "outputs": [],
   "source": [
    "df2.columns = ['Average BE','BE Score','BE_Q1','BE_Q2','BE_Q3','BE_A1','BE_A2']\n",
    "df2=df2.set_index([pd.Index(['Average BE','BE Score','BE_Q1','BE_Q2','BE_Q3','BE_A1','BE_A2'])])"
   ],
   "metadata": {
    "collapsed": false
   }
  },
  {
   "cell_type": "code",
   "execution_count": 54,
   "outputs": [],
   "source": [
    "df2.index.name = 'Variable'"
   ],
   "metadata": {
    "collapsed": false
   }
  },
  {
   "cell_type": "code",
   "execution_count": 55,
   "outputs": [
    {
     "data": {
      "text/plain": "            Average BE  BE Score  BE_Q1  BE_Q2  BE_Q3  BE_A1  BE_A2\nVariable                                                           \nAverage BE       1.000       NaN    NaN    NaN    NaN    NaN    NaN\nBE Score         0.432     1.000    NaN    NaN    NaN    NaN    NaN\nBE_Q1            0.934     0.484  1.000    NaN    NaN    NaN    NaN\nBE_Q2            0.939     0.529  0.785  1.000    NaN    NaN    NaN\nBE_Q3            0.937     0.542  0.722  0.801  1.000    NaN    NaN\nBE_A1            0.895     0.348  0.750  0.782  0.817  1.000    NaN\nBE_A2            0.866     0.452  0.638  0.621  0.607  0.725    1.0",
      "text/html": "<div>\n<style scoped>\n    .dataframe tbody tr th:only-of-type {\n        vertical-align: middle;\n    }\n\n    .dataframe tbody tr th {\n        vertical-align: top;\n    }\n\n    .dataframe thead th {\n        text-align: right;\n    }\n</style>\n<table border=\"1\" class=\"dataframe\">\n  <thead>\n    <tr style=\"text-align: right;\">\n      <th></th>\n      <th>Average BE</th>\n      <th>BE Score</th>\n      <th>BE_Q1</th>\n      <th>BE_Q2</th>\n      <th>BE_Q3</th>\n      <th>BE_A1</th>\n      <th>BE_A2</th>\n    </tr>\n    <tr>\n      <th>Variable</th>\n      <th></th>\n      <th></th>\n      <th></th>\n      <th></th>\n      <th></th>\n      <th></th>\n      <th></th>\n    </tr>\n  </thead>\n  <tbody>\n    <tr>\n      <th>Average BE</th>\n      <td>1.000</td>\n      <td>NaN</td>\n      <td>NaN</td>\n      <td>NaN</td>\n      <td>NaN</td>\n      <td>NaN</td>\n      <td>NaN</td>\n    </tr>\n    <tr>\n      <th>BE Score</th>\n      <td>0.432</td>\n      <td>1.000</td>\n      <td>NaN</td>\n      <td>NaN</td>\n      <td>NaN</td>\n      <td>NaN</td>\n      <td>NaN</td>\n    </tr>\n    <tr>\n      <th>BE_Q1</th>\n      <td>0.934</td>\n      <td>0.484</td>\n      <td>1.000</td>\n      <td>NaN</td>\n      <td>NaN</td>\n      <td>NaN</td>\n      <td>NaN</td>\n    </tr>\n    <tr>\n      <th>BE_Q2</th>\n      <td>0.939</td>\n      <td>0.529</td>\n      <td>0.785</td>\n      <td>1.000</td>\n      <td>NaN</td>\n      <td>NaN</td>\n      <td>NaN</td>\n    </tr>\n    <tr>\n      <th>BE_Q3</th>\n      <td>0.937</td>\n      <td>0.542</td>\n      <td>0.722</td>\n      <td>0.801</td>\n      <td>1.000</td>\n      <td>NaN</td>\n      <td>NaN</td>\n    </tr>\n    <tr>\n      <th>BE_A1</th>\n      <td>0.895</td>\n      <td>0.348</td>\n      <td>0.750</td>\n      <td>0.782</td>\n      <td>0.817</td>\n      <td>1.000</td>\n      <td>NaN</td>\n    </tr>\n    <tr>\n      <th>BE_A2</th>\n      <td>0.866</td>\n      <td>0.452</td>\n      <td>0.638</td>\n      <td>0.621</td>\n      <td>0.607</td>\n      <td>0.725</td>\n      <td>1.0</td>\n    </tr>\n  </tbody>\n</table>\n</div>"
     },
     "execution_count": 55,
     "metadata": {},
     "output_type": "execute_result"
    }
   ],
   "source": [
    "df2"
   ],
   "metadata": {
    "collapsed": false
   }
  },
  {
   "cell_type": "code",
   "execution_count": 56,
   "outputs": [
    {
     "data": {
      "text/plain": "<Figure size 640x480 with 2 Axes>",
      "image/png": "[encoded data removed]"
     },
     "metadata": {},
     "output_type": "display_data"
    }
   ],
   "source": [
    "#cmap是设置热图的颜色\n",
    "cmap = sns.diverging_palette(220, 10, as_cmap=True)\n",
    "#绘制热图\n",
    "g = sns.heatmap(df2, mask=ut, cmap=cmap, square=True, annot=True, fmt='0.3f')\n",
    "#  xcorr : 数据矩阵\n",
    "#  mask : 为True的元素对应位置不会画出来（mask面具的意义）\n",
    "#  cmap: 颜色设置\n",
    "#  square: （True）代表行列长度一致，且绘制的每个也是方格\n",
    "#  annot ： 在格内显示数据\n",
    "#  fmt ：数据格式"
   ],
   "metadata": {
    "collapsed": false
   }
  },
  {
   "cell_type": "code",
   "execution_count": 57,
   "outputs": [],
   "source": [
    "df2=df2.replace(np.NaN,'')"
   ],
   "metadata": {
    "collapsed": false
   }
  },
  {
   "cell_type": "code",
   "execution_count": 58,
   "outputs": [],
   "source": [
    "df2.to_csv('correlation.csv')   ### Correlations"
   ],
   "metadata": {
    "collapsed": false
   }
  },
  {
   "cell_type": "code",
   "execution_count": 59,
   "outputs": [],
   "source": [
    "corr=corr.reindex(['avg_bias','bias_score','Q1_lag_bias','Q2_lag_bias','Q3_lag_bias', 'A1_lag_bias','A2_lag_bias'])\n",
    "se=se.reindex(['avg_bias','bias_score','Q1_lag_bias','Q2_lag_bias','Q3_lag_bias','A1_lag_bias','A2_lag_bias'])"
   ],
   "metadata": {
    "collapsed": false
   }
  },
  {
   "cell_type": "code",
   "execution_count": 60,
   "outputs": [],
   "source": [
    "significance =corr.div(se) ### Significance of correlations"
   ],
   "metadata": {
    "collapsed": false
   }
  },
  {
   "cell_type": "code",
   "execution_count": 61,
   "outputs": [
    {
     "data": {
      "text/plain": "               avg_bias  bias_score  Q1_lag_bias  Q2_lag_bias  Q3_lag_bias  \\\nlevel_1                                                                      \navg_bias            inf   76.759486   197.229760   404.424299   292.826065   \nbias_score    76.759486         inf    96.393817    92.318118    94.708254   \nQ1_lag_bias  197.229760   96.393817          inf    12.287546    10.820564   \nQ2_lag_bias  404.424299   92.318118    12.287546          inf    12.016456   \nQ3_lag_bias  292.826065   94.708254    10.820564    12.016456          inf   \nA1_lag_bias  197.374826   72.243924    74.329623    89.453833   123.011431   \nA2_lag_bias  122.244941   79.953748    65.173134    60.395214    51.191509   \n\n             A1_lag_bias  A2_lag_bias  \nlevel_1                                \navg_bias      197.374826   122.244941  \nbias_score     72.243924    79.953748  \nQ1_lag_bias    74.329623    65.173134  \nQ2_lag_bias    89.453833    60.395214  \nQ3_lag_bias   123.011431    51.191509  \nA1_lag_bias          inf    76.390606  \nA2_lag_bias    76.390606          inf  ",
      "text/html": "<div>\n<style scoped>\n    .dataframe tbody tr th:only-of-type {\n        vertical-align: middle;\n    }\n\n    .dataframe tbody tr th {\n        vertical-align: top;\n    }\n\n    .dataframe thead th {\n        text-align: right;\n    }\n</style>\n<table border=\"1\" class=\"dataframe\">\n  <thead>\n    <tr style=\"text-align: right;\">\n      <th></th>\n      <th>avg_bias</th>\n      <th>bias_score</th>\n      <th>Q1_lag_bias</th>\n      <th>Q2_lag_bias</th>\n      <th>Q3_lag_bias</th>\n      <th>A1_lag_bias</th>\n      <th>A2_lag_bias</th>\n    </tr>\n    <tr>\n      <th>level_1</th>\n      <th></th>\n      <th></th>\n      <th></th>\n      <th></th>\n      <th></th>\n      <th></th>\n      <th></th>\n    </tr>\n  </thead>\n  <tbody>\n    <tr>\n      <th>avg_bias</th>\n      <td>inf</td>\n      <td>76.759486</td>\n      <td>197.229760</td>\n      <td>404.424299</td>\n      <td>292.826065</td>\n      <td>197.374826</td>\n      <td>122.244941</td>\n    </tr>\n    <tr>\n      <th>bias_score</th>\n      <td>76.759486</td>\n      <td>inf</td>\n      <td>96.393817</td>\n      <td>92.318118</td>\n      <td>94.708254</td>\n      <td>72.243924</td>\n      <td>79.953748</td>\n    </tr>\n    <tr>\n      <th>Q1_lag_bias</th>\n      <td>197.229760</td>\n      <td>96.393817</td>\n      <td>inf</td>\n      <td>12.287546</td>\n      <td>10.820564</td>\n      <td>74.329623</td>\n      <td>65.173134</td>\n    </tr>\n    <tr>\n      <th>Q2_lag_bias</th>\n      <td>404.424299</td>\n      <td>92.318118</td>\n      <td>12.287546</td>\n      <td>inf</td>\n      <td>12.016456</td>\n      <td>89.453833</td>\n      <td>60.395214</td>\n    </tr>\n    <tr>\n      <th>Q3_lag_bias</th>\n      <td>292.826065</td>\n      <td>94.708254</td>\n      <td>10.820564</td>\n      <td>12.016456</td>\n      <td>inf</td>\n      <td>123.011431</td>\n      <td>51.191509</td>\n    </tr>\n    <tr>\n      <th>A1_lag_bias</th>\n      <td>197.374826</td>\n      <td>72.243924</td>\n      <td>74.329623</td>\n      <td>89.453833</td>\n      <td>123.011431</td>\n      <td>inf</td>\n      <td>76.390606</td>\n    </tr>\n    <tr>\n      <th>A2_lag_bias</th>\n      <td>122.244941</td>\n      <td>79.953748</td>\n      <td>65.173134</td>\n      <td>60.395214</td>\n      <td>51.191509</td>\n      <td>76.390606</td>\n      <td>inf</td>\n    </tr>\n  </tbody>\n</table>\n</div>"
     },
     "execution_count": 61,
     "metadata": {},
     "output_type": "execute_result"
    }
   ],
   "source": [
    "significance"
   ],
   "metadata": {
    "collapsed": false
   }
  }
 ],
 "metadata": {
  "kernelspec": {
   "display_name": "Python 3",
   "language": "python",
   "name": "python3"
  },
  "language_info": {
   "codemirror_mode": {
    "name": "ipython",
    "version": 2
   },
   "file_extension": ".py",
   "mimetype": "text/x-python",
   "name": "python",
   "nbconvert_exporter": "python",
   "pygments_lexer": "ipython2",
   "version": "2.7.6"
  }
 },
 "nbformat": 4,
 "nbformat_minor": 0
}

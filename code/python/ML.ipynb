{
 "cells": [
  {
   "cell_type": "code",
   "execution_count": 1,
   "metadata": {
    "collapsed": true
   },
   "outputs": [],
   "source": [
    "import pandas as pd\n",
    "import numpy as np\n",
    "import matplotlib.pyplot as plt\n",
    "from datetime import datetime\n",
    "import os\n",
    "%matplotlib inline"
   ]
  },
  {
   "cell_type": "code",
   "execution_count": 2,
   "outputs": [],
   "source": [
    "cd = \"C:\\\\Users\\\\ASUS\\\\Desktop\\\\bias\\\\all_datasets\""
   ],
   "metadata": {
    "collapsed": false
   }
  },
  {
   "cell_type": "code",
   "execution_count": 3,
   "outputs": [
    {
     "data": {
      "text/plain": "['crsp_msf.csv',\n 'ibes_unadjusted_actuals.csv',\n 'ibes_unadjusted_summary.csv',\n 'IPT_1962-M11_present.xlsx',\n 'real_GDP_1965-M11_present.xlsx',\n 'real_GDP_1965-Q4_present.xlsx',\n 'real_personal_consumption_1965-M11_present.xlsx',\n 'real_personal_consumption_1965-Q4_present.xlsx',\n 'unemployment_1965-Q4_present.xlsx',\n 'wrdscomp_finratios.csv',\n 'wrds_ibes_crsp_links.csv',\n '~$real_GDP_1965-M11_present.xlsx',\n '~$real_personal_consumption_1965-M11_present.xlsx']"
     },
     "execution_count": 3,
     "metadata": {},
     "output_type": "execute_result"
    }
   ],
   "source": [
    "os.listdir(cd)"
   ],
   "metadata": {
    "collapsed": false
   }
  },
  {
   "cell_type": "code",
   "execution_count": 4,
   "outputs": [],
   "source": [
    "os.chdir(cd)"
   ],
   "metadata": {
    "collapsed": false
   }
  },
  {
   "cell_type": "markdown",
   "source": [
    "### CRSP msf\n",
    "- relevant variables: `PRC`, `RET`, `CFACSHR`\n",
    "- fix delisting return: `msf.RET.update(msf.DLRET)`\n",
    "- If the closing price is not available on any given trading day, the number in the price field has a negative sign to indicate that it is a bid/ask average and not an actual closing price. Please note that in this field the negative sign is a symbol and that the value of the bid/ask average is not negative."
   ],
   "metadata": {
    "collapsed": false
   }
  },
  {
   "cell_type": "code",
   "execution_count": 5,
   "outputs": [],
   "source": [
    "CRSP = pd.read_csv('crsp_msf.csv',usecols=['PERMNO', 'date', 'SHRCD', 'EXCHCD', 'RET', 'DLRET', 'PRC', 'CFACPR', 'CFACSHR'], low_memory=False)"
   ],
   "metadata": {
    "collapsed": false
   }
  },
  {
   "cell_type": "code",
   "execution_count": 6,
   "outputs": [],
   "source": [
    "CRSP = CRSP[(CRSP.SHRCD.apply(lambda x: x in [10.0, 11.0])) & (CRSP.EXCHCD.apply(lambda x: x in [1, 2, 3]))].reset_index(drop=True)"
   ],
   "metadata": {
    "collapsed": false
   }
  },
  {
   "cell_type": "code",
   "execution_count": 7,
   "outputs": [],
   "source": [
    "CRSP.PRC = abs(CRSP['PRC'])\n",
    "CRSP.loc[CRSP.DLRET.notnull(), 'RET'] = CRSP.DLRET"
   ],
   "metadata": {
    "collapsed": false
   }
  },
  {
   "cell_type": "code",
   "execution_count": 8,
   "outputs": [],
   "source": [
    "CRSP['rankdate']=pd.to_datetime(CRSP.date,format='%Y%m%d')\n",
    "CRSP['rankdate'] = CRSP['rankdate'].dt.to_period('M')\n",
    "CRSP['RET'] = pd.to_numeric(CRSP['RET'], errors='coerce')"
   ],
   "metadata": {
    "collapsed": false
   }
  },
  {
   "cell_type": "code",
   "execution_count": 9,
   "outputs": [],
   "source": [
    "# 观察到RET序列中有字母，因此需提前删除\n",
    "# CRSP = CRSP.sort_values(by=['PERMNO','rankdate'], ascending=True)\n",
    "# 考虑不删除缺失值\n",
    "CRSP = CRSP.sort_values(by=['PERMNO','rankdate'], ascending=True)"
   ],
   "metadata": {
    "collapsed": false
   }
  },
  {
   "cell_type": "markdown",
   "source": [
    "### IBES and IBES_CRSP_link\n",
    "- relevant identifiers: `TICKER` for IBES, `CUSIP`, `PERMNO` for CRSP\n",
    "- forecast time horizons: `FPI` in (1,2,6,7,8) --> 1-year, 2-year, one-quarter, two-quarters, three-quarters\n",
    "- match IBES actual file (actual realized earnings) with summary file (analysts' consensus forecasts) using Ticker and fiscal end date (`FPEDATS` in summary and `PENDS` in actual)\n",
    "- match IBES with CRSP: use `SCORE`=1, filter `SHRCD` in (10,11), `EXCHCD` in (1,2,3) --> historical cusip, common stocks, major exchanges"
   ],
   "metadata": {
    "collapsed": false
   }
  },
  {
   "cell_type": "code",
   "execution_count": 10,
   "outputs": [],
   "source": [
    "summary_file = pd.read_csv('ibes_unadjusted_summary.csv', usecols=['TICKER', 'CUSIP', 'STATPERS', 'FPI', 'MEANEST', 'FPEDATS'])"
   ],
   "metadata": {
    "collapsed": false
   }
  },
  {
   "cell_type": "code",
   "execution_count": 11,
   "outputs": [],
   "source": [
    "summary_file = summary_file[summary_file.FPI != 9]"
   ],
   "metadata": {
    "collapsed": false
   }
  },
  {
   "cell_type": "code",
   "execution_count": 12,
   "outputs": [
    {
     "data": {
      "text/plain": "  TICKER     CUSIP    STATPERS  FPI  MEANEST     FPEDATS\n0   0000  87482X10  2014-04-17    6     0.08  2014-03-31\n1   0000  87482X10  2014-05-15    6     0.13  2014-06-30\n2   0000  87482X10  2014-06-19    6     0.13  2014-06-30\n3   0000  87482X10  2014-07-17    6     0.13  2014-06-30\n4   0000  87482X10  2014-04-17    7     0.12  2014-06-30",
      "text/html": "<div>\n<style scoped>\n    .dataframe tbody tr th:only-of-type {\n        vertical-align: middle;\n    }\n\n    .dataframe tbody tr th {\n        vertical-align: top;\n    }\n\n    .dataframe thead th {\n        text-align: right;\n    }\n</style>\n<table border=\"1\" class=\"dataframe\">\n  <thead>\n    <tr style=\"text-align: right;\">\n      <th></th>\n      <th>TICKER</th>\n      <th>CUSIP</th>\n      <th>STATPERS</th>\n      <th>FPI</th>\n      <th>MEANEST</th>\n      <th>FPEDATS</th>\n    </tr>\n  </thead>\n  <tbody>\n    <tr>\n      <th>0</th>\n      <td>0000</td>\n      <td>87482X10</td>\n      <td>2014-04-17</td>\n      <td>6</td>\n      <td>0.08</td>\n      <td>2014-03-31</td>\n    </tr>\n    <tr>\n      <th>1</th>\n      <td>0000</td>\n      <td>87482X10</td>\n      <td>2014-05-15</td>\n      <td>6</td>\n      <td>0.13</td>\n      <td>2014-06-30</td>\n    </tr>\n    <tr>\n      <th>2</th>\n      <td>0000</td>\n      <td>87482X10</td>\n      <td>2014-06-19</td>\n      <td>6</td>\n      <td>0.13</td>\n      <td>2014-06-30</td>\n    </tr>\n    <tr>\n      <th>3</th>\n      <td>0000</td>\n      <td>87482X10</td>\n      <td>2014-07-17</td>\n      <td>6</td>\n      <td>0.13</td>\n      <td>2014-06-30</td>\n    </tr>\n    <tr>\n      <th>4</th>\n      <td>0000</td>\n      <td>87482X10</td>\n      <td>2014-04-17</td>\n      <td>7</td>\n      <td>0.12</td>\n      <td>2014-06-30</td>\n    </tr>\n  </tbody>\n</table>\n</div>"
     },
     "execution_count": 12,
     "metadata": {},
     "output_type": "execute_result"
    }
   ],
   "source": [
    "summary_file.head()"
   ],
   "metadata": {
    "collapsed": false
   }
  },
  {
   "cell_type": "code",
   "execution_count": 13,
   "outputs": [],
   "source": [
    "actual = pd.read_csv('ibes_unadjusted_actuals.csv', usecols=['TICKER', 'PENDS', 'VALUE', 'PDICITY'])"
   ],
   "metadata": {
    "collapsed": false
   }
  },
  {
   "cell_type": "code",
   "execution_count": 14,
   "outputs": [],
   "source": [
    "actual = actual[actual.PDICITY == 'ANN'].drop('PDICITY', axis=1).dropna(subset=['TICKER', 'VALUE'], how='any').sort_values(by=['TICKER', 'PENDS'], ascending=True)"
   ],
   "metadata": {
    "collapsed": false
   }
  },
  {
   "cell_type": "code",
   "execution_count": 15,
   "outputs": [],
   "source": [
    "actual['past_eps'] = actual.groupby('TICKER').apply(lambda stock: stock.VALUE.shift(1)).values"
   ],
   "metadata": {
    "collapsed": false
   }
  },
  {
   "cell_type": "code",
   "execution_count": 16,
   "outputs": [],
   "source": [
    "IBES = pd.merge(actual, summary_file, how='inner', left_on=['TICKER', 'PENDS'], right_on=['TICKER', 'FPEDATS']).drop('FPEDATS', axis=1)"
   ],
   "metadata": {
    "collapsed": false
   }
  },
  {
   "cell_type": "code",
   "execution_count": 17,
   "outputs": [
    {
     "data": {
      "text/plain": "  TICKER       PENDS  VALUE  past_eps     CUSIP    STATPERS  FPI  MEANEST\n0   0000  2014-12-31   1.21       NaN  87482X10  2014-04-17    1     0.52\n1   0000  2014-12-31   1.21       NaN  87482X10  2014-05-15    1     0.56\n2   0000  2014-12-31   1.21       NaN  87482X10  2014-06-19    1     0.56\n3   0000  2014-12-31   1.21       NaN  87482X10  2014-07-17    1     0.56\n4   0000  2014-12-31   1.21       NaN  87482X10  2014-08-14    1     1.18",
      "text/html": "<div>\n<style scoped>\n    .dataframe tbody tr th:only-of-type {\n        vertical-align: middle;\n    }\n\n    .dataframe tbody tr th {\n        vertical-align: top;\n    }\n\n    .dataframe thead th {\n        text-align: right;\n    }\n</style>\n<table border=\"1\" class=\"dataframe\">\n  <thead>\n    <tr style=\"text-align: right;\">\n      <th></th>\n      <th>TICKER</th>\n      <th>PENDS</th>\n      <th>VALUE</th>\n      <th>past_eps</th>\n      <th>CUSIP</th>\n      <th>STATPERS</th>\n      <th>FPI</th>\n      <th>MEANEST</th>\n    </tr>\n  </thead>\n  <tbody>\n    <tr>\n      <th>0</th>\n      <td>0000</td>\n      <td>2014-12-31</td>\n      <td>1.21</td>\n      <td>NaN</td>\n      <td>87482X10</td>\n      <td>2014-04-17</td>\n      <td>1</td>\n      <td>0.52</td>\n    </tr>\n    <tr>\n      <th>1</th>\n      <td>0000</td>\n      <td>2014-12-31</td>\n      <td>1.21</td>\n      <td>NaN</td>\n      <td>87482X10</td>\n      <td>2014-05-15</td>\n      <td>1</td>\n      <td>0.56</td>\n    </tr>\n    <tr>\n      <th>2</th>\n      <td>0000</td>\n      <td>2014-12-31</td>\n      <td>1.21</td>\n      <td>NaN</td>\n      <td>87482X10</td>\n      <td>2014-06-19</td>\n      <td>1</td>\n      <td>0.56</td>\n    </tr>\n    <tr>\n      <th>3</th>\n      <td>0000</td>\n      <td>2014-12-31</td>\n      <td>1.21</td>\n      <td>NaN</td>\n      <td>87482X10</td>\n      <td>2014-07-17</td>\n      <td>1</td>\n      <td>0.56</td>\n    </tr>\n    <tr>\n      <th>4</th>\n      <td>0000</td>\n      <td>2014-12-31</td>\n      <td>1.21</td>\n      <td>NaN</td>\n      <td>87482X10</td>\n      <td>2014-08-14</td>\n      <td>1</td>\n      <td>1.18</td>\n    </tr>\n  </tbody>\n</table>\n</div>"
     },
     "execution_count": 17,
     "metadata": {},
     "output_type": "execute_result"
    }
   ],
   "source": [
    "IBES.head()"
   ],
   "metadata": {
    "collapsed": false
   }
  },
  {
   "cell_type": "code",
   "execution_count": 18,
   "outputs": [
    {
     "data": {
      "text/plain": "(12122826, 8)"
     },
     "execution_count": 18,
     "metadata": {},
     "output_type": "execute_result"
    }
   ],
   "source": [
    "IBES.shape"
   ],
   "metadata": {
    "collapsed": false
   }
  },
  {
   "cell_type": "code",
   "execution_count": 19,
   "outputs": [],
   "source": [
    "link_table = pd.read_csv('wrds_ibes_crsp_links.csv', usecols=['PERMNO', 'NCUSIP', 'SCORE'])"
   ],
   "metadata": {
    "collapsed": false
   }
  },
  {
   "cell_type": "code",
   "execution_count": 20,
   "outputs": [
    {
     "data": {
      "text/plain": "    PERMNO    NCUSIP  SCORE\n0  14471.0  87482X10      1\n1  14392.0  26878510      1\n2      NaN       NaN      6\n3  14418.0  02504D10      1\n4  14378.0  14163310      1",
      "text/html": "<div>\n<style scoped>\n    .dataframe tbody tr th:only-of-type {\n        vertical-align: middle;\n    }\n\n    .dataframe tbody tr th {\n        vertical-align: top;\n    }\n\n    .dataframe thead th {\n        text-align: right;\n    }\n</style>\n<table border=\"1\" class=\"dataframe\">\n  <thead>\n    <tr style=\"text-align: right;\">\n      <th></th>\n      <th>PERMNO</th>\n      <th>NCUSIP</th>\n      <th>SCORE</th>\n    </tr>\n  </thead>\n  <tbody>\n    <tr>\n      <th>0</th>\n      <td>14471.0</td>\n      <td>87482X10</td>\n      <td>1</td>\n    </tr>\n    <tr>\n      <th>1</th>\n      <td>14392.0</td>\n      <td>26878510</td>\n      <td>1</td>\n    </tr>\n    <tr>\n      <th>2</th>\n      <td>NaN</td>\n      <td>NaN</td>\n      <td>6</td>\n    </tr>\n    <tr>\n      <th>3</th>\n      <td>14418.0</td>\n      <td>02504D10</td>\n      <td>1</td>\n    </tr>\n    <tr>\n      <th>4</th>\n      <td>14378.0</td>\n      <td>14163310</td>\n      <td>1</td>\n    </tr>\n  </tbody>\n</table>\n</div>"
     },
     "execution_count": 20,
     "metadata": {},
     "output_type": "execute_result"
    }
   ],
   "source": [
    "link_table.head()"
   ],
   "metadata": {
    "collapsed": false
   }
  },
  {
   "cell_type": "code",
   "execution_count": 21,
   "outputs": [],
   "source": [
    "link_table = link_table[link_table.SCORE == 1].drop('SCORE', axis=1)"
   ],
   "metadata": {
    "collapsed": false
   }
  },
  {
   "cell_type": "code",
   "execution_count": 22,
   "outputs": [],
   "source": [
    "IBES_link = pd.merge(IBES, link_table, how='inner', left_on=['CUSIP'], right_on=['NCUSIP']).drop('NCUSIP', axis=1)"
   ],
   "metadata": {
    "collapsed": false
   }
  },
  {
   "cell_type": "code",
   "execution_count": 23,
   "outputs": [
    {
     "data": {
      "text/plain": "  TICKER       PENDS  VALUE  past_eps     CUSIP    STATPERS  FPI  MEANEST  \\\n0   0000  2014-12-31   1.21       NaN  87482X10  2014-04-17    1     0.52   \n1   0000  2014-12-31   1.21       NaN  87482X10  2014-05-15    1     0.56   \n2   0000  2014-12-31   1.21       NaN  87482X10  2014-06-19    1     0.56   \n3   0000  2014-12-31   1.21       NaN  87482X10  2014-07-17    1     0.56   \n4   0000  2014-12-31   1.21       NaN  87482X10  2014-08-14    1     1.18   \n\n    PERMNO  \n0  14471.0  \n1  14471.0  \n2  14471.0  \n3  14471.0  \n4  14471.0  ",
      "text/html": "<div>\n<style scoped>\n    .dataframe tbody tr th:only-of-type {\n        vertical-align: middle;\n    }\n\n    .dataframe tbody tr th {\n        vertical-align: top;\n    }\n\n    .dataframe thead th {\n        text-align: right;\n    }\n</style>\n<table border=\"1\" class=\"dataframe\">\n  <thead>\n    <tr style=\"text-align: right;\">\n      <th></th>\n      <th>TICKER</th>\n      <th>PENDS</th>\n      <th>VALUE</th>\n      <th>past_eps</th>\n      <th>CUSIP</th>\n      <th>STATPERS</th>\n      <th>FPI</th>\n      <th>MEANEST</th>\n      <th>PERMNO</th>\n    </tr>\n  </thead>\n  <tbody>\n    <tr>\n      <th>0</th>\n      <td>0000</td>\n      <td>2014-12-31</td>\n      <td>1.21</td>\n      <td>NaN</td>\n      <td>87482X10</td>\n      <td>2014-04-17</td>\n      <td>1</td>\n      <td>0.52</td>\n      <td>14471.0</td>\n    </tr>\n    <tr>\n      <th>1</th>\n      <td>0000</td>\n      <td>2014-12-31</td>\n      <td>1.21</td>\n      <td>NaN</td>\n      <td>87482X10</td>\n      <td>2014-05-15</td>\n      <td>1</td>\n      <td>0.56</td>\n      <td>14471.0</td>\n    </tr>\n    <tr>\n      <th>2</th>\n      <td>0000</td>\n      <td>2014-12-31</td>\n      <td>1.21</td>\n      <td>NaN</td>\n      <td>87482X10</td>\n      <td>2014-06-19</td>\n      <td>1</td>\n      <td>0.56</td>\n      <td>14471.0</td>\n    </tr>\n    <tr>\n      <th>3</th>\n      <td>0000</td>\n      <td>2014-12-31</td>\n      <td>1.21</td>\n      <td>NaN</td>\n      <td>87482X10</td>\n      <td>2014-07-17</td>\n      <td>1</td>\n      <td>0.56</td>\n      <td>14471.0</td>\n    </tr>\n    <tr>\n      <th>4</th>\n      <td>0000</td>\n      <td>2014-12-31</td>\n      <td>1.21</td>\n      <td>NaN</td>\n      <td>87482X10</td>\n      <td>2014-08-14</td>\n      <td>1</td>\n      <td>1.18</td>\n      <td>14471.0</td>\n    </tr>\n  </tbody>\n</table>\n</div>"
     },
     "execution_count": 23,
     "metadata": {},
     "output_type": "execute_result"
    }
   ],
   "source": [
    "IBES_link.head()"
   ],
   "metadata": {
    "collapsed": false
   }
  },
  {
   "cell_type": "code",
   "execution_count": 24,
   "outputs": [],
   "source": [
    "IBES_link['rankdate'] = pd.to_datetime(IBES_link.STATPERS).dt.to_period('M')"
   ],
   "metadata": {
    "collapsed": false
   }
  },
  {
   "cell_type": "code",
   "execution_count": 25,
   "outputs": [],
   "source": [
    "IBES_link['PERMNO'] = IBES_link['PERMNO'].astype('int')"
   ],
   "metadata": {
    "collapsed": false
   }
  },
  {
   "cell_type": "code",
   "execution_count": 26,
   "outputs": [],
   "source": [
    "IBES_CRSP = pd.merge(CRSP[['PERMNO', 'PRC', 'RET', 'CFACPR', 'CFACSHR', 'rankdate']], IBES_link, how='inner',  on=['PERMNO', 'rankdate'])"
   ],
   "metadata": {
    "collapsed": false
   }
  },
  {
   "cell_type": "code",
   "execution_count": 27,
   "outputs": [
    {
     "data": {
      "text/plain": "   PERMNO   PRC       RET  CFACPR  CFACSHR rankdate TICKER       PENDS  VALUE  \\\n0   10001  6.75  0.017778     3.0      3.0  1989-03   GFGC  1989-06-30   1.21   \n1   10001  7.25  0.074074     3.0      3.0  1989-04   GFGC  1989-06-30   1.21   \n2   10001  7.00 -0.034483     3.0      3.0  1989-05   GFGC  1989-06-30   1.21   \n3   10001  7.00  0.017143     3.0      3.0  1989-06   GFGC  1989-06-30   1.21   \n4   10001  7.25  0.035714     3.0      3.0  1989-07   GFGC  1989-06-30   1.21   \n\n   past_eps     CUSIP    STATPERS  FPI  MEANEST  \n0      0.55  39040610  1989-03-16    1      0.6  \n1      0.55  39040610  1989-04-20    1      0.6  \n2      0.55  39040610  1989-05-18    1      0.6  \n3      0.55  39040610  1989-06-15    1      0.6  \n4      0.55  39040610  1989-07-20    1      0.6  ",
      "text/html": "<div>\n<style scoped>\n    .dataframe tbody tr th:only-of-type {\n        vertical-align: middle;\n    }\n\n    .dataframe tbody tr th {\n        vertical-align: top;\n    }\n\n    .dataframe thead th {\n        text-align: right;\n    }\n</style>\n<table border=\"1\" class=\"dataframe\">\n  <thead>\n    <tr style=\"text-align: right;\">\n      <th></th>\n      <th>PERMNO</th>\n      <th>PRC</th>\n      <th>RET</th>\n      <th>CFACPR</th>\n      <th>CFACSHR</th>\n      <th>rankdate</th>\n      <th>TICKER</th>\n      <th>PENDS</th>\n      <th>VALUE</th>\n      <th>past_eps</th>\n      <th>CUSIP</th>\n      <th>STATPERS</th>\n      <th>FPI</th>\n      <th>MEANEST</th>\n    </tr>\n  </thead>\n  <tbody>\n    <tr>\n      <th>0</th>\n      <td>10001</td>\n      <td>6.75</td>\n      <td>0.017778</td>\n      <td>3.0</td>\n      <td>3.0</td>\n      <td>1989-03</td>\n      <td>GFGC</td>\n      <td>1989-06-30</td>\n      <td>1.21</td>\n      <td>0.55</td>\n      <td>39040610</td>\n      <td>1989-03-16</td>\n      <td>1</td>\n      <td>0.6</td>\n    </tr>\n    <tr>\n      <th>1</th>\n      <td>10001</td>\n      <td>7.25</td>\n      <td>0.074074</td>\n      <td>3.0</td>\n      <td>3.0</td>\n      <td>1989-04</td>\n      <td>GFGC</td>\n      <td>1989-06-30</td>\n      <td>1.21</td>\n      <td>0.55</td>\n      <td>39040610</td>\n      <td>1989-04-20</td>\n      <td>1</td>\n      <td>0.6</td>\n    </tr>\n    <tr>\n      <th>2</th>\n      <td>10001</td>\n      <td>7.00</td>\n      <td>-0.034483</td>\n      <td>3.0</td>\n      <td>3.0</td>\n      <td>1989-05</td>\n      <td>GFGC</td>\n      <td>1989-06-30</td>\n      <td>1.21</td>\n      <td>0.55</td>\n      <td>39040610</td>\n      <td>1989-05-18</td>\n      <td>1</td>\n      <td>0.6</td>\n    </tr>\n    <tr>\n      <th>3</th>\n      <td>10001</td>\n      <td>7.00</td>\n      <td>0.017143</td>\n      <td>3.0</td>\n      <td>3.0</td>\n      <td>1989-06</td>\n      <td>GFGC</td>\n      <td>1989-06-30</td>\n      <td>1.21</td>\n      <td>0.55</td>\n      <td>39040610</td>\n      <td>1989-06-15</td>\n      <td>1</td>\n      <td>0.6</td>\n    </tr>\n    <tr>\n      <th>4</th>\n      <td>10001</td>\n      <td>7.25</td>\n      <td>0.035714</td>\n      <td>3.0</td>\n      <td>3.0</td>\n      <td>1989-07</td>\n      <td>GFGC</td>\n      <td>1989-06-30</td>\n      <td>1.21</td>\n      <td>0.55</td>\n      <td>39040610</td>\n      <td>1989-07-20</td>\n      <td>1</td>\n      <td>0.6</td>\n    </tr>\n  </tbody>\n</table>\n</div>"
     },
     "execution_count": 27,
     "metadata": {},
     "output_type": "execute_result"
    }
   ],
   "source": [
    "IBES_CRSP.head()"
   ],
   "metadata": {
    "collapsed": false
   }
  },
  {
   "cell_type": "markdown",
   "source": [
    "### Macroeconomic variables:\n",
    "- real consumption\n",
    "- unemployment rate\n",
    "- real GDP\n",
    "- Industrial Production Index\n"
   ],
   "metadata": {
    "collapsed": false
   }
  },
  {
   "cell_type": "code",
   "execution_count": 33,
   "outputs": [],
   "source": [
    "ipi = pd.read_excel('IPT_1962-M11_present.xlsx')\n",
    "rgdp = pd.read_excel('real_GDP_1965-M11_present.xlsx')\n",
    "rpc = pd.read_excel('real_personal_consumption_1965-M11_present.xlsx')\n",
    "unemp = pd.read_excel('unemployment_1965-Q4_present.xlsx')"
   ],
   "metadata": {
    "collapsed": false
   }
  },
  {
   "cell_type": "code",
   "execution_count": 30,
   "outputs": [],
   "source": [
    "ipi['DATE'] = pd.to_datetime(pd.Series(list(map(lambda date: datetime.strptime(date, '%Y:%m'), ipi.DATE)))).dt.to_period('M')\n",
    "ipi.set_index('DATE', drop=True, inplace=True)\n",
    "ipi = np.log(ipi).apply(lambda x: x - x.shift(1), axis=0)"
   ],
   "metadata": {
    "collapsed": false
   }
  },
  {
   "cell_type": "code",
   "execution_count": 28,
   "outputs": [
    {
     "data": {
      "text/plain": "         IPT62M11  IPT62M12  IPT63M1  IPT63M2  IPT63M3  IPT63M4  IPT63M5  \\\nDATE                                                                       \n1919-01       NaN       NaN      NaN      NaN      NaN      NaN      NaN   \n1919-02       NaN       NaN      NaN      NaN      NaN      NaN      NaN   \n1919-03       NaN       NaN      NaN      NaN      NaN      NaN      NaN   \n1919-04       NaN       NaN      NaN      NaN      NaN      NaN      NaN   \n1919-05       NaN       NaN      NaN      NaN      NaN      NaN      NaN   \n...           ...       ...      ...      ...      ...      ...      ...   \n2022-09       NaN       NaN      NaN      NaN      NaN      NaN      NaN   \n2022-10       NaN       NaN      NaN      NaN      NaN      NaN      NaN   \n2022-11       NaN       NaN      NaN      NaN      NaN      NaN      NaN   \n2022-12       NaN       NaN      NaN      NaN      NaN      NaN      NaN   \n2023-01       NaN       NaN      NaN      NaN      NaN      NaN      NaN   \n\n         IPT63M6  IPT63M7  IPT63M8  ...  IPT22M5  IPT22M6  IPT22M7  IPT22M8  \\\nDATE                                ...                                       \n1919-01      NaN      NaN      NaN  ...      NaN      NaN      NaN      NaN   \n1919-02      NaN      NaN      NaN  ...      NaN      NaN      NaN      NaN   \n1919-03      NaN      NaN      NaN  ...      NaN      NaN      NaN      NaN   \n1919-04      NaN      NaN      NaN  ...      NaN      NaN      NaN      NaN   \n1919-05      NaN      NaN      NaN  ...      NaN      NaN      NaN      NaN   \n...          ...      ...      ...  ...      ...      ...      ...      ...   \n2022-09      NaN      NaN      NaN  ...      NaN      NaN      NaN      NaN   \n2022-10      NaN      NaN      NaN  ...      NaN      NaN      NaN      NaN   \n2022-11      NaN      NaN      NaN  ...      NaN      NaN      NaN      NaN   \n2022-12      NaN      NaN      NaN  ...      NaN      NaN      NaN      NaN   \n2023-01      NaN      NaN      NaN  ...      NaN      NaN      NaN      NaN   \n\n         IPT22M9  IPT22M10  IPT22M11  IPT22M12   IPT23M1   IPT23M2  \nDATE                                                                \n1919-01      NaN       NaN       NaN       NaN       NaN       NaN  \n1919-02      NaN       NaN       NaN       NaN       NaN       NaN  \n1919-03      NaN       NaN       NaN       NaN       NaN       NaN  \n1919-04      NaN       NaN       NaN       NaN       NaN       NaN  \n1919-05      NaN       NaN       NaN       NaN       NaN       NaN  \n...          ...       ...       ...       ...       ...       ...  \n2022-09      NaN  4.655863  4.652054  4.652054  4.652054  4.650144  \n2022-10      NaN       NaN  4.651099  4.651099  4.652054  4.650144  \n2022-11      NaN       NaN       NaN  4.649187  4.646312  4.644391  \n2022-12      NaN       NaN       NaN       NaN  4.638605  4.633758  \n2023-01      NaN       NaN       NaN       NaN       NaN  4.634729  \n\n[1249 rows x 724 columns]",
      "text/html": "<div>\n<style scoped>\n    .dataframe tbody tr th:only-of-type {\n        vertical-align: middle;\n    }\n\n    .dataframe tbody tr th {\n        vertical-align: top;\n    }\n\n    .dataframe thead th {\n        text-align: right;\n    }\n</style>\n<table border=\"1\" class=\"dataframe\">\n  <thead>\n    <tr style=\"text-align: right;\">\n      <th></th>\n      <th>IPT62M11</th>\n      <th>IPT62M12</th>\n      <th>IPT63M1</th>\n      <th>IPT63M2</th>\n      <th>IPT63M3</th>\n      <th>IPT63M4</th>\n      <th>IPT63M5</th>\n      <th>IPT63M6</th>\n      <th>IPT63M7</th>\n      <th>IPT63M8</th>\n      <th>...</th>\n      <th>IPT22M5</th>\n      <th>IPT22M6</th>\n      <th>IPT22M7</th>\n      <th>IPT22M8</th>\n      <th>IPT22M9</th>\n      <th>IPT22M10</th>\n      <th>IPT22M11</th>\n      <th>IPT22M12</th>\n      <th>IPT23M1</th>\n      <th>IPT23M2</th>\n    </tr>\n    <tr>\n      <th>DATE</th>\n      <th></th>\n      <th></th>\n      <th></th>\n      <th></th>\n      <th></th>\n      <th></th>\n      <th></th>\n      <th></th>\n      <th></th>\n      <th></th>\n      <th></th>\n      <th></th>\n      <th></th>\n      <th></th>\n      <th></th>\n      <th></th>\n      <th></th>\n      <th></th>\n      <th></th>\n      <th></th>\n      <th></th>\n    </tr>\n  </thead>\n  <tbody>\n    <tr>\n      <th>1919-01</th>\n      <td>NaN</td>\n      <td>NaN</td>\n      <td>NaN</td>\n      <td>NaN</td>\n      <td>NaN</td>\n      <td>NaN</td>\n      <td>NaN</td>\n      <td>NaN</td>\n      <td>NaN</td>\n      <td>NaN</td>\n      <td>...</td>\n      <td>NaN</td>\n      <td>NaN</td>\n      <td>NaN</td>\n      <td>NaN</td>\n      <td>NaN</td>\n      <td>NaN</td>\n      <td>NaN</td>\n      <td>NaN</td>\n      <td>NaN</td>\n      <td>NaN</td>\n    </tr>\n    <tr>\n      <th>1919-02</th>\n      <td>NaN</td>\n      <td>NaN</td>\n      <td>NaN</td>\n      <td>NaN</td>\n      <td>NaN</td>\n      <td>NaN</td>\n      <td>NaN</td>\n      <td>NaN</td>\n      <td>NaN</td>\n      <td>NaN</td>\n      <td>...</td>\n      <td>NaN</td>\n      <td>NaN</td>\n      <td>NaN</td>\n      <td>NaN</td>\n      <td>NaN</td>\n      <td>NaN</td>\n      <td>NaN</td>\n      <td>NaN</td>\n      <td>NaN</td>\n      <td>NaN</td>\n    </tr>\n    <tr>\n      <th>1919-03</th>\n      <td>NaN</td>\n      <td>NaN</td>\n      <td>NaN</td>\n      <td>NaN</td>\n      <td>NaN</td>\n      <td>NaN</td>\n      <td>NaN</td>\n      <td>NaN</td>\n      <td>NaN</td>\n      <td>NaN</td>\n      <td>...</td>\n      <td>NaN</td>\n      <td>NaN</td>\n      <td>NaN</td>\n      <td>NaN</td>\n      <td>NaN</td>\n      <td>NaN</td>\n      <td>NaN</td>\n      <td>NaN</td>\n      <td>NaN</td>\n      <td>NaN</td>\n    </tr>\n    <tr>\n      <th>1919-04</th>\n      <td>NaN</td>\n      <td>NaN</td>\n      <td>NaN</td>\n      <td>NaN</td>\n      <td>NaN</td>\n      <td>NaN</td>\n      <td>NaN</td>\n      <td>NaN</td>\n      <td>NaN</td>\n      <td>NaN</td>\n      <td>...</td>\n      <td>NaN</td>\n      <td>NaN</td>\n      <td>NaN</td>\n      <td>NaN</td>\n      <td>NaN</td>\n      <td>NaN</td>\n      <td>NaN</td>\n      <td>NaN</td>\n      <td>NaN</td>\n      <td>NaN</td>\n    </tr>\n    <tr>\n      <th>1919-05</th>\n      <td>NaN</td>\n      <td>NaN</td>\n      <td>NaN</td>\n      <td>NaN</td>\n      <td>NaN</td>\n      <td>NaN</td>\n      <td>NaN</td>\n      <td>NaN</td>\n      <td>NaN</td>\n      <td>NaN</td>\n      <td>...</td>\n      <td>NaN</td>\n      <td>NaN</td>\n      <td>NaN</td>\n      <td>NaN</td>\n      <td>NaN</td>\n      <td>NaN</td>\n      <td>NaN</td>\n      <td>NaN</td>\n      <td>NaN</td>\n      <td>NaN</td>\n    </tr>\n    <tr>\n      <th>...</th>\n      <td>...</td>\n      <td>...</td>\n      <td>...</td>\n      <td>...</td>\n      <td>...</td>\n      <td>...</td>\n      <td>...</td>\n      <td>...</td>\n      <td>...</td>\n      <td>...</td>\n      <td>...</td>\n      <td>...</td>\n      <td>...</td>\n      <td>...</td>\n      <td>...</td>\n      <td>...</td>\n      <td>...</td>\n      <td>...</td>\n      <td>...</td>\n      <td>...</td>\n      <td>...</td>\n    </tr>\n    <tr>\n      <th>2022-09</th>\n      <td>NaN</td>\n      <td>NaN</td>\n      <td>NaN</td>\n      <td>NaN</td>\n      <td>NaN</td>\n      <td>NaN</td>\n      <td>NaN</td>\n      <td>NaN</td>\n      <td>NaN</td>\n      <td>NaN</td>\n      <td>...</td>\n      <td>NaN</td>\n      <td>NaN</td>\n      <td>NaN</td>\n      <td>NaN</td>\n      <td>NaN</td>\n      <td>4.655863</td>\n      <td>4.652054</td>\n      <td>4.652054</td>\n      <td>4.652054</td>\n      <td>4.650144</td>\n    </tr>\n    <tr>\n      <th>2022-10</th>\n      <td>NaN</td>\n      <td>NaN</td>\n      <td>NaN</td>\n      <td>NaN</td>\n      <td>NaN</td>\n      <td>NaN</td>\n      <td>NaN</td>\n      <td>NaN</td>\n      <td>NaN</td>\n      <td>NaN</td>\n      <td>...</td>\n      <td>NaN</td>\n      <td>NaN</td>\n      <td>NaN</td>\n      <td>NaN</td>\n      <td>NaN</td>\n      <td>NaN</td>\n      <td>4.651099</td>\n      <td>4.651099</td>\n      <td>4.652054</td>\n      <td>4.650144</td>\n    </tr>\n    <tr>\n      <th>2022-11</th>\n      <td>NaN</td>\n      <td>NaN</td>\n      <td>NaN</td>\n      <td>NaN</td>\n      <td>NaN</td>\n      <td>NaN</td>\n      <td>NaN</td>\n      <td>NaN</td>\n      <td>NaN</td>\n      <td>NaN</td>\n      <td>...</td>\n      <td>NaN</td>\n      <td>NaN</td>\n      <td>NaN</td>\n      <td>NaN</td>\n      <td>NaN</td>\n      <td>NaN</td>\n      <td>NaN</td>\n      <td>4.649187</td>\n      <td>4.646312</td>\n      <td>4.644391</td>\n    </tr>\n    <tr>\n      <th>2022-12</th>\n      <td>NaN</td>\n      <td>NaN</td>\n      <td>NaN</td>\n      <td>NaN</td>\n      <td>NaN</td>\n      <td>NaN</td>\n      <td>NaN</td>\n      <td>NaN</td>\n      <td>NaN</td>\n      <td>NaN</td>\n      <td>...</td>\n      <td>NaN</td>\n      <td>NaN</td>\n      <td>NaN</td>\n      <td>NaN</td>\n      <td>NaN</td>\n      <td>NaN</td>\n      <td>NaN</td>\n      <td>NaN</td>\n      <td>4.638605</td>\n      <td>4.633758</td>\n    </tr>\n    <tr>\n      <th>2023-01</th>\n      <td>NaN</td>\n      <td>NaN</td>\n      <td>NaN</td>\n      <td>NaN</td>\n      <td>NaN</td>\n      <td>NaN</td>\n      <td>NaN</td>\n      <td>NaN</td>\n      <td>NaN</td>\n      <td>NaN</td>\n      <td>...</td>\n      <td>NaN</td>\n      <td>NaN</td>\n      <td>NaN</td>\n      <td>NaN</td>\n      <td>NaN</td>\n      <td>NaN</td>\n      <td>NaN</td>\n      <td>NaN</td>\n      <td>NaN</td>\n      <td>4.634729</td>\n    </tr>\n  </tbody>\n</table>\n<p>1249 rows × 724 columns</p>\n</div>"
     },
     "execution_count": 28,
     "metadata": {},
     "output_type": "execute_result"
    }
   ],
   "source": [
    "ipi"
   ],
   "metadata": {
    "collapsed": false
   }
  },
  {
   "cell_type": "code",
   "execution_count": 33,
   "outputs": [],
   "source": [
    "# ipi_date = pd.to_datetime(pd.Series(pd.date_range(start='19621130', end='20230228', freq='M'))).dt.to_period('M')"
   ],
   "metadata": {
    "collapsed": false
   }
  },
  {
   "cell_type": "code",
   "execution_count": 34,
   "outputs": [],
   "source": [
    "# series = list(map(lambda x: str(int(x)), np.linspace(24, 1, 24, endpoint=True)))\n",
    "# ipi_series = ['ipi_' + i for i in series]"
   ],
   "metadata": {
    "collapsed": false
   }
  },
  {
   "cell_type": "code",
   "execution_count": 35,
   "outputs": [],
   "source": [
    "# IPI = pd.DataFrame({}, index=ipi_date, columns=ipi_series)"
   ],
   "metadata": {
    "collapsed": false
   }
  },
  {
   "cell_type": "code",
   "execution_count": 37,
   "outputs": [],
   "source": [
    "# 找出观测年份之前两年的观测值\n",
    "# col = 1\n",
    "# for date in IPI.index:\n",
    "#     try:\n",
    "#         row = ipi[ipi.DATE == date].index.tolist()[0]\n",
    "#         IPI.loc[date] = ipi.iloc[(row - 24):row, col].values\n",
    "#     except Exception as e:\n",
    "#         IPI.loc[date] = ipi.iloc[(len(ipi) - 24):, col].values\n",
    "#     col += 1"
   ],
   "metadata": {
    "collapsed": false
   }
  },
  {
   "cell_type": "code",
   "execution_count": 42,
   "outputs": [
    {
     "data": {
      "text/plain": "        DATE  ROUTPUT65M11  ROUTPUT65M12  ROUTPUT66M1  ROUTPUT66M2  \\\n0    1947:Q1         306.4         306.4        306.4        306.4   \n1    1947:Q2         309.0         309.0        309.0        309.0   \n2    1947:Q3         309.6         309.6        309.6        309.6   \n3    1947:Q4         314.5         314.5        314.5        314.5   \n4    1948:Q1         317.1         317.1        317.1        317.1   \n..       ...           ...           ...          ...          ...   \n299  2021:Q4           NaN           NaN          NaN          NaN   \n300  2022:Q1           NaN           NaN          NaN          NaN   \n301  2022:Q2           NaN           NaN          NaN          NaN   \n302  2022:Q3           NaN           NaN          NaN          NaN   \n303  2022:Q4           NaN           NaN          NaN          NaN   \n\n     ROUTPUT66M3  ROUTPUT66M4  ROUTPUT66M5  ROUTPUT66M6  ROUTPUT66M7  ...  \\\n0          306.4        306.4        306.4        306.4        306.4  ...   \n1          309.0        309.0        309.0        309.0        309.0  ...   \n2          309.6        309.6        309.6        309.6        309.6  ...   \n3          314.5        314.5        314.5        314.5        314.5  ...   \n4          317.1        317.1        317.1        317.1        317.1  ...   \n..           ...          ...          ...          ...          ...  ...   \n299          NaN          NaN          NaN          NaN          NaN  ...   \n300          NaN          NaN          NaN          NaN          NaN  ...   \n301          NaN          NaN          NaN          NaN          NaN  ...   \n302          NaN          NaN          NaN          NaN          NaN  ...   \n303          NaN          NaN          NaN          NaN          NaN  ...   \n\n     ROUTPUT22M6  ROUTPUT22M7  ROUTPUT22M8  ROUTPUT22M9  ROUTPUT22M10  \\\n0         2034.5       2034.5       2034.5       2034.5        2034.5   \n1         2029.0       2029.0       2029.0       2029.0        2029.0   \n2         2024.8       2024.8       2024.8       2024.8        2024.8   \n3         2056.5       2056.5       2056.5       2056.5        2056.5   \n4         2087.4       2087.4       2087.4       2087.4        2087.4   \n..           ...          ...          ...          ...           ...   \n299      19806.3      19806.3      19806.3      19806.3       20006.2   \n300      19731.1      19727.9      19727.9      19727.9       19924.1   \n301          NaN          NaN      19681.7      19699.5       19895.3   \n302          NaN          NaN          NaN          NaN           NaN   \n303          NaN          NaN          NaN          NaN           NaN   \n\n     ROUTPUT22M11  ROUTPUT22M12  ROUTPUT23M1  ROUTPUT23M2  ROUTPUT23M3  \n0          2034.5        2034.5       2034.5       2034.5       2034.5  \n1          2029.0        2029.0       2029.0       2029.0       2029.0  \n2          2024.8        2024.8       2024.8       2024.8       2024.8  \n3          2056.5        2056.5       2056.5       2056.5       2056.5  \n4          2087.4        2087.4       2087.4       2087.4       2087.4  \n..            ...           ...          ...          ...          ...  \n299       20006.2       20006.2      20006.2      20006.2      20006.2  \n300       19924.1       19924.1      19924.1      19924.1      19924.1  \n301       19895.3       19895.3      19895.3      19895.3      19895.3  \n302       20021.7       20039.4      20054.7      20054.7      20054.7  \n303           NaN           NaN          NaN      20198.1      20187.5  \n\n[304 rows x 690 columns]",
      "text/html": "<div>\n<style scoped>\n    .dataframe tbody tr th:only-of-type {\n        vertical-align: middle;\n    }\n\n    .dataframe tbody tr th {\n        vertical-align: top;\n    }\n\n    .dataframe thead th {\n        text-align: right;\n    }\n</style>\n<table border=\"1\" class=\"dataframe\">\n  <thead>\n    <tr style=\"text-align: right;\">\n      <th></th>\n      <th>DATE</th>\n      <th>ROUTPUT65M11</th>\n      <th>ROUTPUT65M12</th>\n      <th>ROUTPUT66M1</th>\n      <th>ROUTPUT66M2</th>\n      <th>ROUTPUT66M3</th>\n      <th>ROUTPUT66M4</th>\n      <th>ROUTPUT66M5</th>\n      <th>ROUTPUT66M6</th>\n      <th>ROUTPUT66M7</th>\n      <th>...</th>\n      <th>ROUTPUT22M6</th>\n      <th>ROUTPUT22M7</th>\n      <th>ROUTPUT22M8</th>\n      <th>ROUTPUT22M9</th>\n      <th>ROUTPUT22M10</th>\n      <th>ROUTPUT22M11</th>\n      <th>ROUTPUT22M12</th>\n      <th>ROUTPUT23M1</th>\n      <th>ROUTPUT23M2</th>\n      <th>ROUTPUT23M3</th>\n    </tr>\n  </thead>\n  <tbody>\n    <tr>\n      <th>0</th>\n      <td>1947:Q1</td>\n      <td>306.4</td>\n      <td>306.4</td>\n      <td>306.4</td>\n      <td>306.4</td>\n      <td>306.4</td>\n      <td>306.4</td>\n      <td>306.4</td>\n      <td>306.4</td>\n      <td>306.4</td>\n      <td>...</td>\n      <td>2034.5</td>\n      <td>2034.5</td>\n      <td>2034.5</td>\n      <td>2034.5</td>\n      <td>2034.5</td>\n      <td>2034.5</td>\n      <td>2034.5</td>\n      <td>2034.5</td>\n      <td>2034.5</td>\n      <td>2034.5</td>\n    </tr>\n    <tr>\n      <th>1</th>\n      <td>1947:Q2</td>\n      <td>309.0</td>\n      <td>309.0</td>\n      <td>309.0</td>\n      <td>309.0</td>\n      <td>309.0</td>\n      <td>309.0</td>\n      <td>309.0</td>\n      <td>309.0</td>\n      <td>309.0</td>\n      <td>...</td>\n      <td>2029.0</td>\n      <td>2029.0</td>\n      <td>2029.0</td>\n      <td>2029.0</td>\n      <td>2029.0</td>\n      <td>2029.0</td>\n      <td>2029.0</td>\n      <td>2029.0</td>\n      <td>2029.0</td>\n      <td>2029.0</td>\n    </tr>\n    <tr>\n      <th>2</th>\n      <td>1947:Q3</td>\n      <td>309.6</td>\n      <td>309.6</td>\n      <td>309.6</td>\n      <td>309.6</td>\n      <td>309.6</td>\n      <td>309.6</td>\n      <td>309.6</td>\n      <td>309.6</td>\n      <td>309.6</td>\n      <td>...</td>\n      <td>2024.8</td>\n      <td>2024.8</td>\n      <td>2024.8</td>\n      <td>2024.8</td>\n      <td>2024.8</td>\n      <td>2024.8</td>\n      <td>2024.8</td>\n      <td>2024.8</td>\n      <td>2024.8</td>\n      <td>2024.8</td>\n    </tr>\n    <tr>\n      <th>3</th>\n      <td>1947:Q4</td>\n      <td>314.5</td>\n      <td>314.5</td>\n      <td>314.5</td>\n      <td>314.5</td>\n      <td>314.5</td>\n      <td>314.5</td>\n      <td>314.5</td>\n      <td>314.5</td>\n      <td>314.5</td>\n      <td>...</td>\n      <td>2056.5</td>\n      <td>2056.5</td>\n      <td>2056.5</td>\n      <td>2056.5</td>\n      <td>2056.5</td>\n      <td>2056.5</td>\n      <td>2056.5</td>\n      <td>2056.5</td>\n      <td>2056.5</td>\n      <td>2056.5</td>\n    </tr>\n    <tr>\n      <th>4</th>\n      <td>1948:Q1</td>\n      <td>317.1</td>\n      <td>317.1</td>\n      <td>317.1</td>\n      <td>317.1</td>\n      <td>317.1</td>\n      <td>317.1</td>\n      <td>317.1</td>\n      <td>317.1</td>\n      <td>317.1</td>\n      <td>...</td>\n      <td>2087.4</td>\n      <td>2087.4</td>\n      <td>2087.4</td>\n      <td>2087.4</td>\n      <td>2087.4</td>\n      <td>2087.4</td>\n      <td>2087.4</td>\n      <td>2087.4</td>\n      <td>2087.4</td>\n      <td>2087.4</td>\n    </tr>\n    <tr>\n      <th>...</th>\n      <td>...</td>\n      <td>...</td>\n      <td>...</td>\n      <td>...</td>\n      <td>...</td>\n      <td>...</td>\n      <td>...</td>\n      <td>...</td>\n      <td>...</td>\n      <td>...</td>\n      <td>...</td>\n      <td>...</td>\n      <td>...</td>\n      <td>...</td>\n      <td>...</td>\n      <td>...</td>\n      <td>...</td>\n      <td>...</td>\n      <td>...</td>\n      <td>...</td>\n      <td>...</td>\n    </tr>\n    <tr>\n      <th>299</th>\n      <td>2021:Q4</td>\n      <td>NaN</td>\n      <td>NaN</td>\n      <td>NaN</td>\n      <td>NaN</td>\n      <td>NaN</td>\n      <td>NaN</td>\n      <td>NaN</td>\n      <td>NaN</td>\n      <td>NaN</td>\n      <td>...</td>\n      <td>19806.3</td>\n      <td>19806.3</td>\n      <td>19806.3</td>\n      <td>19806.3</td>\n      <td>20006.2</td>\n      <td>20006.2</td>\n      <td>20006.2</td>\n      <td>20006.2</td>\n      <td>20006.2</td>\n      <td>20006.2</td>\n    </tr>\n    <tr>\n      <th>300</th>\n      <td>2022:Q1</td>\n      <td>NaN</td>\n      <td>NaN</td>\n      <td>NaN</td>\n      <td>NaN</td>\n      <td>NaN</td>\n      <td>NaN</td>\n      <td>NaN</td>\n      <td>NaN</td>\n      <td>NaN</td>\n      <td>...</td>\n      <td>19731.1</td>\n      <td>19727.9</td>\n      <td>19727.9</td>\n      <td>19727.9</td>\n      <td>19924.1</td>\n      <td>19924.1</td>\n      <td>19924.1</td>\n      <td>19924.1</td>\n      <td>19924.1</td>\n      <td>19924.1</td>\n    </tr>\n    <tr>\n      <th>301</th>\n      <td>2022:Q2</td>\n      <td>NaN</td>\n      <td>NaN</td>\n      <td>NaN</td>\n      <td>NaN</td>\n      <td>NaN</td>\n      <td>NaN</td>\n      <td>NaN</td>\n      <td>NaN</td>\n      <td>NaN</td>\n      <td>...</td>\n      <td>NaN</td>\n      <td>NaN</td>\n      <td>19681.7</td>\n      <td>19699.5</td>\n      <td>19895.3</td>\n      <td>19895.3</td>\n      <td>19895.3</td>\n      <td>19895.3</td>\n      <td>19895.3</td>\n      <td>19895.3</td>\n    </tr>\n    <tr>\n      <th>302</th>\n      <td>2022:Q3</td>\n      <td>NaN</td>\n      <td>NaN</td>\n      <td>NaN</td>\n      <td>NaN</td>\n      <td>NaN</td>\n      <td>NaN</td>\n      <td>NaN</td>\n      <td>NaN</td>\n      <td>NaN</td>\n      <td>...</td>\n      <td>NaN</td>\n      <td>NaN</td>\n      <td>NaN</td>\n      <td>NaN</td>\n      <td>NaN</td>\n      <td>20021.7</td>\n      <td>20039.4</td>\n      <td>20054.7</td>\n      <td>20054.7</td>\n      <td>20054.7</td>\n    </tr>\n    <tr>\n      <th>303</th>\n      <td>2022:Q4</td>\n      <td>NaN</td>\n      <td>NaN</td>\n      <td>NaN</td>\n      <td>NaN</td>\n      <td>NaN</td>\n      <td>NaN</td>\n      <td>NaN</td>\n      <td>NaN</td>\n      <td>NaN</td>\n      <td>...</td>\n      <td>NaN</td>\n      <td>NaN</td>\n      <td>NaN</td>\n      <td>NaN</td>\n      <td>NaN</td>\n      <td>NaN</td>\n      <td>NaN</td>\n      <td>NaN</td>\n      <td>20198.1</td>\n      <td>20187.5</td>\n    </tr>\n  </tbody>\n</table>\n<p>304 rows × 690 columns</p>\n</div>"
     },
     "execution_count": 42,
     "metadata": {},
     "output_type": "execute_result"
    }
   ],
   "source": [
    "rgdp"
   ],
   "metadata": {
    "collapsed": false
   }
  },
  {
   "cell_type": "code",
   "execution_count": 31,
   "outputs": [],
   "source": [
    "rgdp.drop('DATE', axis=1, inplace=True)"
   ],
   "metadata": {
    "collapsed": false
   }
  },
  {
   "cell_type": "code",
   "execution_count": 32,
   "outputs": [],
   "source": [
    "rgdp = np.log(rgdp).apply(lambda x: x - x.shift(1), axis=0)"
   ],
   "metadata": {
    "collapsed": false
   }
  },
  {
   "cell_type": "code",
   "execution_count": 33,
   "outputs": [],
   "source": [
    "real_gdp = pd.DataFrame(np.repeat(rgdp.values, 3, axis=0))\n",
    "real_gdp.columns = rgdp.columns"
   ],
   "metadata": {
    "collapsed": false
   }
  },
  {
   "cell_type": "code",
   "execution_count": 34,
   "outputs": [],
   "source": [
    "real_gdp.index = pd.to_datetime(pd.Series(pd.date_range(start='19470228', end='20230131', freq='M'))).dt.to_period('M')\n",
    "real_gdp.index.name = 'DATE'"
   ],
   "metadata": {
    "collapsed": false
   }
  },
  {
   "cell_type": "code",
   "execution_count": 35,
   "outputs": [
    {
     "data": {
      "text/plain": "         ROUTPUT65M11  ROUTPUT65M12  ROUTPUT66M1  ROUTPUT66M2  ROUTPUT66M3  \\\nDATE                                                                         \n1947-02           NaN           NaN          NaN          NaN          NaN   \n1947-03           NaN           NaN          NaN          NaN          NaN   \n1947-04           NaN           NaN          NaN          NaN          NaN   \n1947-05       0.00845       0.00845      0.00845      0.00845      0.00845   \n1947-06       0.00845       0.00845      0.00845      0.00845      0.00845   \n...               ...           ...          ...          ...          ...   \n2022-09           NaN           NaN          NaN          NaN          NaN   \n2022-10           NaN           NaN          NaN          NaN          NaN   \n2022-11           NaN           NaN          NaN          NaN          NaN   \n2022-12           NaN           NaN          NaN          NaN          NaN   \n2023-01           NaN           NaN          NaN          NaN          NaN   \n\n         ROUTPUT66M4  ROUTPUT66M5  ROUTPUT66M6  ROUTPUT66M7  ROUTPUT66M8  ...  \\\nDATE                                                                      ...   \n1947-02          NaN          NaN          NaN          NaN          NaN  ...   \n1947-03          NaN          NaN          NaN          NaN          NaN  ...   \n1947-04          NaN          NaN          NaN          NaN          NaN  ...   \n1947-05      0.00845      0.00845      0.00845      0.00845      0.00845  ...   \n1947-06      0.00845      0.00845      0.00845      0.00845      0.00845  ...   \n...              ...          ...          ...          ...          ...  ...   \n2022-09          NaN          NaN          NaN          NaN          NaN  ...   \n2022-10          NaN          NaN          NaN          NaN          NaN  ...   \n2022-11          NaN          NaN          NaN          NaN          NaN  ...   \n2022-12          NaN          NaN          NaN          NaN          NaN  ...   \n2023-01          NaN          NaN          NaN          NaN          NaN  ...   \n\n         ROUTPUT22M6  ROUTPUT22M7  ROUTPUT22M8  ROUTPUT22M9  ROUTPUT22M10  \\\nDATE                                                                        \n1947-02          NaN          NaN          NaN          NaN           NaN   \n1947-03          NaN          NaN          NaN          NaN           NaN   \n1947-04          NaN          NaN          NaN          NaN           NaN   \n1947-05    -0.002707    -0.002707    -0.002707    -0.002707     -0.002707   \n1947-06    -0.002707    -0.002707    -0.002707    -0.002707     -0.002707   \n...              ...          ...          ...          ...           ...   \n2022-09          NaN          NaN          NaN          NaN           NaN   \n2022-10          NaN          NaN          NaN          NaN           NaN   \n2022-11          NaN          NaN          NaN          NaN           NaN   \n2022-12          NaN          NaN          NaN          NaN           NaN   \n2023-01          NaN          NaN          NaN          NaN           NaN   \n\n         ROUTPUT22M11  ROUTPUT22M12  ROUTPUT23M1  ROUTPUT23M2  ROUTPUT23M3  \nDATE                                                                        \n1947-02           NaN           NaN          NaN          NaN          NaN  \n1947-03           NaN           NaN          NaN          NaN          NaN  \n1947-04           NaN           NaN          NaN          NaN          NaN  \n1947-05     -0.002707     -0.002707    -0.002707    -0.002707    -0.002707  \n1947-06     -0.002707     -0.002707    -0.002707    -0.002707    -0.002707  \n...               ...           ...          ...          ...          ...  \n2022-09      0.006333      0.007217     0.007980     0.007980     0.007980  \n2022-10      0.006333      0.007217     0.007980     0.007980     0.007980  \n2022-11           NaN           NaN          NaN     0.007125     0.006600  \n2022-12           NaN           NaN          NaN     0.007125     0.006600  \n2023-01           NaN           NaN          NaN     0.007125     0.006600  \n\n[912 rows x 689 columns]",
      "text/html": "<div>\n<style scoped>\n    .dataframe tbody tr th:only-of-type {\n        vertical-align: middle;\n    }\n\n    .dataframe tbody tr th {\n        vertical-align: top;\n    }\n\n    .dataframe thead th {\n        text-align: right;\n    }\n</style>\n<table border=\"1\" class=\"dataframe\">\n  <thead>\n    <tr style=\"text-align: right;\">\n      <th></th>\n      <th>ROUTPUT65M11</th>\n      <th>ROUTPUT65M12</th>\n      <th>ROUTPUT66M1</th>\n      <th>ROUTPUT66M2</th>\n      <th>ROUTPUT66M3</th>\n      <th>ROUTPUT66M4</th>\n      <th>ROUTPUT66M5</th>\n      <th>ROUTPUT66M6</th>\n      <th>ROUTPUT66M7</th>\n      <th>ROUTPUT66M8</th>\n      <th>...</th>\n      <th>ROUTPUT22M6</th>\n      <th>ROUTPUT22M7</th>\n      <th>ROUTPUT22M8</th>\n      <th>ROUTPUT22M9</th>\n      <th>ROUTPUT22M10</th>\n      <th>ROUTPUT22M11</th>\n      <th>ROUTPUT22M12</th>\n      <th>ROUTPUT23M1</th>\n      <th>ROUTPUT23M2</th>\n      <th>ROUTPUT23M3</th>\n    </tr>\n    <tr>\n      <th>DATE</th>\n      <th></th>\n      <th></th>\n      <th></th>\n      <th></th>\n      <th></th>\n      <th></th>\n      <th></th>\n      <th></th>\n      <th></th>\n      <th></th>\n      <th></th>\n      <th></th>\n      <th></th>\n      <th></th>\n      <th></th>\n      <th></th>\n      <th></th>\n      <th></th>\n      <th></th>\n      <th></th>\n      <th></th>\n    </tr>\n  </thead>\n  <tbody>\n    <tr>\n      <th>1947-02</th>\n      <td>NaN</td>\n      <td>NaN</td>\n      <td>NaN</td>\n      <td>NaN</td>\n      <td>NaN</td>\n      <td>NaN</td>\n      <td>NaN</td>\n      <td>NaN</td>\n      <td>NaN</td>\n      <td>NaN</td>\n      <td>...</td>\n      <td>NaN</td>\n      <td>NaN</td>\n      <td>NaN</td>\n      <td>NaN</td>\n      <td>NaN</td>\n      <td>NaN</td>\n      <td>NaN</td>\n      <td>NaN</td>\n      <td>NaN</td>\n      <td>NaN</td>\n    </tr>\n    <tr>\n      <th>1947-03</th>\n      <td>NaN</td>\n      <td>NaN</td>\n      <td>NaN</td>\n      <td>NaN</td>\n      <td>NaN</td>\n      <td>NaN</td>\n      <td>NaN</td>\n      <td>NaN</td>\n      <td>NaN</td>\n      <td>NaN</td>\n      <td>...</td>\n      <td>NaN</td>\n      <td>NaN</td>\n      <td>NaN</td>\n      <td>NaN</td>\n      <td>NaN</td>\n      <td>NaN</td>\n      <td>NaN</td>\n      <td>NaN</td>\n      <td>NaN</td>\n      <td>NaN</td>\n    </tr>\n    <tr>\n      <th>1947-04</th>\n      <td>NaN</td>\n      <td>NaN</td>\n      <td>NaN</td>\n      <td>NaN</td>\n      <td>NaN</td>\n      <td>NaN</td>\n      <td>NaN</td>\n      <td>NaN</td>\n      <td>NaN</td>\n      <td>NaN</td>\n      <td>...</td>\n      <td>NaN</td>\n      <td>NaN</td>\n      <td>NaN</td>\n      <td>NaN</td>\n      <td>NaN</td>\n      <td>NaN</td>\n      <td>NaN</td>\n      <td>NaN</td>\n      <td>NaN</td>\n      <td>NaN</td>\n    </tr>\n    <tr>\n      <th>1947-05</th>\n      <td>0.00845</td>\n      <td>0.00845</td>\n      <td>0.00845</td>\n      <td>0.00845</td>\n      <td>0.00845</td>\n      <td>0.00845</td>\n      <td>0.00845</td>\n      <td>0.00845</td>\n      <td>0.00845</td>\n      <td>0.00845</td>\n      <td>...</td>\n      <td>-0.002707</td>\n      <td>-0.002707</td>\n      <td>-0.002707</td>\n      <td>-0.002707</td>\n      <td>-0.002707</td>\n      <td>-0.002707</td>\n      <td>-0.002707</td>\n      <td>-0.002707</td>\n      <td>-0.002707</td>\n      <td>-0.002707</td>\n    </tr>\n    <tr>\n      <th>1947-06</th>\n      <td>0.00845</td>\n      <td>0.00845</td>\n      <td>0.00845</td>\n      <td>0.00845</td>\n      <td>0.00845</td>\n      <td>0.00845</td>\n      <td>0.00845</td>\n      <td>0.00845</td>\n      <td>0.00845</td>\n      <td>0.00845</td>\n      <td>...</td>\n      <td>-0.002707</td>\n      <td>-0.002707</td>\n      <td>-0.002707</td>\n      <td>-0.002707</td>\n      <td>-0.002707</td>\n      <td>-0.002707</td>\n      <td>-0.002707</td>\n      <td>-0.002707</td>\n      <td>-0.002707</td>\n      <td>-0.002707</td>\n    </tr>\n    <tr>\n      <th>...</th>\n      <td>...</td>\n      <td>...</td>\n      <td>...</td>\n      <td>...</td>\n      <td>...</td>\n      <td>...</td>\n      <td>...</td>\n      <td>...</td>\n      <td>...</td>\n      <td>...</td>\n      <td>...</td>\n      <td>...</td>\n      <td>...</td>\n      <td>...</td>\n      <td>...</td>\n      <td>...</td>\n      <td>...</td>\n      <td>...</td>\n      <td>...</td>\n      <td>...</td>\n      <td>...</td>\n    </tr>\n    <tr>\n      <th>2022-09</th>\n      <td>NaN</td>\n      <td>NaN</td>\n      <td>NaN</td>\n      <td>NaN</td>\n      <td>NaN</td>\n      <td>NaN</td>\n      <td>NaN</td>\n      <td>NaN</td>\n      <td>NaN</td>\n      <td>NaN</td>\n      <td>...</td>\n      <td>NaN</td>\n      <td>NaN</td>\n      <td>NaN</td>\n      <td>NaN</td>\n      <td>NaN</td>\n      <td>0.006333</td>\n      <td>0.007217</td>\n      <td>0.007980</td>\n      <td>0.007980</td>\n      <td>0.007980</td>\n    </tr>\n    <tr>\n      <th>2022-10</th>\n      <td>NaN</td>\n      <td>NaN</td>\n      <td>NaN</td>\n      <td>NaN</td>\n      <td>NaN</td>\n      <td>NaN</td>\n      <td>NaN</td>\n      <td>NaN</td>\n      <td>NaN</td>\n      <td>NaN</td>\n      <td>...</td>\n      <td>NaN</td>\n      <td>NaN</td>\n      <td>NaN</td>\n      <td>NaN</td>\n      <td>NaN</td>\n      <td>0.006333</td>\n      <td>0.007217</td>\n      <td>0.007980</td>\n      <td>0.007980</td>\n      <td>0.007980</td>\n    </tr>\n    <tr>\n      <th>2022-11</th>\n      <td>NaN</td>\n      <td>NaN</td>\n      <td>NaN</td>\n      <td>NaN</td>\n      <td>NaN</td>\n      <td>NaN</td>\n      <td>NaN</td>\n      <td>NaN</td>\n      <td>NaN</td>\n      <td>NaN</td>\n      <td>...</td>\n      <td>NaN</td>\n      <td>NaN</td>\n      <td>NaN</td>\n      <td>NaN</td>\n      <td>NaN</td>\n      <td>NaN</td>\n      <td>NaN</td>\n      <td>NaN</td>\n      <td>0.007125</td>\n      <td>0.006600</td>\n    </tr>\n    <tr>\n      <th>2022-12</th>\n      <td>NaN</td>\n      <td>NaN</td>\n      <td>NaN</td>\n      <td>NaN</td>\n      <td>NaN</td>\n      <td>NaN</td>\n      <td>NaN</td>\n      <td>NaN</td>\n      <td>NaN</td>\n      <td>NaN</td>\n      <td>...</td>\n      <td>NaN</td>\n      <td>NaN</td>\n      <td>NaN</td>\n      <td>NaN</td>\n      <td>NaN</td>\n      <td>NaN</td>\n      <td>NaN</td>\n      <td>NaN</td>\n      <td>0.007125</td>\n      <td>0.006600</td>\n    </tr>\n    <tr>\n      <th>2023-01</th>\n      <td>NaN</td>\n      <td>NaN</td>\n      <td>NaN</td>\n      <td>NaN</td>\n      <td>NaN</td>\n      <td>NaN</td>\n      <td>NaN</td>\n      <td>NaN</td>\n      <td>NaN</td>\n      <td>NaN</td>\n      <td>...</td>\n      <td>NaN</td>\n      <td>NaN</td>\n      <td>NaN</td>\n      <td>NaN</td>\n      <td>NaN</td>\n      <td>NaN</td>\n      <td>NaN</td>\n      <td>NaN</td>\n      <td>0.007125</td>\n      <td>0.006600</td>\n    </tr>\n  </tbody>\n</table>\n<p>912 rows × 689 columns</p>\n</div>"
     },
     "execution_count": 35,
     "metadata": {},
     "output_type": "execute_result"
    }
   ],
   "source": [
    "real_gdp"
   ],
   "metadata": {
    "collapsed": false
   }
  },
  {
   "cell_type": "code",
   "execution_count": null,
   "outputs": [],
   "source": [
    "# rgdp['DATE'] = pd.to_datetime(pd.Series(list(map(lambda date: datetime.strptime(date, '%Y:%m'), rgdp.DATE)))).dt.to_period('M')"
   ],
   "metadata": {
    "collapsed": false
   }
  },
  {
   "cell_type": "code",
   "execution_count": 39,
   "outputs": [],
   "source": [
    "# rgdp_date = pd.to_datetime(pd.Series(pd.date_range(start='19651130', end='20230131', freq='M'))).dt.to_period('M')\n",
    "# series = list(map(lambda x: str(int(x)), np.linspace(8, 1, 8, endpoint=True)))\n",
    "# rgdp_series = ['rgdp_' + i for i in series]"
   ],
   "metadata": {
    "collapsed": false
   }
  },
  {
   "cell_type": "code",
   "execution_count": 40,
   "outputs": [],
   "source": [
    "# RGDP = pd.DataFrame({}, index=rgdp_date, columns=rgdp_series)"
   ],
   "metadata": {
    "collapsed": false
   }
  },
  {
   "cell_type": "code",
   "execution_count": 41,
   "outputs": [
    {
     "data": {
      "text/plain": "        rgdp_8 rgdp_7 rgdp_6 rgdp_5 rgdp_4 rgdp_3 rgdp_2 rgdp_1\n1965-11    NaN    NaN    NaN    NaN    NaN    NaN    NaN    NaN\n1965-12    NaN    NaN    NaN    NaN    NaN    NaN    NaN    NaN\n1966-01    NaN    NaN    NaN    NaN    NaN    NaN    NaN    NaN\n1966-02    NaN    NaN    NaN    NaN    NaN    NaN    NaN    NaN\n1966-03    NaN    NaN    NaN    NaN    NaN    NaN    NaN    NaN\n...        ...    ...    ...    ...    ...    ...    ...    ...\n2022-11    NaN    NaN    NaN    NaN    NaN    NaN    NaN    NaN\n2022-12    NaN    NaN    NaN    NaN    NaN    NaN    NaN    NaN\n2023-01    NaN    NaN    NaN    NaN    NaN    NaN    NaN    NaN\n2023-02    NaN    NaN    NaN    NaN    NaN    NaN    NaN    NaN\n2023-03    NaN    NaN    NaN    NaN    NaN    NaN    NaN    NaN\n\n[689 rows x 8 columns]",
      "text/html": "<div>\n<style scoped>\n    .dataframe tbody tr th:only-of-type {\n        vertical-align: middle;\n    }\n\n    .dataframe tbody tr th {\n        vertical-align: top;\n    }\n\n    .dataframe thead th {\n        text-align: right;\n    }\n</style>\n<table border=\"1\" class=\"dataframe\">\n  <thead>\n    <tr style=\"text-align: right;\">\n      <th></th>\n      <th>rgdp_8</th>\n      <th>rgdp_7</th>\n      <th>rgdp_6</th>\n      <th>rgdp_5</th>\n      <th>rgdp_4</th>\n      <th>rgdp_3</th>\n      <th>rgdp_2</th>\n      <th>rgdp_1</th>\n    </tr>\n  </thead>\n  <tbody>\n    <tr>\n      <th>1965-11</th>\n      <td>NaN</td>\n      <td>NaN</td>\n      <td>NaN</td>\n      <td>NaN</td>\n      <td>NaN</td>\n      <td>NaN</td>\n      <td>NaN</td>\n      <td>NaN</td>\n    </tr>\n    <tr>\n      <th>1965-12</th>\n      <td>NaN</td>\n      <td>NaN</td>\n      <td>NaN</td>\n      <td>NaN</td>\n      <td>NaN</td>\n      <td>NaN</td>\n      <td>NaN</td>\n      <td>NaN</td>\n    </tr>\n    <tr>\n      <th>1966-01</th>\n      <td>NaN</td>\n      <td>NaN</td>\n      <td>NaN</td>\n      <td>NaN</td>\n      <td>NaN</td>\n      <td>NaN</td>\n      <td>NaN</td>\n      <td>NaN</td>\n    </tr>\n    <tr>\n      <th>1966-02</th>\n      <td>NaN</td>\n      <td>NaN</td>\n      <td>NaN</td>\n      <td>NaN</td>\n      <td>NaN</td>\n      <td>NaN</td>\n      <td>NaN</td>\n      <td>NaN</td>\n    </tr>\n    <tr>\n      <th>1966-03</th>\n      <td>NaN</td>\n      <td>NaN</td>\n      <td>NaN</td>\n      <td>NaN</td>\n      <td>NaN</td>\n      <td>NaN</td>\n      <td>NaN</td>\n      <td>NaN</td>\n    </tr>\n    <tr>\n      <th>...</th>\n      <td>...</td>\n      <td>...</td>\n      <td>...</td>\n      <td>...</td>\n      <td>...</td>\n      <td>...</td>\n      <td>...</td>\n      <td>...</td>\n    </tr>\n    <tr>\n      <th>2022-11</th>\n      <td>NaN</td>\n      <td>NaN</td>\n      <td>NaN</td>\n      <td>NaN</td>\n      <td>NaN</td>\n      <td>NaN</td>\n      <td>NaN</td>\n      <td>NaN</td>\n    </tr>\n    <tr>\n      <th>2022-12</th>\n      <td>NaN</td>\n      <td>NaN</td>\n      <td>NaN</td>\n      <td>NaN</td>\n      <td>NaN</td>\n      <td>NaN</td>\n      <td>NaN</td>\n      <td>NaN</td>\n    </tr>\n    <tr>\n      <th>2023-01</th>\n      <td>NaN</td>\n      <td>NaN</td>\n      <td>NaN</td>\n      <td>NaN</td>\n      <td>NaN</td>\n      <td>NaN</td>\n      <td>NaN</td>\n      <td>NaN</td>\n    </tr>\n    <tr>\n      <th>2023-02</th>\n      <td>NaN</td>\n      <td>NaN</td>\n      <td>NaN</td>\n      <td>NaN</td>\n      <td>NaN</td>\n      <td>NaN</td>\n      <td>NaN</td>\n      <td>NaN</td>\n    </tr>\n    <tr>\n      <th>2023-03</th>\n      <td>NaN</td>\n      <td>NaN</td>\n      <td>NaN</td>\n      <td>NaN</td>\n      <td>NaN</td>\n      <td>NaN</td>\n      <td>NaN</td>\n      <td>NaN</td>\n    </tr>\n  </tbody>\n</table>\n<p>689 rows × 8 columns</p>\n</div>"
     },
     "execution_count": 41,
     "metadata": {},
     "output_type": "execute_result"
    }
   ],
   "source": [
    "# RGDP"
   ],
   "metadata": {
    "collapsed": false
   }
  },
  {
   "cell_type": "code",
   "execution_count": 42,
   "outputs": [],
   "source": [
    "# The quarterly vintages are taken from the monthly vintages for February, May, August, and November\n",
    "# col = 1\n",
    "# for date in RGDP.index:\n",
    "#     quarter = str(date.year)\n",
    "#     if date.month in [2, 3, 4]:\n",
    "#         quarter = str(date.year) + ':Q1'\n",
    "#     elif date.month in [5, 6, 7]:\n",
    "#         quarter = str(date.year) + ':Q2'\n",
    "#     elif date.month in [8, 9, 10]:\n",
    "#         quarter = str(date.year) + ':Q3'\n",
    "#     elif date.month == 1:\n",
    "#         quarter = str(date.year - 1) + ':Q4'\n",
    "#     else:\n",
    "#         quarter = str(date.year) + ':Q4'\n",
    "#     try:\n",
    "#         row = rgdp[rgdp.DATE == quarter].index.tolist()[0]\n",
    "#         RGDP.loc[date] = rgdp.iloc[(row - 8):row, col].values\n",
    "#     except Exception as e:\n",
    "#         RGDP.loc[date] = rgdp.iloc[(len(rgdp) - 8):, col].values\n",
    "#     col += 1"
   ],
   "metadata": {
    "collapsed": false
   }
  },
  {
   "cell_type": "code",
   "execution_count": 46,
   "outputs": [
    {
     "data": {
      "text/plain": "        DATE  RCON65M11  RCON65M12  RCON66M1  RCON66M2  RCON66M3  RCON66M4  \\\n0    1947:Q1      203.4      203.4     203.4     203.4     203.4     203.4   \n1    1947:Q2      207.0      207.0     207.0     207.0     207.0     207.0   \n2    1947:Q3      207.4      207.4     207.4     207.4     207.4     207.4   \n3    1947:Q4      207.3      207.3     207.3     207.3     207.3     207.3   \n4    1948:Q1      208.5      208.5     208.5     208.5     208.5     208.5   \n..       ...        ...        ...       ...       ...       ...       ...   \n299  2021:Q4        NaN        NaN       NaN       NaN       NaN       NaN   \n300  2022:Q1        NaN        NaN       NaN       NaN       NaN       NaN   \n301  2022:Q2        NaN        NaN       NaN       NaN       NaN       NaN   \n302  2022:Q3        NaN        NaN       NaN       NaN       NaN       NaN   \n303  2022:Q4        NaN        NaN       NaN       NaN       NaN       NaN   \n\n     RCON66M5  RCON66M6  RCON66M7  ...  RCON22M6  RCON22M7  RCON22M8  \\\n0       203.4     203.4     203.4  ...    1277.4    1277.4    1277.4   \n1       207.0     207.0     207.0  ...    1298.7    1298.7    1298.7   \n2       207.4     207.4     207.4  ...    1302.9    1302.9    1302.9   \n3       207.3     207.3     207.3  ...    1303.3    1303.3    1303.3   \n4       208.5     208.5     208.5  ...    1309.8    1309.8    1309.8   \n..        ...       ...       ...  ...       ...       ...       ...   \n299       NaN       NaN       NaN  ...   13818.4   13818.4   13818.4   \n300       NaN       NaN       NaN  ...   13924.8   13881.1   13881.1   \n301       NaN       NaN       NaN  ...       NaN       NaN   13916.9   \n302       NaN       NaN       NaN  ...       NaN       NaN       NaN   \n303       NaN       NaN       NaN  ...       NaN       NaN       NaN   \n\n     RCON22M9  RCON22M10  RCON22M11  RCON22M12  RCON23M1  RCON23M2  RCON23M3  \n0      1277.4     1277.4     1277.4     1277.4    1277.4    1277.4    1277.4  \n1      1298.7     1298.7     1298.7     1298.7    1298.7    1298.7    1298.7  \n2      1302.9     1302.9     1302.9     1302.9    1302.9    1302.9    1302.9  \n3      1303.3     1303.3     1303.3     1303.3    1303.3    1303.3    1303.3  \n4      1309.8     1309.8     1309.8     1309.8    1309.8    1309.8    1309.8  \n..        ...        ...        ...        ...       ...       ...       ...  \n299   13818.4    13981.5    13981.5    13981.5   13981.5   13981.5   13981.5  \n300   13881.1    14028.4    14028.4    14028.4   14028.4   14028.4   14028.4  \n301   13931.5    14099.5    14099.5    14099.5   14099.5   14099.5   14099.5  \n302       NaN        NaN    14149.0    14159.9   14178.6   14178.6   14178.6  \n303       NaN        NaN        NaN        NaN       NaN   14252.2   14226.8  \n\n[304 rows x 690 columns]",
      "text/html": "<div>\n<style scoped>\n    .dataframe tbody tr th:only-of-type {\n        vertical-align: middle;\n    }\n\n    .dataframe tbody tr th {\n        vertical-align: top;\n    }\n\n    .dataframe thead th {\n        text-align: right;\n    }\n</style>\n<table border=\"1\" class=\"dataframe\">\n  <thead>\n    <tr style=\"text-align: right;\">\n      <th></th>\n      <th>DATE</th>\n      <th>RCON65M11</th>\n      <th>RCON65M12</th>\n      <th>RCON66M1</th>\n      <th>RCON66M2</th>\n      <th>RCON66M3</th>\n      <th>RCON66M4</th>\n      <th>RCON66M5</th>\n      <th>RCON66M6</th>\n      <th>RCON66M7</th>\n      <th>...</th>\n      <th>RCON22M6</th>\n      <th>RCON22M7</th>\n      <th>RCON22M8</th>\n      <th>RCON22M9</th>\n      <th>RCON22M10</th>\n      <th>RCON22M11</th>\n      <th>RCON22M12</th>\n      <th>RCON23M1</th>\n      <th>RCON23M2</th>\n      <th>RCON23M3</th>\n    </tr>\n  </thead>\n  <tbody>\n    <tr>\n      <th>0</th>\n      <td>1947:Q1</td>\n      <td>203.4</td>\n      <td>203.4</td>\n      <td>203.4</td>\n      <td>203.4</td>\n      <td>203.4</td>\n      <td>203.4</td>\n      <td>203.4</td>\n      <td>203.4</td>\n      <td>203.4</td>\n      <td>...</td>\n      <td>1277.4</td>\n      <td>1277.4</td>\n      <td>1277.4</td>\n      <td>1277.4</td>\n      <td>1277.4</td>\n      <td>1277.4</td>\n      <td>1277.4</td>\n      <td>1277.4</td>\n      <td>1277.4</td>\n      <td>1277.4</td>\n    </tr>\n    <tr>\n      <th>1</th>\n      <td>1947:Q2</td>\n      <td>207.0</td>\n      <td>207.0</td>\n      <td>207.0</td>\n      <td>207.0</td>\n      <td>207.0</td>\n      <td>207.0</td>\n      <td>207.0</td>\n      <td>207.0</td>\n      <td>207.0</td>\n      <td>...</td>\n      <td>1298.7</td>\n      <td>1298.7</td>\n      <td>1298.7</td>\n      <td>1298.7</td>\n      <td>1298.7</td>\n      <td>1298.7</td>\n      <td>1298.7</td>\n      <td>1298.7</td>\n      <td>1298.7</td>\n      <td>1298.7</td>\n    </tr>\n    <tr>\n      <th>2</th>\n      <td>1947:Q3</td>\n      <td>207.4</td>\n      <td>207.4</td>\n      <td>207.4</td>\n      <td>207.4</td>\n      <td>207.4</td>\n      <td>207.4</td>\n      <td>207.4</td>\n      <td>207.4</td>\n      <td>207.4</td>\n      <td>...</td>\n      <td>1302.9</td>\n      <td>1302.9</td>\n      <td>1302.9</td>\n      <td>1302.9</td>\n      <td>1302.9</td>\n      <td>1302.9</td>\n      <td>1302.9</td>\n      <td>1302.9</td>\n      <td>1302.9</td>\n      <td>1302.9</td>\n    </tr>\n    <tr>\n      <th>3</th>\n      <td>1947:Q4</td>\n      <td>207.3</td>\n      <td>207.3</td>\n      <td>207.3</td>\n      <td>207.3</td>\n      <td>207.3</td>\n      <td>207.3</td>\n      <td>207.3</td>\n      <td>207.3</td>\n      <td>207.3</td>\n      <td>...</td>\n      <td>1303.3</td>\n      <td>1303.3</td>\n      <td>1303.3</td>\n      <td>1303.3</td>\n      <td>1303.3</td>\n      <td>1303.3</td>\n      <td>1303.3</td>\n      <td>1303.3</td>\n      <td>1303.3</td>\n      <td>1303.3</td>\n    </tr>\n    <tr>\n      <th>4</th>\n      <td>1948:Q1</td>\n      <td>208.5</td>\n      <td>208.5</td>\n      <td>208.5</td>\n      <td>208.5</td>\n      <td>208.5</td>\n      <td>208.5</td>\n      <td>208.5</td>\n      <td>208.5</td>\n      <td>208.5</td>\n      <td>...</td>\n      <td>1309.8</td>\n      <td>1309.8</td>\n      <td>1309.8</td>\n      <td>1309.8</td>\n      <td>1309.8</td>\n      <td>1309.8</td>\n      <td>1309.8</td>\n      <td>1309.8</td>\n      <td>1309.8</td>\n      <td>1309.8</td>\n    </tr>\n    <tr>\n      <th>...</th>\n      <td>...</td>\n      <td>...</td>\n      <td>...</td>\n      <td>...</td>\n      <td>...</td>\n      <td>...</td>\n      <td>...</td>\n      <td>...</td>\n      <td>...</td>\n      <td>...</td>\n      <td>...</td>\n      <td>...</td>\n      <td>...</td>\n      <td>...</td>\n      <td>...</td>\n      <td>...</td>\n      <td>...</td>\n      <td>...</td>\n      <td>...</td>\n      <td>...</td>\n      <td>...</td>\n    </tr>\n    <tr>\n      <th>299</th>\n      <td>2021:Q4</td>\n      <td>NaN</td>\n      <td>NaN</td>\n      <td>NaN</td>\n      <td>NaN</td>\n      <td>NaN</td>\n      <td>NaN</td>\n      <td>NaN</td>\n      <td>NaN</td>\n      <td>NaN</td>\n      <td>...</td>\n      <td>13818.4</td>\n      <td>13818.4</td>\n      <td>13818.4</td>\n      <td>13818.4</td>\n      <td>13981.5</td>\n      <td>13981.5</td>\n      <td>13981.5</td>\n      <td>13981.5</td>\n      <td>13981.5</td>\n      <td>13981.5</td>\n    </tr>\n    <tr>\n      <th>300</th>\n      <td>2022:Q1</td>\n      <td>NaN</td>\n      <td>NaN</td>\n      <td>NaN</td>\n      <td>NaN</td>\n      <td>NaN</td>\n      <td>NaN</td>\n      <td>NaN</td>\n      <td>NaN</td>\n      <td>NaN</td>\n      <td>...</td>\n      <td>13924.8</td>\n      <td>13881.1</td>\n      <td>13881.1</td>\n      <td>13881.1</td>\n      <td>14028.4</td>\n      <td>14028.4</td>\n      <td>14028.4</td>\n      <td>14028.4</td>\n      <td>14028.4</td>\n      <td>14028.4</td>\n    </tr>\n    <tr>\n      <th>301</th>\n      <td>2022:Q2</td>\n      <td>NaN</td>\n      <td>NaN</td>\n      <td>NaN</td>\n      <td>NaN</td>\n      <td>NaN</td>\n      <td>NaN</td>\n      <td>NaN</td>\n      <td>NaN</td>\n      <td>NaN</td>\n      <td>...</td>\n      <td>NaN</td>\n      <td>NaN</td>\n      <td>13916.9</td>\n      <td>13931.5</td>\n      <td>14099.5</td>\n      <td>14099.5</td>\n      <td>14099.5</td>\n      <td>14099.5</td>\n      <td>14099.5</td>\n      <td>14099.5</td>\n    </tr>\n    <tr>\n      <th>302</th>\n      <td>2022:Q3</td>\n      <td>NaN</td>\n      <td>NaN</td>\n      <td>NaN</td>\n      <td>NaN</td>\n      <td>NaN</td>\n      <td>NaN</td>\n      <td>NaN</td>\n      <td>NaN</td>\n      <td>NaN</td>\n      <td>...</td>\n      <td>NaN</td>\n      <td>NaN</td>\n      <td>NaN</td>\n      <td>NaN</td>\n      <td>NaN</td>\n      <td>14149.0</td>\n      <td>14159.9</td>\n      <td>14178.6</td>\n      <td>14178.6</td>\n      <td>14178.6</td>\n    </tr>\n    <tr>\n      <th>303</th>\n      <td>2022:Q4</td>\n      <td>NaN</td>\n      <td>NaN</td>\n      <td>NaN</td>\n      <td>NaN</td>\n      <td>NaN</td>\n      <td>NaN</td>\n      <td>NaN</td>\n      <td>NaN</td>\n      <td>NaN</td>\n      <td>...</td>\n      <td>NaN</td>\n      <td>NaN</td>\n      <td>NaN</td>\n      <td>NaN</td>\n      <td>NaN</td>\n      <td>NaN</td>\n      <td>NaN</td>\n      <td>NaN</td>\n      <td>14252.2</td>\n      <td>14226.8</td>\n    </tr>\n  </tbody>\n</table>\n<p>304 rows × 690 columns</p>\n</div>"
     },
     "execution_count": 46,
     "metadata": {},
     "output_type": "execute_result"
    }
   ],
   "source": [
    "rpc"
   ],
   "metadata": {
    "collapsed": false
   }
  },
  {
   "cell_type": "code",
   "execution_count": 36,
   "outputs": [],
   "source": [
    "rpc.drop('DATE', axis=1, inplace=True)"
   ],
   "metadata": {
    "collapsed": false
   }
  },
  {
   "cell_type": "code",
   "execution_count": 37,
   "outputs": [],
   "source": [
    "rpc = np.log(rpc).apply(lambda x: x - x.shift(1), axis=0)"
   ],
   "metadata": {
    "collapsed": false
   }
  },
  {
   "cell_type": "code",
   "execution_count": 38,
   "outputs": [],
   "source": [
    "real_pc = pd.DataFrame(np.repeat(rpc.values, 3, axis=0))\n",
    "real_pc.columns = rpc.columns"
   ],
   "metadata": {
    "collapsed": false
   }
  },
  {
   "cell_type": "code",
   "execution_count": 39,
   "outputs": [],
   "source": [
    "real_pc.index = pd.to_datetime(pd.Series(pd.date_range(start='19470228', end='20230131', freq='M'))).dt.to_period('M')\n",
    "real_pc.index.name = 'DATE'"
   ],
   "metadata": {
    "collapsed": false
   }
  },
  {
   "cell_type": "code",
   "execution_count": 50,
   "outputs": [
    {
     "data": {
      "text/plain": "         RCON65M11  RCON65M12  RCON66M1  RCON66M2  RCON66M3  RCON66M4  \\\n1947-02      203.4      203.4     203.4     203.4     203.4     203.4   \n1947-03      203.4      203.4     203.4     203.4     203.4     203.4   \n1947-04      203.4      203.4     203.4     203.4     203.4     203.4   \n1947-05      207.0      207.0     207.0     207.0     207.0     207.0   \n1947-06      207.0      207.0     207.0     207.0     207.0     207.0   \n...            ...        ...       ...       ...       ...       ...   \n2022-09        NaN        NaN       NaN       NaN       NaN       NaN   \n2022-10        NaN        NaN       NaN       NaN       NaN       NaN   \n2022-11        NaN        NaN       NaN       NaN       NaN       NaN   \n2022-12        NaN        NaN       NaN       NaN       NaN       NaN   \n2023-01        NaN        NaN       NaN       NaN       NaN       NaN   \n\n         RCON66M5  RCON66M6  RCON66M7  RCON66M8  ...  RCON22M6  RCON22M7  \\\n1947-02     203.4     203.4     203.4     203.4  ...    1277.4    1277.4   \n1947-03     203.4     203.4     203.4     203.4  ...    1277.4    1277.4   \n1947-04     203.4     203.4     203.4     203.4  ...    1277.4    1277.4   \n1947-05     207.0     207.0     207.0     207.0  ...    1298.7    1298.7   \n1947-06     207.0     207.0     207.0     207.0  ...    1298.7    1298.7   \n...           ...       ...       ...       ...  ...       ...       ...   \n2022-09       NaN       NaN       NaN       NaN  ...       NaN       NaN   \n2022-10       NaN       NaN       NaN       NaN  ...       NaN       NaN   \n2022-11       NaN       NaN       NaN       NaN  ...       NaN       NaN   \n2022-12       NaN       NaN       NaN       NaN  ...       NaN       NaN   \n2023-01       NaN       NaN       NaN       NaN  ...       NaN       NaN   \n\n         RCON22M8  RCON22M9  RCON22M10  RCON22M11  RCON22M12  RCON23M1  \\\n1947-02    1277.4    1277.4     1277.4     1277.4     1277.4    1277.4   \n1947-03    1277.4    1277.4     1277.4     1277.4     1277.4    1277.4   \n1947-04    1277.4    1277.4     1277.4     1277.4     1277.4    1277.4   \n1947-05    1298.7    1298.7     1298.7     1298.7     1298.7    1298.7   \n1947-06    1298.7    1298.7     1298.7     1298.7     1298.7    1298.7   \n...           ...       ...        ...        ...        ...       ...   \n2022-09       NaN       NaN        NaN    14149.0    14159.9   14178.6   \n2022-10       NaN       NaN        NaN    14149.0    14159.9   14178.6   \n2022-11       NaN       NaN        NaN        NaN        NaN       NaN   \n2022-12       NaN       NaN        NaN        NaN        NaN       NaN   \n2023-01       NaN       NaN        NaN        NaN        NaN       NaN   \n\n         RCON23M2  RCON23M3  \n1947-02    1277.4    1277.4  \n1947-03    1277.4    1277.4  \n1947-04    1277.4    1277.4  \n1947-05    1298.7    1298.7  \n1947-06    1298.7    1298.7  \n...           ...       ...  \n2022-09   14178.6   14178.6  \n2022-10   14178.6   14178.6  \n2022-11   14252.2   14226.8  \n2022-12   14252.2   14226.8  \n2023-01   14252.2   14226.8  \n\n[912 rows x 689 columns]",
      "text/html": "<div>\n<style scoped>\n    .dataframe tbody tr th:only-of-type {\n        vertical-align: middle;\n    }\n\n    .dataframe tbody tr th {\n        vertical-align: top;\n    }\n\n    .dataframe thead th {\n        text-align: right;\n    }\n</style>\n<table border=\"1\" class=\"dataframe\">\n  <thead>\n    <tr style=\"text-align: right;\">\n      <th></th>\n      <th>RCON65M11</th>\n      <th>RCON65M12</th>\n      <th>RCON66M1</th>\n      <th>RCON66M2</th>\n      <th>RCON66M3</th>\n      <th>RCON66M4</th>\n      <th>RCON66M5</th>\n      <th>RCON66M6</th>\n      <th>RCON66M7</th>\n      <th>RCON66M8</th>\n      <th>...</th>\n      <th>RCON22M6</th>\n      <th>RCON22M7</th>\n      <th>RCON22M8</th>\n      <th>RCON22M9</th>\n      <th>RCON22M10</th>\n      <th>RCON22M11</th>\n      <th>RCON22M12</th>\n      <th>RCON23M1</th>\n      <th>RCON23M2</th>\n      <th>RCON23M3</th>\n    </tr>\n  </thead>\n  <tbody>\n    <tr>\n      <th>1947-02</th>\n      <td>203.4</td>\n      <td>203.4</td>\n      <td>203.4</td>\n      <td>203.4</td>\n      <td>203.4</td>\n      <td>203.4</td>\n      <td>203.4</td>\n      <td>203.4</td>\n      <td>203.4</td>\n      <td>203.4</td>\n      <td>...</td>\n      <td>1277.4</td>\n      <td>1277.4</td>\n      <td>1277.4</td>\n      <td>1277.4</td>\n      <td>1277.4</td>\n      <td>1277.4</td>\n      <td>1277.4</td>\n      <td>1277.4</td>\n      <td>1277.4</td>\n      <td>1277.4</td>\n    </tr>\n    <tr>\n      <th>1947-03</th>\n      <td>203.4</td>\n      <td>203.4</td>\n      <td>203.4</td>\n      <td>203.4</td>\n      <td>203.4</td>\n      <td>203.4</td>\n      <td>203.4</td>\n      <td>203.4</td>\n      <td>203.4</td>\n      <td>203.4</td>\n      <td>...</td>\n      <td>1277.4</td>\n      <td>1277.4</td>\n      <td>1277.4</td>\n      <td>1277.4</td>\n      <td>1277.4</td>\n      <td>1277.4</td>\n      <td>1277.4</td>\n      <td>1277.4</td>\n      <td>1277.4</td>\n      <td>1277.4</td>\n    </tr>\n    <tr>\n      <th>1947-04</th>\n      <td>203.4</td>\n      <td>203.4</td>\n      <td>203.4</td>\n      <td>203.4</td>\n      <td>203.4</td>\n      <td>203.4</td>\n      <td>203.4</td>\n      <td>203.4</td>\n      <td>203.4</td>\n      <td>203.4</td>\n      <td>...</td>\n      <td>1277.4</td>\n      <td>1277.4</td>\n      <td>1277.4</td>\n      <td>1277.4</td>\n      <td>1277.4</td>\n      <td>1277.4</td>\n      <td>1277.4</td>\n      <td>1277.4</td>\n      <td>1277.4</td>\n      <td>1277.4</td>\n    </tr>\n    <tr>\n      <th>1947-05</th>\n      <td>207.0</td>\n      <td>207.0</td>\n      <td>207.0</td>\n      <td>207.0</td>\n      <td>207.0</td>\n      <td>207.0</td>\n      <td>207.0</td>\n      <td>207.0</td>\n      <td>207.0</td>\n      <td>207.0</td>\n      <td>...</td>\n      <td>1298.7</td>\n      <td>1298.7</td>\n      <td>1298.7</td>\n      <td>1298.7</td>\n      <td>1298.7</td>\n      <td>1298.7</td>\n      <td>1298.7</td>\n      <td>1298.7</td>\n      <td>1298.7</td>\n      <td>1298.7</td>\n    </tr>\n    <tr>\n      <th>1947-06</th>\n      <td>207.0</td>\n      <td>207.0</td>\n      <td>207.0</td>\n      <td>207.0</td>\n      <td>207.0</td>\n      <td>207.0</td>\n      <td>207.0</td>\n      <td>207.0</td>\n      <td>207.0</td>\n      <td>207.0</td>\n      <td>...</td>\n      <td>1298.7</td>\n      <td>1298.7</td>\n      <td>1298.7</td>\n      <td>1298.7</td>\n      <td>1298.7</td>\n      <td>1298.7</td>\n      <td>1298.7</td>\n      <td>1298.7</td>\n      <td>1298.7</td>\n      <td>1298.7</td>\n    </tr>\n    <tr>\n      <th>...</th>\n      <td>...</td>\n      <td>...</td>\n      <td>...</td>\n      <td>...</td>\n      <td>...</td>\n      <td>...</td>\n      <td>...</td>\n      <td>...</td>\n      <td>...</td>\n      <td>...</td>\n      <td>...</td>\n      <td>...</td>\n      <td>...</td>\n      <td>...</td>\n      <td>...</td>\n      <td>...</td>\n      <td>...</td>\n      <td>...</td>\n      <td>...</td>\n      <td>...</td>\n      <td>...</td>\n    </tr>\n    <tr>\n      <th>2022-09</th>\n      <td>NaN</td>\n      <td>NaN</td>\n      <td>NaN</td>\n      <td>NaN</td>\n      <td>NaN</td>\n      <td>NaN</td>\n      <td>NaN</td>\n      <td>NaN</td>\n      <td>NaN</td>\n      <td>NaN</td>\n      <td>...</td>\n      <td>NaN</td>\n      <td>NaN</td>\n      <td>NaN</td>\n      <td>NaN</td>\n      <td>NaN</td>\n      <td>14149.0</td>\n      <td>14159.9</td>\n      <td>14178.6</td>\n      <td>14178.6</td>\n      <td>14178.6</td>\n    </tr>\n    <tr>\n      <th>2022-10</th>\n      <td>NaN</td>\n      <td>NaN</td>\n      <td>NaN</td>\n      <td>NaN</td>\n      <td>NaN</td>\n      <td>NaN</td>\n      <td>NaN</td>\n      <td>NaN</td>\n      <td>NaN</td>\n      <td>NaN</td>\n      <td>...</td>\n      <td>NaN</td>\n      <td>NaN</td>\n      <td>NaN</td>\n      <td>NaN</td>\n      <td>NaN</td>\n      <td>14149.0</td>\n      <td>14159.9</td>\n      <td>14178.6</td>\n      <td>14178.6</td>\n      <td>14178.6</td>\n    </tr>\n    <tr>\n      <th>2022-11</th>\n      <td>NaN</td>\n      <td>NaN</td>\n      <td>NaN</td>\n      <td>NaN</td>\n      <td>NaN</td>\n      <td>NaN</td>\n      <td>NaN</td>\n      <td>NaN</td>\n      <td>NaN</td>\n      <td>NaN</td>\n      <td>...</td>\n      <td>NaN</td>\n      <td>NaN</td>\n      <td>NaN</td>\n      <td>NaN</td>\n      <td>NaN</td>\n      <td>NaN</td>\n      <td>NaN</td>\n      <td>NaN</td>\n      <td>14252.2</td>\n      <td>14226.8</td>\n    </tr>\n    <tr>\n      <th>2022-12</th>\n      <td>NaN</td>\n      <td>NaN</td>\n      <td>NaN</td>\n      <td>NaN</td>\n      <td>NaN</td>\n      <td>NaN</td>\n      <td>NaN</td>\n      <td>NaN</td>\n      <td>NaN</td>\n      <td>NaN</td>\n      <td>...</td>\n      <td>NaN</td>\n      <td>NaN</td>\n      <td>NaN</td>\n      <td>NaN</td>\n      <td>NaN</td>\n      <td>NaN</td>\n      <td>NaN</td>\n      <td>NaN</td>\n      <td>14252.2</td>\n      <td>14226.8</td>\n    </tr>\n    <tr>\n      <th>2023-01</th>\n      <td>NaN</td>\n      <td>NaN</td>\n      <td>NaN</td>\n      <td>NaN</td>\n      <td>NaN</td>\n      <td>NaN</td>\n      <td>NaN</td>\n      <td>NaN</td>\n      <td>NaN</td>\n      <td>NaN</td>\n      <td>...</td>\n      <td>NaN</td>\n      <td>NaN</td>\n      <td>NaN</td>\n      <td>NaN</td>\n      <td>NaN</td>\n      <td>NaN</td>\n      <td>NaN</td>\n      <td>NaN</td>\n      <td>14252.2</td>\n      <td>14226.8</td>\n    </tr>\n  </tbody>\n</table>\n<p>912 rows × 689 columns</p>\n</div>"
     },
     "execution_count": 50,
     "metadata": {},
     "output_type": "execute_result"
    }
   ],
   "source": [
    "real_pc"
   ],
   "metadata": {
    "collapsed": false
   }
  },
  {
   "cell_type": "code",
   "execution_count": 44,
   "outputs": [],
   "source": [
    "# rpc_date = pd.to_datetime(pd.Series(pd.date_range(start='19651130', end='20230331', freq='M'))).dt.to_period('M')\n",
    "# rpc_series = ['rpc_' + i for i in series]"
   ],
   "metadata": {
    "collapsed": false
   }
  },
  {
   "cell_type": "code",
   "execution_count": 45,
   "outputs": [],
   "source": [
    "# RPC = pd.DataFrame({}, index=rpc_date, columns=rpc_series)"
   ],
   "metadata": {
    "collapsed": false
   }
  },
  {
   "cell_type": "code",
   "execution_count": 47,
   "outputs": [],
   "source": [
    "# The quarterly vintages are taken from the monthly vintages for February, May, August, and November\n",
    "# col = 1\n",
    "# for date in RPC.index:\n",
    "#     if date.month in [2, 3, 4]:\n",
    "#         quarter = str(date.year) + ':Q1'\n",
    "#     elif date.month in [5, 6, 7]:\n",
    "#         quarter = str(date.year) + ':Q2'\n",
    "#     elif date.month in [8, 9, 10]:\n",
    "#         quarter = str(date.year) + ':Q3'\n",
    "#     elif date.month == 1:\n",
    "#         quarter = str(date.year - 1) + ':Q4'\n",
    "#     else:\n",
    "#         quarter = str(date.year) + ':Q4'\n",
    "#     try:\n",
    "#         row = rpc[rpc.DATE == quarter].index.tolist()[0]\n",
    "#         RPC.loc[date] = rpc.iloc[(row - 8):row, col].values\n",
    "#     except Exception as e:\n",
    "#         RPC.loc[date] = rpc.iloc[(len(rpc) - 8):, col].values\n",
    "#     col += 1"
   ],
   "metadata": {
    "collapsed": false
   }
  },
  {
   "cell_type": "code",
   "execution_count": 42,
   "outputs": [
    {
     "data": {
      "text/plain": "         RUC65Q4  RUC66Q1  RUC66Q2  RUC66Q3  RUC66Q4  RUC67Q1  RUC67Q2  \\\nDATE                                                                     \n1947-01      NaN      NaN      NaN      NaN      NaN      NaN      NaN   \n1947-02      NaN      NaN      NaN      NaN      NaN      NaN      NaN   \n1947-03      NaN      NaN      NaN      NaN      NaN      NaN      NaN   \n1947-04      NaN      NaN      NaN      NaN      NaN      NaN      NaN   \n1947-05      NaN      NaN      NaN      NaN      NaN      NaN      NaN   \n...          ...      ...      ...      ...      ...      ...      ...   \n2022-09      NaN      NaN      NaN      NaN      NaN      NaN      NaN   \n2022-10      NaN      NaN      NaN      NaN      NaN      NaN      NaN   \n2022-11      NaN      NaN      NaN      NaN      NaN      NaN      NaN   \n2022-12      NaN      NaN      NaN      NaN      NaN      NaN      NaN   \n2023-01      NaN      NaN      NaN      NaN      NaN      NaN      NaN   \n\n         RUC67Q3  RUC67Q4  RUC68Q1  ...  RUC20Q4  RUC21Q1  RUC21Q2  RUC21Q3  \\\nDATE                                ...                                       \n1947-01      NaN      NaN      NaN  ...      NaN      NaN      NaN      NaN   \n1947-02      NaN      NaN      NaN  ...      NaN      NaN      NaN      NaN   \n1947-03      NaN      NaN      NaN  ...      NaN      NaN      NaN      NaN   \n1947-04      NaN      NaN      NaN  ...      NaN      NaN      NaN      NaN   \n1947-05      NaN      NaN      NaN  ...      NaN      NaN      NaN      NaN   \n...          ...      ...      ...  ...      ...      ...      ...      ...   \n2022-09      NaN      NaN      NaN  ...      NaN      NaN      NaN      NaN   \n2022-10      NaN      NaN      NaN  ...      NaN      NaN      NaN      NaN   \n2022-11      NaN      NaN      NaN  ...      NaN      NaN      NaN      NaN   \n2022-12      NaN      NaN      NaN  ...      NaN      NaN      NaN      NaN   \n2023-01      NaN      NaN      NaN  ...      NaN      NaN      NaN      NaN   \n\n         RUC21Q4  RUC22Q1  RUC22Q2  RUC22Q3  RUC22Q4  RUC23Q1  \nDATE                                                           \n1947-01      NaN      NaN      NaN      NaN      NaN      NaN  \n1947-02      NaN      NaN      NaN      NaN      NaN      NaN  \n1947-03      NaN      NaN      NaN      NaN      NaN      NaN  \n1947-04      NaN      NaN      NaN      NaN      NaN      NaN  \n1947-05      NaN      NaN      NaN      NaN      NaN      NaN  \n...          ...      ...      ...      ...      ...      ...  \n2022-09      NaN      NaN      NaN      NaN      3.5      3.5  \n2022-10      NaN      NaN      NaN      NaN      3.7      3.7  \n2022-11      NaN      NaN      NaN      NaN      NaN      3.6  \n2022-12      NaN      NaN      NaN      NaN      NaN      3.5  \n2023-01      NaN      NaN      NaN      NaN      NaN      3.4  \n\n[913 rows x 230 columns]",
      "text/html": "<div>\n<style scoped>\n    .dataframe tbody tr th:only-of-type {\n        vertical-align: middle;\n    }\n\n    .dataframe tbody tr th {\n        vertical-align: top;\n    }\n\n    .dataframe thead th {\n        text-align: right;\n    }\n</style>\n<table border=\"1\" class=\"dataframe\">\n  <thead>\n    <tr style=\"text-align: right;\">\n      <th></th>\n      <th>RUC65Q4</th>\n      <th>RUC66Q1</th>\n      <th>RUC66Q2</th>\n      <th>RUC66Q3</th>\n      <th>RUC66Q4</th>\n      <th>RUC67Q1</th>\n      <th>RUC67Q2</th>\n      <th>RUC67Q3</th>\n      <th>RUC67Q4</th>\n      <th>RUC68Q1</th>\n      <th>...</th>\n      <th>RUC20Q4</th>\n      <th>RUC21Q1</th>\n      <th>RUC21Q2</th>\n      <th>RUC21Q3</th>\n      <th>RUC21Q4</th>\n      <th>RUC22Q1</th>\n      <th>RUC22Q2</th>\n      <th>RUC22Q3</th>\n      <th>RUC22Q4</th>\n      <th>RUC23Q1</th>\n    </tr>\n    <tr>\n      <th>DATE</th>\n      <th></th>\n      <th></th>\n      <th></th>\n      <th></th>\n      <th></th>\n      <th></th>\n      <th></th>\n      <th></th>\n      <th></th>\n      <th></th>\n      <th></th>\n      <th></th>\n      <th></th>\n      <th></th>\n      <th></th>\n      <th></th>\n      <th></th>\n      <th></th>\n      <th></th>\n      <th></th>\n      <th></th>\n    </tr>\n  </thead>\n  <tbody>\n    <tr>\n      <th>1947-01</th>\n      <td>NaN</td>\n      <td>NaN</td>\n      <td>NaN</td>\n      <td>NaN</td>\n      <td>NaN</td>\n      <td>NaN</td>\n      <td>NaN</td>\n      <td>NaN</td>\n      <td>NaN</td>\n      <td>NaN</td>\n      <td>...</td>\n      <td>NaN</td>\n      <td>NaN</td>\n      <td>NaN</td>\n      <td>NaN</td>\n      <td>NaN</td>\n      <td>NaN</td>\n      <td>NaN</td>\n      <td>NaN</td>\n      <td>NaN</td>\n      <td>NaN</td>\n    </tr>\n    <tr>\n      <th>1947-02</th>\n      <td>NaN</td>\n      <td>NaN</td>\n      <td>NaN</td>\n      <td>NaN</td>\n      <td>NaN</td>\n      <td>NaN</td>\n      <td>NaN</td>\n      <td>NaN</td>\n      <td>NaN</td>\n      <td>NaN</td>\n      <td>...</td>\n      <td>NaN</td>\n      <td>NaN</td>\n      <td>NaN</td>\n      <td>NaN</td>\n      <td>NaN</td>\n      <td>NaN</td>\n      <td>NaN</td>\n      <td>NaN</td>\n      <td>NaN</td>\n      <td>NaN</td>\n    </tr>\n    <tr>\n      <th>1947-03</th>\n      <td>NaN</td>\n      <td>NaN</td>\n      <td>NaN</td>\n      <td>NaN</td>\n      <td>NaN</td>\n      <td>NaN</td>\n      <td>NaN</td>\n      <td>NaN</td>\n      <td>NaN</td>\n      <td>NaN</td>\n      <td>...</td>\n      <td>NaN</td>\n      <td>NaN</td>\n      <td>NaN</td>\n      <td>NaN</td>\n      <td>NaN</td>\n      <td>NaN</td>\n      <td>NaN</td>\n      <td>NaN</td>\n      <td>NaN</td>\n      <td>NaN</td>\n    </tr>\n    <tr>\n      <th>1947-04</th>\n      <td>NaN</td>\n      <td>NaN</td>\n      <td>NaN</td>\n      <td>NaN</td>\n      <td>NaN</td>\n      <td>NaN</td>\n      <td>NaN</td>\n      <td>NaN</td>\n      <td>NaN</td>\n      <td>NaN</td>\n      <td>...</td>\n      <td>NaN</td>\n      <td>NaN</td>\n      <td>NaN</td>\n      <td>NaN</td>\n      <td>NaN</td>\n      <td>NaN</td>\n      <td>NaN</td>\n      <td>NaN</td>\n      <td>NaN</td>\n      <td>NaN</td>\n    </tr>\n    <tr>\n      <th>1947-05</th>\n      <td>NaN</td>\n      <td>NaN</td>\n      <td>NaN</td>\n      <td>NaN</td>\n      <td>NaN</td>\n      <td>NaN</td>\n      <td>NaN</td>\n      <td>NaN</td>\n      <td>NaN</td>\n      <td>NaN</td>\n      <td>...</td>\n      <td>NaN</td>\n      <td>NaN</td>\n      <td>NaN</td>\n      <td>NaN</td>\n      <td>NaN</td>\n      <td>NaN</td>\n      <td>NaN</td>\n      <td>NaN</td>\n      <td>NaN</td>\n      <td>NaN</td>\n    </tr>\n    <tr>\n      <th>...</th>\n      <td>...</td>\n      <td>...</td>\n      <td>...</td>\n      <td>...</td>\n      <td>...</td>\n      <td>...</td>\n      <td>...</td>\n      <td>...</td>\n      <td>...</td>\n      <td>...</td>\n      <td>...</td>\n      <td>...</td>\n      <td>...</td>\n      <td>...</td>\n      <td>...</td>\n      <td>...</td>\n      <td>...</td>\n      <td>...</td>\n      <td>...</td>\n      <td>...</td>\n      <td>...</td>\n    </tr>\n    <tr>\n      <th>2022-09</th>\n      <td>NaN</td>\n      <td>NaN</td>\n      <td>NaN</td>\n      <td>NaN</td>\n      <td>NaN</td>\n      <td>NaN</td>\n      <td>NaN</td>\n      <td>NaN</td>\n      <td>NaN</td>\n      <td>NaN</td>\n      <td>...</td>\n      <td>NaN</td>\n      <td>NaN</td>\n      <td>NaN</td>\n      <td>NaN</td>\n      <td>NaN</td>\n      <td>NaN</td>\n      <td>NaN</td>\n      <td>NaN</td>\n      <td>3.5</td>\n      <td>3.5</td>\n    </tr>\n    <tr>\n      <th>2022-10</th>\n      <td>NaN</td>\n      <td>NaN</td>\n      <td>NaN</td>\n      <td>NaN</td>\n      <td>NaN</td>\n      <td>NaN</td>\n      <td>NaN</td>\n      <td>NaN</td>\n      <td>NaN</td>\n      <td>NaN</td>\n      <td>...</td>\n      <td>NaN</td>\n      <td>NaN</td>\n      <td>NaN</td>\n      <td>NaN</td>\n      <td>NaN</td>\n      <td>NaN</td>\n      <td>NaN</td>\n      <td>NaN</td>\n      <td>3.7</td>\n      <td>3.7</td>\n    </tr>\n    <tr>\n      <th>2022-11</th>\n      <td>NaN</td>\n      <td>NaN</td>\n      <td>NaN</td>\n      <td>NaN</td>\n      <td>NaN</td>\n      <td>NaN</td>\n      <td>NaN</td>\n      <td>NaN</td>\n      <td>NaN</td>\n      <td>NaN</td>\n      <td>...</td>\n      <td>NaN</td>\n      <td>NaN</td>\n      <td>NaN</td>\n      <td>NaN</td>\n      <td>NaN</td>\n      <td>NaN</td>\n      <td>NaN</td>\n      <td>NaN</td>\n      <td>NaN</td>\n      <td>3.6</td>\n    </tr>\n    <tr>\n      <th>2022-12</th>\n      <td>NaN</td>\n      <td>NaN</td>\n      <td>NaN</td>\n      <td>NaN</td>\n      <td>NaN</td>\n      <td>NaN</td>\n      <td>NaN</td>\n      <td>NaN</td>\n      <td>NaN</td>\n      <td>NaN</td>\n      <td>...</td>\n      <td>NaN</td>\n      <td>NaN</td>\n      <td>NaN</td>\n      <td>NaN</td>\n      <td>NaN</td>\n      <td>NaN</td>\n      <td>NaN</td>\n      <td>NaN</td>\n      <td>NaN</td>\n      <td>3.5</td>\n    </tr>\n    <tr>\n      <th>2023-01</th>\n      <td>NaN</td>\n      <td>NaN</td>\n      <td>NaN</td>\n      <td>NaN</td>\n      <td>NaN</td>\n      <td>NaN</td>\n      <td>NaN</td>\n      <td>NaN</td>\n      <td>NaN</td>\n      <td>NaN</td>\n      <td>...</td>\n      <td>NaN</td>\n      <td>NaN</td>\n      <td>NaN</td>\n      <td>NaN</td>\n      <td>NaN</td>\n      <td>NaN</td>\n      <td>NaN</td>\n      <td>NaN</td>\n      <td>NaN</td>\n      <td>3.4</td>\n    </tr>\n  </tbody>\n</table>\n<p>913 rows × 230 columns</p>\n</div>"
     },
     "execution_count": 42,
     "metadata": {},
     "output_type": "execute_result"
    }
   ],
   "source": [
    "unemp"
   ],
   "metadata": {
    "collapsed": false
   }
  },
  {
   "cell_type": "code",
   "execution_count": 48,
   "outputs": [],
   "source": [
    "# unemp_date = pd.to_datetime(pd.Series(pd.date_range(start='19651130', end='20230331', freq='M'))).dt.to_period('M')\n",
    "# series = list(map(lambda x: str(int(x)), np.linspace(24, 1, 24, endpoint=True)))\n",
    "# unemp_series = ['unemp_' + i for i in series]"
   ],
   "metadata": {
    "collapsed": false
   }
  },
  {
   "cell_type": "code",
   "execution_count": 40,
   "outputs": [],
   "source": [
    "unemp['DATE'] = pd.to_datetime(pd.Series(list(map(lambda x: datetime.strptime(x, '%Y:%m'), unemp.DATE)))).dt.to_period('M')"
   ],
   "metadata": {
    "collapsed": false
   }
  },
  {
   "cell_type": "code",
   "execution_count": 41,
   "outputs": [],
   "source": [
    "unemp.set_index('DATE', drop=True, inplace=True)"
   ],
   "metadata": {
    "collapsed": false
   }
  },
  {
   "cell_type": "code",
   "execution_count": 50,
   "outputs": [],
   "source": [
    "# UNEMP = pd.DataFrame({}, index=unemp_date, columns=unemp_series)"
   ],
   "metadata": {
    "collapsed": false
   }
  },
  {
   "cell_type": "code",
   "execution_count": 52,
   "outputs": [],
   "source": [
    "# for date in UNEMP.index:\n",
    "#     d_origin = date\n",
    "#     if date.month in [2, 3, 4]:\n",
    "#         col = 'RUC' + str(date.year)[-2:] + 'Q1'\n",
    "#         adjust = date.month - 2\n",
    "#     elif date.month in [5, 6, 7]:\n",
    "#         col = 'RUC' + str(date.year)[-2:] + 'Q2'\n",
    "#         adjust = date.month - 5\n",
    "#     elif date.month in [8, 9, 10]:\n",
    "#         col = 'RUC' + str(date.year)[-2:] + 'Q3'\n",
    "#         adjust = date.month - 8\n",
    "#     elif date.month == 1:\n",
    "#         col = 'RUC' + str(date.year - 1)[-2:] + 'Q4'\n",
    "#         adjust = 2\n",
    "#     else:\n",
    "#         col = 'RUC' + str(date.year)[-2:] + 'Q4'\n",
    "#         adjust = date.month - 11\n",
    "#     try:\n",
    "#         row = unemp[unemp.DATE == date].index.tolist()[0] - adjust\n",
    "#         UNEMP.loc[d_origin] = unemp.loc[(row - 24):(row - 1), col].values\n",
    "#     except Exception as e:\n",
    "#         UNEMP.loc[d_origin] = unemp.loc[(len(unemp) - 24):, col].values"
   ],
   "metadata": {
    "collapsed": false
   }
  },
  {
   "cell_type": "code",
   "execution_count": 43,
   "outputs": [],
   "source": [
    "ipi.to_csv(\"C:\\\\Users\\\\ASUS\\\\Desktop\\\\data\\\\ipi.csv\")\n",
    "real_gdp.to_csv(\"C:\\\\Users\\\\ASUS\\\\Desktop\\\\data\\\\rgdp.csv\")\n",
    "real_pc.to_csv(\"C:\\\\Users\\\\ASUS\\\\Desktop\\\\data\\\\rpc.csv\")\n",
    "unemp.to_csv(\"C:\\\\Users\\\\ASUS\\\\Desktop\\\\data\\\\unemp.csv\")"
   ],
   "metadata": {
    "collapsed": false
   }
  },
  {
   "cell_type": "markdown",
   "source": [
    "### WRDS financial ratios\n",
    "- relevant identifiers: `gvkey`, `permno`\n",
    "- relevant dates: `adate`, `qdate` stand for annual and quarterly dates --> annual and quarterly frequencies\n",
    "- compare with __Table A1: WRDS financial ratios__ for corresponding variable names"
   ],
   "metadata": {
    "collapsed": false
   }
  },
  {
   "cell_type": "code",
   "execution_count": 28,
   "outputs": [],
   "source": [
    "fin_ratio = pd.read_csv('wrdscomp_finratios.csv', low_memory=False)"
   ],
   "metadata": {
    "collapsed": false
   }
  },
  {
   "cell_type": "code",
   "execution_count": 29,
   "outputs": [
    {
     "data": {
      "text/plain": "   gvkey  permno       adate       qdate  public_date   CAPEI     bm    evm  \\\n0   1000   25881  19691231.0  19700930.0     19710131  10.950  0.427  1.761   \n1   1000   25881  19701231.0  19701231.0     19710228  35.407  0.431  7.010   \n2   1000   25881  19701231.0  19701231.0     19710331  31.031  0.431  7.010   \n3   1000   25881  19701231.0  19701231.0     19710430  34.214  0.431  7.010   \n4   1000   25881  19701231.0  19710331.0     19710531  11.307  0.431  7.010   \n\n   pe_op_basic  pe_op_dil  ...  adv_sale  staff_sale  accrual    ptb  \\\n0          NaN        NaN  ...       0.0         0.0    0.530  2.340   \n1          NaN        NaN  ...       0.0         0.0    0.021  2.801   \n2          NaN        NaN  ...       0.0         0.0    0.021  2.455   \n3          NaN        NaN  ...       0.0         0.0    0.021  2.707   \n4          NaN        NaN  ...       0.0         0.0    0.021  2.172   \n\n   PEG_trailing  divyield  PEG_1yrforward  PEG_ltgforward  TICKER     cusip  \n0           NaN       NaN             NaN             NaN     NaN       NaN  \n1           NaN       NaN             NaN             NaN      AE  00003210  \n2           NaN       NaN             NaN             NaN      AE  00003210  \n3           NaN       NaN             NaN             NaN      AE  00003210  \n4           NaN       NaN             NaN             NaN      AE  00003210  \n\n[5 rows x 78 columns]",
      "text/html": "<div>\n<style scoped>\n    .dataframe tbody tr th:only-of-type {\n        vertical-align: middle;\n    }\n\n    .dataframe tbody tr th {\n        vertical-align: top;\n    }\n\n    .dataframe thead th {\n        text-align: right;\n    }\n</style>\n<table border=\"1\" class=\"dataframe\">\n  <thead>\n    <tr style=\"text-align: right;\">\n      <th></th>\n      <th>gvkey</th>\n      <th>permno</th>\n      <th>adate</th>\n      <th>qdate</th>\n      <th>public_date</th>\n      <th>CAPEI</th>\n      <th>bm</th>\n      <th>evm</th>\n      <th>pe_op_basic</th>\n      <th>pe_op_dil</th>\n      <th>...</th>\n      <th>adv_sale</th>\n      <th>staff_sale</th>\n      <th>accrual</th>\n      <th>ptb</th>\n      <th>PEG_trailing</th>\n      <th>divyield</th>\n      <th>PEG_1yrforward</th>\n      <th>PEG_ltgforward</th>\n      <th>TICKER</th>\n      <th>cusip</th>\n    </tr>\n  </thead>\n  <tbody>\n    <tr>\n      <th>0</th>\n      <td>1000</td>\n      <td>25881</td>\n      <td>19691231.0</td>\n      <td>19700930.0</td>\n      <td>19710131</td>\n      <td>10.950</td>\n      <td>0.427</td>\n      <td>1.761</td>\n      <td>NaN</td>\n      <td>NaN</td>\n      <td>...</td>\n      <td>0.0</td>\n      <td>0.0</td>\n      <td>0.530</td>\n      <td>2.340</td>\n      <td>NaN</td>\n      <td>NaN</td>\n      <td>NaN</td>\n      <td>NaN</td>\n      <td>NaN</td>\n      <td>NaN</td>\n    </tr>\n    <tr>\n      <th>1</th>\n      <td>1000</td>\n      <td>25881</td>\n      <td>19701231.0</td>\n      <td>19701231.0</td>\n      <td>19710228</td>\n      <td>35.407</td>\n      <td>0.431</td>\n      <td>7.010</td>\n      <td>NaN</td>\n      <td>NaN</td>\n      <td>...</td>\n      <td>0.0</td>\n      <td>0.0</td>\n      <td>0.021</td>\n      <td>2.801</td>\n      <td>NaN</td>\n      <td>NaN</td>\n      <td>NaN</td>\n      <td>NaN</td>\n      <td>AE</td>\n      <td>00003210</td>\n    </tr>\n    <tr>\n      <th>2</th>\n      <td>1000</td>\n      <td>25881</td>\n      <td>19701231.0</td>\n      <td>19701231.0</td>\n      <td>19710331</td>\n      <td>31.031</td>\n      <td>0.431</td>\n      <td>7.010</td>\n      <td>NaN</td>\n      <td>NaN</td>\n      <td>...</td>\n      <td>0.0</td>\n      <td>0.0</td>\n      <td>0.021</td>\n      <td>2.455</td>\n      <td>NaN</td>\n      <td>NaN</td>\n      <td>NaN</td>\n      <td>NaN</td>\n      <td>AE</td>\n      <td>00003210</td>\n    </tr>\n    <tr>\n      <th>3</th>\n      <td>1000</td>\n      <td>25881</td>\n      <td>19701231.0</td>\n      <td>19701231.0</td>\n      <td>19710430</td>\n      <td>34.214</td>\n      <td>0.431</td>\n      <td>7.010</td>\n      <td>NaN</td>\n      <td>NaN</td>\n      <td>...</td>\n      <td>0.0</td>\n      <td>0.0</td>\n      <td>0.021</td>\n      <td>2.707</td>\n      <td>NaN</td>\n      <td>NaN</td>\n      <td>NaN</td>\n      <td>NaN</td>\n      <td>AE</td>\n      <td>00003210</td>\n    </tr>\n    <tr>\n      <th>4</th>\n      <td>1000</td>\n      <td>25881</td>\n      <td>19701231.0</td>\n      <td>19710331.0</td>\n      <td>19710531</td>\n      <td>11.307</td>\n      <td>0.431</td>\n      <td>7.010</td>\n      <td>NaN</td>\n      <td>NaN</td>\n      <td>...</td>\n      <td>0.0</td>\n      <td>0.0</td>\n      <td>0.021</td>\n      <td>2.172</td>\n      <td>NaN</td>\n      <td>NaN</td>\n      <td>NaN</td>\n      <td>NaN</td>\n      <td>AE</td>\n      <td>00003210</td>\n    </tr>\n  </tbody>\n</table>\n<p>5 rows × 78 columns</p>\n</div>"
     },
     "execution_count": 29,
     "metadata": {},
     "output_type": "execute_result"
    }
   ],
   "source": [
    "fin_ratio.head()"
   ],
   "metadata": {
    "collapsed": false
   }
  },
  {
   "cell_type": "code",
   "execution_count": 30,
   "outputs": [],
   "source": [
    "fin_ratio.rename(columns={'permno': 'PERMNO'}, inplace=True)"
   ],
   "metadata": {
    "collapsed": false
   }
  },
  {
   "cell_type": "code",
   "execution_count": 31,
   "outputs": [],
   "source": [
    "fin_ratio['rankdate'] = pd.to_datetime(fin_ratio['public_date'].astype('str')).dt.to_period('M')"
   ],
   "metadata": {
    "collapsed": false
   }
  },
  {
   "cell_type": "code",
   "execution_count": 32,
   "outputs": [],
   "source": [
    "fin_ratio.drop(['gvkey', 'adate', 'qdate', 'public_date', 'TICKER', 'cusip'], axis=1, inplace=True)"
   ],
   "metadata": {
    "collapsed": false
   }
  },
  {
   "cell_type": "code",
   "execution_count": 50,
   "outputs": [
    {
     "data": {
      "text/plain": "(2921483, 73)"
     },
     "execution_count": 50,
     "metadata": {},
     "output_type": "execute_result"
    }
   ],
   "source": [
    "fin_ratio.shape"
   ],
   "metadata": {
    "collapsed": false
   }
  },
  {
   "cell_type": "code",
   "execution_count": 33,
   "outputs": [],
   "source": [
    "data = pd.merge(IBES_CRSP, fin_ratio, how='inner', on=['PERMNO', 'rankdate'])"
   ],
   "metadata": {
    "collapsed": false
   }
  },
  {
   "cell_type": "markdown",
   "source": [
    "### Generate the whole dataset separated by the FPI"
   ],
   "metadata": {
    "collapsed": false
   }
  },
  {
   "cell_type": "code",
   "execution_count": 34,
   "outputs": [],
   "source": [
    "# divyield列是str格式，需要先转换\n",
    "data['divyield'] = data['divyield'].str.replace('%', '').astype('float')"
   ],
   "metadata": {
    "collapsed": false
   }
  },
  {
   "cell_type": "code",
   "execution_count": 35,
   "outputs": [],
   "source": [
    "A1_RF = data[data.FPI == 1].reset_index(drop=True)\n",
    "A2_RF = data[data.FPI == 2].reset_index(drop=True)\n",
    "Q1_RF = data[data.FPI == 6].reset_index(drop=True)\n",
    "Q2_RF = data[data.FPI == 7].reset_index(drop=True)\n",
    "Q3_RF = data[data.FPI == 8].reset_index(drop=True)"
   ],
   "metadata": {
    "collapsed": false
   }
  },
  {
   "cell_type": "code",
   "execution_count": 42,
   "outputs": [
    {
     "data": {
      "text/plain": "         PERMNO         PRC       RET  CFACPR  CFACSHR rankdate TICKER  \\\n0         10001     6.75000  0.017778     3.0      3.0  1989-03   GFGC   \n1         10001     7.25000  0.074074     3.0      3.0  1989-04   GFGC   \n2         10001     7.00000 -0.034483     3.0      3.0  1989-05   GFGC   \n3         10001     7.00000  0.017143     3.0      3.0  1989-06   GFGC   \n4         10001     7.25000  0.035714     3.0      3.0  1989-07   GFGC   \n...         ...         ...       ...     ...      ...      ...    ...   \n1435618   93436   775.47998  0.054042     3.0      3.0  2021-09   TSLA   \n1435619   93436  1114.00000  0.436530     3.0      3.0  2021-10   TSLA   \n1435620   93436  1144.76001  0.027612     3.0      3.0  2021-11   TSLA   \n1435621   93436  1056.78003 -0.076855     3.0      3.0  2021-12   TSLA   \n1435622   93436   936.71997 -0.113609     3.0      3.0  2022-01   TSLA   \n\n              PENDS  VALUE  past_eps  ... sale_nwc rd_sale  adv_sale  \\\n0        1989-06-30   1.21      0.55  ...  152.923   0.000       0.0   \n1        1989-06-30   1.21      0.55  ...  152.923   0.000       0.0   \n2        1989-06-30   1.21      0.55  ...   39.029   0.000       0.0   \n3        1989-06-30   1.21      0.55  ...   39.029   0.000       0.0   \n4        1989-06-30   1.21      0.55  ...   39.029   0.000       0.0   \n...             ...    ...       ...  ...      ...     ...       ...   \n1435618  2021-12-31   6.78      2.24  ...    4.287   0.051       0.0   \n1435619  2021-12-31   6.78      2.24  ...    4.287   0.051       0.0   \n1435620  2021-12-31   6.78      2.24  ...    4.988   0.051       0.0   \n1435621  2021-12-31   6.78      2.24  ...    4.988   0.051       0.0   \n1435622  2021-12-31   6.78      2.24  ...    4.988   0.051       0.0   \n\n         staff_sale  accrual     ptb  PEG_trailing  divyield  PEG_1yrforward  \\\n0               0.0    0.027   0.873         0.018      7.11           0.274   \n1               0.0    0.027   0.937         0.020      6.62           0.295   \n2               0.0   -0.015   0.842         0.025      6.86           0.251   \n3               0.0   -0.015   0.845         0.025      6.86           0.251   \n4               0.0   -0.015   0.875         0.026      6.62           0.260   \n...             ...      ...     ...           ...       ...             ...   \n1435618         0.0   -0.143  31.310           NaN       NaN           0.982   \n1435619         0.0   -0.143  44.989           NaN       NaN           1.321   \n1435620         0.0   -0.123  42.433         1.107       NaN           0.727   \n1435621         0.0   -0.123  40.313         1.022       NaN           0.671   \n1435622         0.0   -0.123  35.733         0.906       NaN           0.543   \n\n         PEG_ltgforward  \n0                   NaN  \n1                   NaN  \n2                   NaN  \n3                   NaN  \n4                   NaN  \n...                 ...  \n1435618           3.828  \n1435619           5.274  \n1435620           1.696  \n1435621           1.565  \n1435622           1.279  \n\n[1435623 rows x 85 columns]",
      "text/html": "<div>\n<style scoped>\n    .dataframe tbody tr th:only-of-type {\n        vertical-align: middle;\n    }\n\n    .dataframe tbody tr th {\n        vertical-align: top;\n    }\n\n    .dataframe thead th {\n        text-align: right;\n    }\n</style>\n<table border=\"1\" class=\"dataframe\">\n  <thead>\n    <tr style=\"text-align: right;\">\n      <th></th>\n      <th>PERMNO</th>\n      <th>PRC</th>\n      <th>RET</th>\n      <th>CFACPR</th>\n      <th>CFACSHR</th>\n      <th>rankdate</th>\n      <th>TICKER</th>\n      <th>PENDS</th>\n      <th>VALUE</th>\n      <th>past_eps</th>\n      <th>...</th>\n      <th>sale_nwc</th>\n      <th>rd_sale</th>\n      <th>adv_sale</th>\n      <th>staff_sale</th>\n      <th>accrual</th>\n      <th>ptb</th>\n      <th>PEG_trailing</th>\n      <th>divyield</th>\n      <th>PEG_1yrforward</th>\n      <th>PEG_ltgforward</th>\n    </tr>\n  </thead>\n  <tbody>\n    <tr>\n      <th>0</th>\n      <td>10001</td>\n      <td>6.75000</td>\n      <td>0.017778</td>\n      <td>3.0</td>\n      <td>3.0</td>\n      <td>1989-03</td>\n      <td>GFGC</td>\n      <td>1989-06-30</td>\n      <td>1.21</td>\n      <td>0.55</td>\n      <td>...</td>\n      <td>152.923</td>\n      <td>0.000</td>\n      <td>0.0</td>\n      <td>0.0</td>\n      <td>0.027</td>\n      <td>0.873</td>\n      <td>0.018</td>\n      <td>7.11</td>\n      <td>0.274</td>\n      <td>NaN</td>\n    </tr>\n    <tr>\n      <th>1</th>\n      <td>10001</td>\n      <td>7.25000</td>\n      <td>0.074074</td>\n      <td>3.0</td>\n      <td>3.0</td>\n      <td>1989-04</td>\n      <td>GFGC</td>\n      <td>1989-06-30</td>\n      <td>1.21</td>\n      <td>0.55</td>\n      <td>...</td>\n      <td>152.923</td>\n      <td>0.000</td>\n      <td>0.0</td>\n      <td>0.0</td>\n      <td>0.027</td>\n      <td>0.937</td>\n      <td>0.020</td>\n      <td>6.62</td>\n      <td>0.295</td>\n      <td>NaN</td>\n    </tr>\n    <tr>\n      <th>2</th>\n      <td>10001</td>\n      <td>7.00000</td>\n      <td>-0.034483</td>\n      <td>3.0</td>\n      <td>3.0</td>\n      <td>1989-05</td>\n      <td>GFGC</td>\n      <td>1989-06-30</td>\n      <td>1.21</td>\n      <td>0.55</td>\n      <td>...</td>\n      <td>39.029</td>\n      <td>0.000</td>\n      <td>0.0</td>\n      <td>0.0</td>\n      <td>-0.015</td>\n      <td>0.842</td>\n      <td>0.025</td>\n      <td>6.86</td>\n      <td>0.251</td>\n      <td>NaN</td>\n    </tr>\n    <tr>\n      <th>3</th>\n      <td>10001</td>\n      <td>7.00000</td>\n      <td>0.017143</td>\n      <td>3.0</td>\n      <td>3.0</td>\n      <td>1989-06</td>\n      <td>GFGC</td>\n      <td>1989-06-30</td>\n      <td>1.21</td>\n      <td>0.55</td>\n      <td>...</td>\n      <td>39.029</td>\n      <td>0.000</td>\n      <td>0.0</td>\n      <td>0.0</td>\n      <td>-0.015</td>\n      <td>0.845</td>\n      <td>0.025</td>\n      <td>6.86</td>\n      <td>0.251</td>\n      <td>NaN</td>\n    </tr>\n    <tr>\n      <th>4</th>\n      <td>10001</td>\n      <td>7.25000</td>\n      <td>0.035714</td>\n      <td>3.0</td>\n      <td>3.0</td>\n      <td>1989-07</td>\n      <td>GFGC</td>\n      <td>1989-06-30</td>\n      <td>1.21</td>\n      <td>0.55</td>\n      <td>...</td>\n      <td>39.029</td>\n      <td>0.000</td>\n      <td>0.0</td>\n      <td>0.0</td>\n      <td>-0.015</td>\n      <td>0.875</td>\n      <td>0.026</td>\n      <td>6.62</td>\n      <td>0.260</td>\n      <td>NaN</td>\n    </tr>\n    <tr>\n      <th>...</th>\n      <td>...</td>\n      <td>...</td>\n      <td>...</td>\n      <td>...</td>\n      <td>...</td>\n      <td>...</td>\n      <td>...</td>\n      <td>...</td>\n      <td>...</td>\n      <td>...</td>\n      <td>...</td>\n      <td>...</td>\n      <td>...</td>\n      <td>...</td>\n      <td>...</td>\n      <td>...</td>\n      <td>...</td>\n      <td>...</td>\n      <td>...</td>\n      <td>...</td>\n      <td>...</td>\n    </tr>\n    <tr>\n      <th>1435618</th>\n      <td>93436</td>\n      <td>775.47998</td>\n      <td>0.054042</td>\n      <td>3.0</td>\n      <td>3.0</td>\n      <td>2021-09</td>\n      <td>TSLA</td>\n      <td>2021-12-31</td>\n      <td>6.78</td>\n      <td>2.24</td>\n      <td>...</td>\n      <td>4.287</td>\n      <td>0.051</td>\n      <td>0.0</td>\n      <td>0.0</td>\n      <td>-0.143</td>\n      <td>31.310</td>\n      <td>NaN</td>\n      <td>NaN</td>\n      <td>0.982</td>\n      <td>3.828</td>\n    </tr>\n    <tr>\n      <th>1435619</th>\n      <td>93436</td>\n      <td>1114.00000</td>\n      <td>0.436530</td>\n      <td>3.0</td>\n      <td>3.0</td>\n      <td>2021-10</td>\n      <td>TSLA</td>\n      <td>2021-12-31</td>\n      <td>6.78</td>\n      <td>2.24</td>\n      <td>...</td>\n      <td>4.287</td>\n      <td>0.051</td>\n      <td>0.0</td>\n      <td>0.0</td>\n      <td>-0.143</td>\n      <td>44.989</td>\n      <td>NaN</td>\n      <td>NaN</td>\n      <td>1.321</td>\n      <td>5.274</td>\n    </tr>\n    <tr>\n      <th>1435620</th>\n      <td>93436</td>\n      <td>1144.76001</td>\n      <td>0.027612</td>\n      <td>3.0</td>\n      <td>3.0</td>\n      <td>2021-11</td>\n      <td>TSLA</td>\n      <td>2021-12-31</td>\n      <td>6.78</td>\n      <td>2.24</td>\n      <td>...</td>\n      <td>4.988</td>\n      <td>0.051</td>\n      <td>0.0</td>\n      <td>0.0</td>\n      <td>-0.123</td>\n      <td>42.433</td>\n      <td>1.107</td>\n      <td>NaN</td>\n      <td>0.727</td>\n      <td>1.696</td>\n    </tr>\n    <tr>\n      <th>1435621</th>\n      <td>93436</td>\n      <td>1056.78003</td>\n      <td>-0.076855</td>\n      <td>3.0</td>\n      <td>3.0</td>\n      <td>2021-12</td>\n      <td>TSLA</td>\n      <td>2021-12-31</td>\n      <td>6.78</td>\n      <td>2.24</td>\n      <td>...</td>\n      <td>4.988</td>\n      <td>0.051</td>\n      <td>0.0</td>\n      <td>0.0</td>\n      <td>-0.123</td>\n      <td>40.313</td>\n      <td>1.022</td>\n      <td>NaN</td>\n      <td>0.671</td>\n      <td>1.565</td>\n    </tr>\n    <tr>\n      <th>1435622</th>\n      <td>93436</td>\n      <td>936.71997</td>\n      <td>-0.113609</td>\n      <td>3.0</td>\n      <td>3.0</td>\n      <td>2022-01</td>\n      <td>TSLA</td>\n      <td>2021-12-31</td>\n      <td>6.78</td>\n      <td>2.24</td>\n      <td>...</td>\n      <td>4.988</td>\n      <td>0.051</td>\n      <td>0.0</td>\n      <td>0.0</td>\n      <td>-0.123</td>\n      <td>35.733</td>\n      <td>0.906</td>\n      <td>NaN</td>\n      <td>0.543</td>\n      <td>1.279</td>\n    </tr>\n  </tbody>\n</table>\n<p>1435623 rows × 85 columns</p>\n</div>"
     },
     "execution_count": 42,
     "metadata": {},
     "output_type": "execute_result"
    }
   ],
   "source": [
    "A1_RF"
   ],
   "metadata": {
    "collapsed": false
   }
  },
  {
   "cell_type": "code",
   "execution_count": 36,
   "outputs": [],
   "source": [
    "\n",
    "for horizon in ('A1_', 'A2_', 'Q1_', 'Q2_', 'Q3_'):\n",
    "    Forecast = eval(horizon + 'RF')\n",
    "    Forecast['adj_actual'] = Forecast.groupby('PERMNO', group_keys=True).apply(lambda x: x['VALUE'] * x['CFACSHR'].shift(1) / x['CFACSHR']).values\n",
    "    Forecast.dropna(subset='adj_actual', inplace=True)\n",
    "    # Forecast.sort_values(by=['rankdate'], ascending=True, inplace=True)\n",
    "    # for predictor in predictors:\n",
    "        # Forecast[predictor] = Forecast.groupby('rankdate', group_keys=True).apply(lambda df: df[predictor].fillna(df[predictor].median()))\n",
    "        # Forecast[predictor] = Forecast.groupby('rankdate', group_keys=True)[predictor].apply(winsorization).values\n",
    "    Forecast.sort_values(by=['PERMNO', 'rankdate'], ascending=True, inplace=True)\n",
    "    Forecast.reset_index(drop=True, inplace=True)\n",
    "    Forecast.to_csv(f\"C:\\\\Users\\\\ASUS\\\\Desktop\\\\data\\\\{horizon}.csv\", index=False)"
   ],
   "metadata": {
    "collapsed": false
   }
  }
 ],
 "metadata": {
  "kernelspec": {
   "display_name": "Python 3",
   "language": "python",
   "name": "python3"
  },
  "language_info": {
   "codemirror_mode": {
    "name": "ipython",
    "version": 2
   },
   "file_extension": ".py",
   "mimetype": "text/x-python",
   "name": "python",
   "nbconvert_exporter": "python",
   "pygments_lexer": "ipython2",
   "version": "2.7.6"
  }
 },
 "nbformat": 4,
 "nbformat_minor": 0
}
